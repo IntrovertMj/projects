{
  "nbformat": 4,
  "nbformat_minor": 0,
  "metadata": {
    "colab": {
      "name": "NLP_topic_labelling.ipynb",
      "provenance": []
    },
    "kernelspec": {
      "name": "python3",
      "display_name": "Python 3"
    }
  },
  "cells": [
    {
      "cell_type": "markdown",
      "metadata": {
        "id": "k-agOAuF52GM"
      },
      "source": [
        "# **NLP Topic Labelling**\n",
        "\n",
        "\n",
        "Topic analysis is a Natural Language Processing (NLP) technique that allows us to automatically extract meaning from texts by identifying recurrent themes or topics.\n",
        "\n",
        "Importing the necessary libraries to read the data. The data is composed of reviews, already sorted by Positive and Negative of Hotels in a region."
      ]
    },
    {
      "cell_type": "code",
      "metadata": {
        "id": "am2l18CXt6kF"
      },
      "source": [
        "import pandas as pd\n",
        "import pyarrow.parquet as pq\n",
        "import numpy as np"
      ],
      "execution_count": null,
      "outputs": []
    },
    {
      "cell_type": "markdown",
      "metadata": {
        "id": "DkU4cpjB6Wdh"
      },
      "source": [
        "Mounting the google drive."
      ]
    },
    {
      "cell_type": "code",
      "metadata": {
        "colab": {
          "base_uri": "https://localhost:8080/"
        },
        "id": "KQgS4LxO8lfU",
        "outputId": "49e16e43-b117-46ae-83a7-d55740d24ddd"
      },
      "source": [
        "from google.colab import drive\n",
        "drive.mount('/content/drive')"
      ],
      "execution_count": null,
      "outputs": [
        {
          "output_type": "stream",
          "text": [
            "Drive already mounted at /content/drive; to attempt to forcibly remount, call drive.mount(\"/content/drive\", force_remount=True).\n"
          ],
          "name": "stdout"
        }
      ]
    },
    {
      "cell_type": "markdown",
      "metadata": {
        "id": "ok_rgYjS6Ynb"
      },
      "source": [
        "Storing the data in a pandas dataframe. The data is in parquet format that is read using the pyarrow engine."
      ]
    },
    {
      "cell_type": "code",
      "metadata": {
        "id": "_HCyN1Aj2ruV"
      },
      "source": [
        "df = pd.read_parquet('/content/drive/MyDrive/Copy of split.parquet', engine='pyarrow')"
      ],
      "execution_count": null,
      "outputs": []
    },
    {
      "cell_type": "code",
      "metadata": {
        "colab": {
          "base_uri": "https://localhost:8080/",
          "height": 196
        },
        "id": "Zy7494pW87Kq",
        "outputId": "3ec33d50-3322-45e1-8503-2680bbdb5bb1"
      },
      "source": [
        "df.head()"
      ],
      "execution_count": null,
      "outputs": [
        {
          "output_type": "execute_result",
          "data": {
            "text/html": [
              "<div>\n",
              "<style scoped>\n",
              "    .dataframe tbody tr th:only-of-type {\n",
              "        vertical-align: middle;\n",
              "    }\n",
              "\n",
              "    .dataframe tbody tr th {\n",
              "        vertical-align: top;\n",
              "    }\n",
              "\n",
              "    .dataframe thead th {\n",
              "        text-align: right;\n",
              "    }\n",
              "</style>\n",
              "<table border=\"1\" class=\"dataframe\">\n",
              "  <thead>\n",
              "    <tr style=\"text-align: right;\">\n",
              "      <th></th>\n",
              "      <th>Positive</th>\n",
              "      <th>Negative</th>\n",
              "    </tr>\n",
              "  </thead>\n",
              "  <tbody>\n",
              "    <tr>\n",
              "      <th>0</th>\n",
              "      <td>[positive]: service is good, location is the h...</td>\n",
              "      <td>[negative]: handling guests with irresponsible...</td>\n",
              "    </tr>\n",
              "    <tr>\n",
              "      <th>1</th>\n",
              "      <td>[positive]: great place</td>\n",
              "      <td>None</td>\n",
              "    </tr>\n",
              "    <tr>\n",
              "      <th>2</th>\n",
              "      <td>[positive]: the ambience, staff and the locati...</td>\n",
              "      <td>[negative]: nothing which we did not like</td>\n",
              "    </tr>\n",
              "    <tr>\n",
              "      <th>3</th>\n",
              "      <td>[positive]: the place and its ambience was ser...</td>\n",
              "      <td>[negative]: not sharing of bills of restaurant...</td>\n",
              "    </tr>\n",
              "    <tr>\n",
              "      <th>4</th>\n",
              "      <td>[positive]: excellent property at a wonderful ...</td>\n",
              "      <td>[negative]: food can be further improved</td>\n",
              "    </tr>\n",
              "  </tbody>\n",
              "</table>\n",
              "</div>"
            ],
            "text/plain": [
              "                                            Positive                                           Negative\n",
              "0  [positive]: service is good, location is the h...  [negative]: handling guests with irresponsible...\n",
              "1                            [positive]: great place                                               None\n",
              "2  [positive]: the ambience, staff and the locati...          [negative]: nothing which we did not like\n",
              "3  [positive]: the place and its ambience was ser...  [negative]: not sharing of bills of restaurant...\n",
              "4  [positive]: excellent property at a wonderful ...           [negative]: food can be further improved"
            ]
          },
          "metadata": {
            "tags": []
          },
          "execution_count": 50
        }
      ]
    },
    {
      "cell_type": "code",
      "metadata": {
        "colab": {
          "base_uri": "https://localhost:8080/"
        },
        "id": "2Z7rSq5H9AAI",
        "outputId": "bda782dd-cbac-43af-894e-b40c9463c96c"
      },
      "source": [
        "df.info()"
      ],
      "execution_count": null,
      "outputs": [
        {
          "output_type": "stream",
          "text": [
            "<class 'pandas.core.frame.DataFrame'>\n",
            "Int64Index: 797005 entries, 0 to 797098\n",
            "Data columns (total 2 columns):\n",
            " #   Column    Non-Null Count   Dtype \n",
            "---  ------    --------------   ----- \n",
            " 0   Positive  117886 non-null  object\n",
            " 1   Negative  115359 non-null  object\n",
            "dtypes: object(2)\n",
            "memory usage: 18.2+ MB\n"
          ],
          "name": "stdout"
        }
      ]
    },
    {
      "cell_type": "markdown",
      "metadata": {
        "id": "2y3ovgVj6kFc"
      },
      "source": [
        "Splitting the dataset into two dataframes consisting of Positive and Negative reviews."
      ]
    },
    {
      "cell_type": "code",
      "metadata": {
        "id": "Hdn4kkyo9DYS"
      },
      "source": [
        "df1 = df['Positive']\n",
        "df2 = df['Negative']"
      ],
      "execution_count": null,
      "outputs": []
    },
    {
      "cell_type": "code",
      "metadata": {
        "colab": {
          "base_uri": "https://localhost:8080/"
        },
        "id": "l5Y2pkUA9P4H",
        "outputId": "eed8196e-09fd-4079-826c-2c8b9164261e"
      },
      "source": [
        "df1.head()"
      ],
      "execution_count": null,
      "outputs": [
        {
          "output_type": "execute_result",
          "data": {
            "text/plain": [
              "0    [positive]: service is good, location is the h...\n",
              "1                              [positive]: great place\n",
              "2    [positive]: the ambience, staff and the locati...\n",
              "3    [positive]: the place and its ambience was ser...\n",
              "4    [positive]: excellent property at a wonderful ...\n",
              "Name: Positive, dtype: object"
            ]
          },
          "metadata": {
            "tags": []
          },
          "execution_count": 53
        }
      ]
    },
    {
      "cell_type": "markdown",
      "metadata": {
        "id": "HmgLBfbC6q5H"
      },
      "source": [
        "Dropping Null values corresponding to rows."
      ]
    },
    {
      "cell_type": "code",
      "metadata": {
        "id": "IxSZSTuf9Sax"
      },
      "source": [
        "df1 = df1.dropna(axis=0,how='any')"
      ],
      "execution_count": null,
      "outputs": []
    },
    {
      "cell_type": "code",
      "metadata": {
        "colab": {
          "base_uri": "https://localhost:8080/"
        },
        "id": "rHShCVkC9XDb",
        "outputId": "78a3b5f0-3925-4005-c97a-2325f5ff1f09"
      },
      "source": [
        "df1.head()"
      ],
      "execution_count": null,
      "outputs": [
        {
          "output_type": "execute_result",
          "data": {
            "text/plain": [
              "0    [positive]: service is good, location is the h...\n",
              "1                              [positive]: great place\n",
              "2    [positive]: the ambience, staff and the locati...\n",
              "3    [positive]: the place and its ambience was ser...\n",
              "4    [positive]: excellent property at a wonderful ...\n",
              "Name: Positive, dtype: object"
            ]
          },
          "metadata": {
            "tags": []
          },
          "execution_count": 55
        }
      ]
    },
    {
      "cell_type": "code",
      "metadata": {
        "colab": {
          "base_uri": "https://localhost:8080/"
        },
        "id": "fTwPh4Q89_5J",
        "outputId": "a1dd0c91-636c-47f2-dadf-135351835a60"
      },
      "source": [
        "df1.count()"
      ],
      "execution_count": null,
      "outputs": [
        {
          "output_type": "execute_result",
          "data": {
            "text/plain": [
              "117886"
            ]
          },
          "metadata": {
            "tags": []
          },
          "execution_count": 56
        }
      ]
    },
    {
      "cell_type": "markdown",
      "metadata": {
        "id": "vKM_JEX_7WJc"
      },
      "source": [
        "**Importing the NLTK Library and its prerequisites.**\n",
        "\n",
        "NLTK is a leading platform for building Python programs to work with human language data. It provides easy-to-use interfaces to over 50 corpora and lexical resources such as WordNet, along with a suite of text processing libraries for classification, tokenization, stemming, tagging, parsing, and semantic reasoning."
      ]
    },
    {
      "cell_type": "code",
      "metadata": {
        "colab": {
          "base_uri": "https://localhost:8080/"
        },
        "id": "E1g-wcIPAj4W",
        "outputId": "2e74b416-c57a-4293-b50c-7b97f40ae360"
      },
      "source": [
        "import string\n",
        "import nltk\n",
        "from nltk import pos_tag\n",
        "from nltk.corpus import stopwords\n",
        "from nltk.tokenize import WhitespaceTokenizer\n",
        "from nltk.stem import WordNetLemmatizer\n",
        "nltk.download('averaged_perceptron_tagger')"
      ],
      "execution_count": null,
      "outputs": [
        {
          "output_type": "stream",
          "text": [
            "[nltk_data] Downloading package averaged_perceptron_tagger to\n",
            "[nltk_data]     /root/nltk_data...\n",
            "[nltk_data]   Package averaged_perceptron_tagger is already up-to-\n",
            "[nltk_data]       date!\n"
          ],
          "name": "stdout"
        },
        {
          "output_type": "execute_result",
          "data": {
            "text/plain": [
              "True"
            ]
          },
          "metadata": {
            "tags": []
          },
          "execution_count": 57
        }
      ]
    },
    {
      "cell_type": "markdown",
      "metadata": {
        "id": "yM7ey7r08BBo"
      },
      "source": [
        "An NLTK interface for WordNet\n",
        "\n",
        "WordNet is a lexical database of English.\n",
        "Using synsets, helps find conceptual relationships between words\n",
        "such as hypernyms, hyponyms, synonyms, antonyms etc."
      ]
    },
    {
      "cell_type": "code",
      "metadata": {
        "colab": {
          "base_uri": "https://localhost:8080/"
        },
        "id": "6NlHo4iEBCnB",
        "outputId": "85542082-e339-43d7-d454-ffea26894757"
      },
      "source": [
        "from nltk.corpus import wordnet\n",
        "import nltk\n",
        "nltk.download('wordnet')"
      ],
      "execution_count": null,
      "outputs": [
        {
          "output_type": "stream",
          "text": [
            "[nltk_data] Downloading package wordnet to /root/nltk_data...\n",
            "[nltk_data]   Package wordnet is already up-to-date!\n"
          ],
          "name": "stdout"
        },
        {
          "output_type": "execute_result",
          "data": {
            "text/plain": [
              "True"
            ]
          },
          "metadata": {
            "tags": []
          },
          "execution_count": 58
        }
      ]
    },
    {
      "cell_type": "code",
      "metadata": {
        "id": "F_2GrwGjBISA"
      },
      "source": [
        "def get_wordnet_pos(pos_tag):\n",
        "    if pos_tag.startswith('J'):\n",
        "        return wordnet.ADJ\n",
        "    elif pos_tag.startswith('V'):\n",
        "        return wordnet.VERB\n",
        "    elif pos_tag.startswith('N'):\n",
        "        return wordnet.NOUN\n",
        "    elif pos_tag.startswith('R'):\n",
        "        return wordnet.ADV\n",
        "    else:\n",
        "        return wordnet.NOUN"
      ],
      "execution_count": null,
      "outputs": []
    },
    {
      "cell_type": "markdown",
      "metadata": {
        "id": "yVaRWAYY8DPo"
      },
      "source": [
        "Function to perform cleaning of sentence, tokenizing and lematizing."
      ]
    },
    {
      "cell_type": "code",
      "metadata": {
        "id": "hvxzVSgI-E3R"
      },
      "source": [
        "def clean_text(text):\n",
        "    # lower text\n",
        "    text = text.lower()\n",
        "    # tokenize text and remove puncutation\n",
        "    text = [word.strip(string.punctuation) for word in text.split(\" \")]\n",
        "    # remove words that contain numbers\n",
        "    text = [word for word in text if not any(c.isdigit() for c in word)]\n",
        "    # remove empty tokens\n",
        "    text = [t for t in text if len(t) > 0]\n",
        "    # pos tag text\n",
        "    pos_tags = pos_tag(text)\n",
        "    # lemmatize text\n",
        "    text = [WordNetLemmatizer().lemmatize(t[0], get_wordnet_pos(t[1])) for t in pos_tags]\n",
        "    # remove words with only one letter\n",
        "    text = [t for t in text if len(t) > 1]\n",
        "    # join all\n",
        "    text = \" \".join(text)\n",
        "    return(text)"
      ],
      "execution_count": null,
      "outputs": []
    },
    {
      "cell_type": "markdown",
      "metadata": {
        "id": "4jqDpvZF8zlt"
      },
      "source": [
        "First we clean the Positive reviews in df1 dataframe."
      ]
    },
    {
      "cell_type": "code",
      "metadata": {
        "id": "AyMgoLWZAgV9"
      },
      "source": [
        "df1[\"cleaned_pos\"] = df1.apply(lambda x: clean_text(x))"
      ],
      "execution_count": null,
      "outputs": []
    },
    {
      "cell_type": "markdown",
      "metadata": {
        "id": "l34Atc7c8Yhf"
      },
      "source": [
        "The cleaned text."
      ]
    },
    {
      "cell_type": "code",
      "metadata": {
        "colab": {
          "base_uri": "https://localhost:8080/"
        },
        "id": "OzUkmudEAx7O",
        "outputId": "217577e5-95f1-45c6-9684-e337fec11919"
      },
      "source": [
        "df1['cleaned_pos'].head(10)"
      ],
      "execution_count": null,
      "outputs": [
        {
          "output_type": "execute_result",
          "data": {
            "text/plain": [
              "0    positive service be good location be the high ...\n",
              "1                                 positive great place\n",
              "2    positive the ambience staff and the location b...\n",
              "3    positive the place and it ambience be serene a...\n",
              "4    positive excellent property at wonderful locat...\n",
              "5    positive the property be beautiful clean and w...\n",
              "6           positive the hotel location be excellent\\n\n",
              "7            positive staff friendly good facilities\\n\n",
              "8    positive facility staff food and overall manag...\n",
              "9             positive fast service and friendly staff\n",
              "Name: Positive, dtype: object"
            ]
          },
          "metadata": {
            "tags": []
          },
          "execution_count": 62
        }
      ]
    },
    {
      "cell_type": "markdown",
      "metadata": {
        "id": "9XDcfz4s8clM"
      },
      "source": [
        "Removing the word 'Positive' from the sentences."
      ]
    },
    {
      "cell_type": "code",
      "metadata": {
        "id": "jnhHOvaVB_Ke"
      },
      "source": [
        "df1['cleaned_pos']=df1['cleaned_pos'].replace('positive','',regex=True).str.strip()"
      ],
      "execution_count": null,
      "outputs": []
    },
    {
      "cell_type": "code",
      "metadata": {
        "colab": {
          "base_uri": "https://localhost:8080/"
        },
        "id": "hs7p5icyCjmj",
        "outputId": "2bcb99ac-9bb1-4e7e-f066-8adf39835ebd"
      },
      "source": [
        "df1['cleaned_pos'].head(10)"
      ],
      "execution_count": null,
      "outputs": [
        {
          "output_type": "execute_result",
          "data": {
            "text/plain": [
              "0    service be good location be the high point hot...\n",
              "1                                          great place\n",
              "2    the ambience staff and the location be excelle...\n",
              "3    the place and it ambience be serene and calm t...\n",
              "4             excellent property at wonderful location\n",
              "5    the property be beautiful clean and welcome th...\n",
              "6                      the hotel location be excellent\n",
              "7                       staff friendly good facilities\n",
              "8           facility staff food and overall management\n",
              "9                      fast service and friendly staff\n",
              "Name: Positive, dtype: object"
            ]
          },
          "metadata": {
            "tags": []
          },
          "execution_count": 64
        }
      ]
    },
    {
      "cell_type": "markdown",
      "metadata": {
        "id": "avZjvaEw85KK"
      },
      "source": [
        "We do the same process for negative reviews."
      ]
    },
    {
      "cell_type": "code",
      "metadata": {
        "id": "iHNTkXl2CmqH"
      },
      "source": [
        "df2 = df2.dropna(axis=0,how='any')"
      ],
      "execution_count": null,
      "outputs": []
    },
    {
      "cell_type": "code",
      "metadata": {
        "colab": {
          "base_uri": "https://localhost:8080/"
        },
        "id": "EyBb2WhUEfqk",
        "outputId": "6be1cd6a-7b85-46af-bec3-ade7ee2dba75"
      },
      "source": [
        "df2.head()"
      ],
      "execution_count": null,
      "outputs": [
        {
          "output_type": "execute_result",
          "data": {
            "text/plain": [
              "0    [negative]: handling guests with irresponsible...\n",
              "2            [negative]: nothing which we did not like\n",
              "3    [negative]: not sharing of bills of restaurant...\n",
              "4             [negative]: food can be further improved\n",
              "5    [negative]: we felt the was not to the standar...\n",
              "Name: Negative, dtype: object"
            ]
          },
          "metadata": {
            "tags": []
          },
          "execution_count": 66
        }
      ]
    },
    {
      "cell_type": "code",
      "metadata": {
        "colab": {
          "base_uri": "https://localhost:8080/"
        },
        "id": "pMkJe5EyEhbp",
        "outputId": "e2493fb3-2994-4b84-bd4f-2c06068ef9b5"
      },
      "source": [
        "df2.count()"
      ],
      "execution_count": null,
      "outputs": [
        {
          "output_type": "execute_result",
          "data": {
            "text/plain": [
              "115359"
            ]
          },
          "metadata": {
            "tags": []
          },
          "execution_count": 67
        }
      ]
    },
    {
      "cell_type": "code",
      "metadata": {
        "id": "PmgSUtsaElVc"
      },
      "source": [
        "df2[\"cleaned_neg\"] = df2.apply(lambda x: clean_text(x))"
      ],
      "execution_count": null,
      "outputs": []
    },
    {
      "cell_type": "code",
      "metadata": {
        "id": "4MD9Fu2pEu-d"
      },
      "source": [
        "df2['cleaned_neg']=df2['cleaned_neg'].replace('negative','',regex=True).str.strip()"
      ],
      "execution_count": null,
      "outputs": []
    },
    {
      "cell_type": "code",
      "metadata": {
        "colab": {
          "base_uri": "https://localhost:8080/"
        },
        "id": "nkgSkNwsFV8b",
        "outputId": "db320026-0226-4f76-aefa-e1a3c5d5af02"
      },
      "source": [
        "df2['cleaned_neg'].head(10)"
      ],
      "execution_count": null,
      "outputs": [
        {
          "output_type": "execute_result",
          "data": {
            "text/plain": [
              "0     handling guest with irresponsible behaviour ho...\n",
              "2                          nothing which we do not like\n",
              "3     not share of bill of restaurant dhikala while ...\n",
              "4                               food can be far improve\n",
              "5     we felt the be not to the standard we would ex...\n",
              "6     the hotel be totally eco friendly which be rar...\n",
              "7     feel it’s over price only male service staff l...\n",
              "10    be the second time that stay here and im both ...\n",
              "11    would have be nice to have double bed try to c...\n",
              "12    try dinner in the hotel spaghetti bolognese it...\n",
              "Name: Negative, dtype: object"
            ]
          },
          "metadata": {
            "tags": []
          },
          "execution_count": 70
        }
      ]
    },
    {
      "cell_type": "code",
      "metadata": {
        "id": "0qoBdnoSQpYo"
      },
      "source": [
        "data = df1.cleaned_pos.values.tolist()"
      ],
      "execution_count": null,
      "outputs": []
    },
    {
      "cell_type": "code",
      "metadata": {
        "id": "RoNRy0cfIo2p"
      },
      "source": [
        "import re, spacy, gensim\n",
        "from pprint import pprint"
      ],
      "execution_count": null,
      "outputs": []
    },
    {
      "cell_type": "markdown",
      "metadata": {
        "id": "0fjDLPSK9BNo"
      },
      "source": [
        "Removing special characters from the text."
      ]
    },
    {
      "cell_type": "code",
      "metadata": {
        "colab": {
          "base_uri": "https://localhost:8080/"
        },
        "id": "w1LKSlNNIAHS",
        "outputId": "66bbcd0f-7a2f-4cdf-ec89-fbecf2025bef"
      },
      "source": [
        "data = [re.sub(r'\\S*@\\S*\\s?', '', sent) for sent in data]\n",
        "data = [re.sub(r'\\s+', ' ', sent) for sent in data]\n",
        "data = [re.sub(r\"\\'\", \"\", sent) for sent in data]\n",
        "pprint(data[:1])"
      ],
      "execution_count": null,
      "outputs": [
        {
          "output_type": "stream",
          "text": [
            "['service be good location be the high point hotel commitment towards '\n",
            " 'environment common area be perfectly clean.']\n"
          ],
          "name": "stdout"
        }
      ]
    },
    {
      "cell_type": "markdown",
      "metadata": {
        "id": "gDTCcpPI9Ozy"
      },
      "source": [
        "Converting the cleaned sentence into a bag of words."
      ]
    },
    {
      "cell_type": "code",
      "metadata": {
        "colab": {
          "base_uri": "https://localhost:8080/"
        },
        "id": "G9GcemMEIjxq",
        "outputId": "5d63186e-1b88-41ea-833f-ec2dbe6bf353"
      },
      "source": [
        "def sent_to_words(sentences):\n",
        "    for sentence in sentences:\n",
        "        yield(gensim.utils.simple_preprocess(str(sentence), deacc=True))  # deacc=True removes punctuations\n",
        "data_words = list(sent_to_words(data))\n",
        "print(data_words[:1])"
      ],
      "execution_count": null,
      "outputs": [
        {
          "output_type": "stream",
          "text": [
            "[['service', 'be', 'good', 'location', 'be', 'the', 'high', 'point', 'hotel', 'commitment', 'towards', 'environment', 'common', 'area', 'be', 'perfectly', 'clean']]\n"
          ],
          "name": "stdout"
        }
      ]
    },
    {
      "cell_type": "markdown",
      "metadata": {
        "id": "OR3HWOiA9V3J"
      },
      "source": [
        "Lemmatizing the text again, seperating the subject from the sentence. "
      ]
    },
    {
      "cell_type": "code",
      "metadata": {
        "id": "yRwexZpBI4wz"
      },
      "source": [
        "def lemmatization(texts, allowed_postags=['NOUN', 'ADJ', 'VERB', 'ADV']): #'NOUN', 'ADJ', 'VERB', 'ADV'\n",
        "    texts_out = []\n",
        "    for sent in texts:\n",
        "        doc = nlp(\" \".join(sent)) \n",
        "        texts_out.append(\" \".join([token.lemma_ if token.lemma_ not in ['-PRON-'] else '' for token in doc if token.pos_ in allowed_postags]))\n",
        "    return texts_out"
      ],
      "execution_count": null,
      "outputs": []
    },
    {
      "cell_type": "code",
      "metadata": {
        "colab": {
          "base_uri": "https://localhost:8080/"
        },
        "id": "92q1HpOqJiOl",
        "outputId": "60589339-de01-4d83-958c-7dc002b56b98"
      },
      "source": [
        "!python3 -m spacy download en"
      ],
      "execution_count": null,
      "outputs": [
        {
          "output_type": "stream",
          "text": [
            "Requirement already satisfied: en_core_web_sm==2.2.5 from https://github.com/explosion/spacy-models/releases/download/en_core_web_sm-2.2.5/en_core_web_sm-2.2.5.tar.gz#egg=en_core_web_sm==2.2.5 in /usr/local/lib/python3.6/dist-packages (2.2.5)\n",
            "Requirement already satisfied: spacy>=2.2.2 in /usr/local/lib/python3.6/dist-packages (from en_core_web_sm==2.2.5) (2.2.4)\n",
            "Requirement already satisfied: numpy>=1.15.0 in /usr/local/lib/python3.6/dist-packages (from spacy>=2.2.2->en_core_web_sm==2.2.5) (1.18.5)\n",
            "Requirement already satisfied: requests<3.0.0,>=2.13.0 in /usr/local/lib/python3.6/dist-packages (from spacy>=2.2.2->en_core_web_sm==2.2.5) (2.23.0)\n",
            "Requirement already satisfied: srsly<1.1.0,>=1.0.2 in /usr/local/lib/python3.6/dist-packages (from spacy>=2.2.2->en_core_web_sm==2.2.5) (1.0.4)\n",
            "Requirement already satisfied: setuptools in /usr/local/lib/python3.6/dist-packages (from spacy>=2.2.2->en_core_web_sm==2.2.5) (50.3.2)\n",
            "Requirement already satisfied: catalogue<1.1.0,>=0.0.7 in /usr/local/lib/python3.6/dist-packages (from spacy>=2.2.2->en_core_web_sm==2.2.5) (1.0.0)\n",
            "Requirement already satisfied: wasabi<1.1.0,>=0.4.0 in /usr/local/lib/python3.6/dist-packages (from spacy>=2.2.2->en_core_web_sm==2.2.5) (0.8.0)\n",
            "Requirement already satisfied: tqdm<5.0.0,>=4.38.0 in /usr/local/lib/python3.6/dist-packages (from spacy>=2.2.2->en_core_web_sm==2.2.5) (4.41.1)\n",
            "Requirement already satisfied: thinc==7.4.0 in /usr/local/lib/python3.6/dist-packages (from spacy>=2.2.2->en_core_web_sm==2.2.5) (7.4.0)\n",
            "Requirement already satisfied: murmurhash<1.1.0,>=0.28.0 in /usr/local/lib/python3.6/dist-packages (from spacy>=2.2.2->en_core_web_sm==2.2.5) (1.0.4)\n",
            "Requirement already satisfied: plac<1.2.0,>=0.9.6 in /usr/local/lib/python3.6/dist-packages (from spacy>=2.2.2->en_core_web_sm==2.2.5) (1.1.3)\n",
            "Requirement already satisfied: preshed<3.1.0,>=3.0.2 in /usr/local/lib/python3.6/dist-packages (from spacy>=2.2.2->en_core_web_sm==2.2.5) (3.0.4)\n",
            "Requirement already satisfied: blis<0.5.0,>=0.4.0 in /usr/local/lib/python3.6/dist-packages (from spacy>=2.2.2->en_core_web_sm==2.2.5) (0.4.1)\n",
            "Requirement already satisfied: cymem<2.1.0,>=2.0.2 in /usr/local/lib/python3.6/dist-packages (from spacy>=2.2.2->en_core_web_sm==2.2.5) (2.0.4)\n",
            "Requirement already satisfied: certifi>=2017.4.17 in /usr/local/lib/python3.6/dist-packages (from requests<3.0.0,>=2.13.0->spacy>=2.2.2->en_core_web_sm==2.2.5) (2020.11.8)\n",
            "Requirement already satisfied: chardet<4,>=3.0.2 in /usr/local/lib/python3.6/dist-packages (from requests<3.0.0,>=2.13.0->spacy>=2.2.2->en_core_web_sm==2.2.5) (3.0.4)\n",
            "Requirement already satisfied: idna<3,>=2.5 in /usr/local/lib/python3.6/dist-packages (from requests<3.0.0,>=2.13.0->spacy>=2.2.2->en_core_web_sm==2.2.5) (2.10)\n",
            "Requirement already satisfied: urllib3!=1.25.0,!=1.25.1,<1.26,>=1.21.1 in /usr/local/lib/python3.6/dist-packages (from requests<3.0.0,>=2.13.0->spacy>=2.2.2->en_core_web_sm==2.2.5) (1.24.3)\n",
            "Requirement already satisfied: importlib-metadata>=0.20; python_version < \"3.8\" in /usr/local/lib/python3.6/dist-packages (from catalogue<1.1.0,>=0.0.7->spacy>=2.2.2->en_core_web_sm==2.2.5) (2.0.0)\n",
            "Requirement already satisfied: zipp>=0.5 in /usr/local/lib/python3.6/dist-packages (from importlib-metadata>=0.20; python_version < \"3.8\"->catalogue<1.1.0,>=0.0.7->spacy>=2.2.2->en_core_web_sm==2.2.5) (3.4.0)\n",
            "\u001b[38;5;2m✔ Download and installation successful\u001b[0m\n",
            "You can now load the model via spacy.load('en_core_web_sm')\n",
            "\u001b[38;5;2m✔ Linking successful\u001b[0m\n",
            "/usr/local/lib/python3.6/dist-packages/en_core_web_sm -->\n",
            "/usr/local/lib/python3.6/dist-packages/spacy/data/en\n",
            "You can now load the model via spacy.load('en')\n"
          ],
          "name": "stdout"
        }
      ]
    },
    {
      "cell_type": "code",
      "metadata": {
        "colab": {
          "base_uri": "https://localhost:8080/"
        },
        "id": "12kihVRDI9jE",
        "outputId": "69ae20e7-268b-4e24-910d-a3ecaca1a881"
      },
      "source": [
        "nlp = spacy.load('en', disable=['parser', 'ner'])\n",
        "# Do lemmatization keeping only Noun, Adj, Verb, Adverb\n",
        "data_lemmatized = lemmatization(data_words, allowed_postags=['NOUN', 'VERB']) #select noun and verb\n",
        "print(data_lemmatized[:2])"
      ],
      "execution_count": null,
      "outputs": [
        {
          "output_type": "stream",
          "text": [
            "['service location point hotel commitment environment area', 'place']\n"
          ],
          "name": "stdout"
        }
      ]
    },
    {
      "cell_type": "markdown",
      "metadata": {
        "id": "RlWQyuUT-dW_"
      },
      "source": [
        "**LDA - Latent Dirichlet allocation**\n",
        "\n",
        "In natural language processing, the latent Dirichlet allocation (LDA) is a generative statistical model that allows sets of observations to be explained by unobserved groups that explain why some parts of the data are similar. For example, if observations are words collected into documents, it posits that each document is a mixture of a small number of topics and that each word's presence is attributable to one of the document's topics. LDA is an example of a topic model and belongs to the machine learning toolbox and in wider sense to the artificial intelligence toolbox."
      ]
    },
    {
      "cell_type": "code",
      "metadata": {
        "id": "-n56mQBaSCZi"
      },
      "source": [
        "from sklearn.decomposition import LatentDirichletAllocation, TruncatedSVD\n",
        "from sklearn.feature_extraction.text import CountVectorizer, TfidfVectorizer\n",
        "from sklearn.model_selection import GridSearchCV"
      ],
      "execution_count": null,
      "outputs": []
    },
    {
      "cell_type": "code",
      "metadata": {
        "id": "PwLPSW3-JCch"
      },
      "source": [
        "vectorizer = CountVectorizer(analyzer='word',       \n",
        "                             min_df=10,\n",
        "                             stop_words='english',             \n",
        "                             lowercase=True,                   \n",
        "                             token_pattern='[a-zA-Z0-9]{3,}',)\n",
        "data_vectorized = vectorizer.fit_transform(data_lemmatized)"
      ],
      "execution_count": null,
      "outputs": []
    },
    {
      "cell_type": "markdown",
      "metadata": {
        "id": "ZHWtbBUL-soG"
      },
      "source": [
        "Training the model on the vectorised data."
      ]
    },
    {
      "cell_type": "code",
      "metadata": {
        "colab": {
          "base_uri": "https://localhost:8080/"
        },
        "id": "eQwL-XVRRZvG",
        "outputId": "e1508183-fe14-44b9-830f-fd82cea118ee"
      },
      "source": [
        "lda_model = LatentDirichletAllocation(n_components=7,               # Number of topics\n",
        "                                      max_iter=10,               \n",
        "                                      learning_method='online',   \n",
        "                                      random_state=100,          \n",
        "                                      batch_size=128,            \n",
        "                                      evaluate_every = -1,       \n",
        "                                      n_jobs = -1,)\n",
        "lda_output = lda_model.fit_transform(data_vectorized)\n",
        "print(lda_model)"
      ],
      "execution_count": null,
      "outputs": [
        {
          "output_type": "stream",
          "text": [
            "LatentDirichletAllocation(batch_size=128, doc_topic_prior=None,\n",
            "                          evaluate_every=-1, learning_decay=0.7,\n",
            "                          learning_method='online', learning_offset=10.0,\n",
            "                          max_doc_update_iter=100, max_iter=10,\n",
            "                          mean_change_tol=0.001, n_components=7, n_jobs=-1,\n",
            "                          perp_tol=0.1, random_state=100, topic_word_prior=None,\n",
            "                          total_samples=1000000.0, verbose=0)\n"
          ],
          "name": "stdout"
        }
      ]
    },
    {
      "cell_type": "markdown",
      "metadata": {
        "id": "E_cohFD0-76c"
      },
      "source": [
        "Log likelihood and Perplexity - to check how well the model will perform."
      ]
    },
    {
      "cell_type": "code",
      "metadata": {
        "colab": {
          "base_uri": "https://localhost:8080/"
        },
        "id": "d0H76ruQTSnu",
        "outputId": "63a420dd-e386-4732-c392-77ed03b24293"
      },
      "source": [
        "# Log Likelyhood: Higher the better\n",
        "print(\"Log Likelihood: \", lda_model.score(data_vectorized))\n",
        "# Perplexity: Lower the better. Perplexity = exp(-1. * log-likelihood per word)\n",
        "print(\"Perplexity: \", lda_model.perplexity(data_vectorized))\n",
        "# See model parameters\n",
        "pprint(lda_model.get_params())"
      ],
      "execution_count": null,
      "outputs": [
        {
          "output_type": "stream",
          "text": [
            "Log Likelihood:  -1828287.2259879634\n",
            "Perplexity:  205.5528220551506\n",
            "{'batch_size': 128,\n",
            " 'doc_topic_prior': None,\n",
            " 'evaluate_every': -1,\n",
            " 'learning_decay': 0.7,\n",
            " 'learning_method': 'online',\n",
            " 'learning_offset': 10.0,\n",
            " 'max_doc_update_iter': 100,\n",
            " 'max_iter': 10,\n",
            " 'mean_change_tol': 0.001,\n",
            " 'n_components': 7,\n",
            " 'n_jobs': -1,\n",
            " 'perp_tol': 0.1,\n",
            " 'random_state': 100,\n",
            " 'topic_word_prior': None,\n",
            " 'total_samples': 1000000.0,\n",
            " 'verbose': 0}\n"
          ],
          "name": "stdout"
        }
      ]
    },
    {
      "cell_type": "code",
      "metadata": {
        "colab": {
          "base_uri": "https://localhost:8080/"
        },
        "id": "b7hEbDw5WmYO",
        "outputId": "3fc2dee3-0b32-42c5-a429-9cf9ca5e4901"
      },
      "source": [
        "pip install pyLDAvis"
      ],
      "execution_count": null,
      "outputs": [
        {
          "output_type": "stream",
          "text": [
            "Requirement already satisfied: pyLDAvis in /usr/local/lib/python3.6/dist-packages (2.1.2)\n",
            "Requirement already satisfied: future in /usr/local/lib/python3.6/dist-packages (from pyLDAvis) (0.16.0)\n",
            "Requirement already satisfied: jinja2>=2.7.2 in /usr/local/lib/python3.6/dist-packages (from pyLDAvis) (2.11.2)\n",
            "Requirement already satisfied: scipy>=0.18.0 in /usr/local/lib/python3.6/dist-packages (from pyLDAvis) (1.4.1)\n",
            "Requirement already satisfied: pandas>=0.17.0 in /usr/local/lib/python3.6/dist-packages (from pyLDAvis) (1.1.4)\n",
            "Requirement already satisfied: numexpr in /usr/local/lib/python3.6/dist-packages (from pyLDAvis) (2.7.1)\n",
            "Requirement already satisfied: wheel>=0.23.0 in /usr/local/lib/python3.6/dist-packages (from pyLDAvis) (0.35.1)\n",
            "Requirement already satisfied: pytest in /usr/local/lib/python3.6/dist-packages (from pyLDAvis) (3.6.4)\n",
            "Requirement already satisfied: joblib>=0.8.4 in /usr/local/lib/python3.6/dist-packages (from pyLDAvis) (0.17.0)\n",
            "Requirement already satisfied: funcy in /usr/local/lib/python3.6/dist-packages (from pyLDAvis) (1.15)\n",
            "Requirement already satisfied: numpy>=1.9.2 in /usr/local/lib/python3.6/dist-packages (from pyLDAvis) (1.18.5)\n",
            "Requirement already satisfied: MarkupSafe>=0.23 in /usr/local/lib/python3.6/dist-packages (from jinja2>=2.7.2->pyLDAvis) (1.1.1)\n",
            "Requirement already satisfied: pytz>=2017.2 in /usr/local/lib/python3.6/dist-packages (from pandas>=0.17.0->pyLDAvis) (2018.9)\n",
            "Requirement already satisfied: python-dateutil>=2.7.3 in /usr/local/lib/python3.6/dist-packages (from pandas>=0.17.0->pyLDAvis) (2.8.1)\n",
            "Requirement already satisfied: setuptools in /usr/local/lib/python3.6/dist-packages (from pytest->pyLDAvis) (50.3.2)\n",
            "Requirement already satisfied: pluggy<0.8,>=0.5 in /usr/local/lib/python3.6/dist-packages (from pytest->pyLDAvis) (0.7.1)\n",
            "Requirement already satisfied: six>=1.10.0 in /usr/local/lib/python3.6/dist-packages (from pytest->pyLDAvis) (1.15.0)\n",
            "Requirement already satisfied: atomicwrites>=1.0 in /usr/local/lib/python3.6/dist-packages (from pytest->pyLDAvis) (1.4.0)\n",
            "Requirement already satisfied: py>=1.5.0 in /usr/local/lib/python3.6/dist-packages (from pytest->pyLDAvis) (1.9.0)\n",
            "Requirement already satisfied: more-itertools>=4.0.0 in /usr/local/lib/python3.6/dist-packages (from pytest->pyLDAvis) (8.6.0)\n",
            "Requirement already satisfied: attrs>=17.4.0 in /usr/local/lib/python3.6/dist-packages (from pytest->pyLDAvis) (20.3.0)\n"
          ],
          "name": "stdout"
        }
      ]
    },
    {
      "cell_type": "code",
      "metadata": {
        "id": "NVc6vYSyWi4h"
      },
      "source": [
        "import pyLDAvis\n",
        "import pyLDAvis.sklearn\n",
        "import matplotlib.pyplot as plt\n",
        "%matplotlib inline"
      ],
      "execution_count": null,
      "outputs": []
    },
    {
      "cell_type": "markdown",
      "metadata": {
        "id": "N6cf9Qzb_JM-"
      },
      "source": [
        "We choose the best parameters using Grid Search algorithm. \n",
        "\n",
        "Grid search is essentially an optimization algorithm which lets you select the best parameters for your optimization problem from a list of parameter options that you provide, hence automating the 'trial-and-error' method."
      ]
    },
    {
      "cell_type": "code",
      "metadata": {
        "colab": {
          "base_uri": "https://localhost:8080/"
        },
        "id": "wPlW0rfoVzks",
        "outputId": "d6d2b8ee-ea5b-451d-bd40-d6ab90ee3ea0"
      },
      "source": [
        "search_params = {'n_components': [10, 15, 20, 25, 30], 'learning_decay': [.5, .7, .9]}\n",
        "# Init the Model\n",
        "lda = LatentDirichletAllocation(max_iter=5, learning_method='online', learning_offset=50.,random_state=0)\n",
        "# Init Grid Search Class\n",
        "model = GridSearchCV(lda, param_grid=search_params)\n",
        "# Do the Grid Search\n",
        "model.fit(data_vectorized)"
      ],
      "execution_count": null,
      "outputs": [
        {
          "output_type": "execute_result",
          "data": {
            "text/plain": [
              "GridSearchCV(cv=None, error_score=nan,\n",
              "             estimator=LatentDirichletAllocation(batch_size=128,\n",
              "                                                 doc_topic_prior=None,\n",
              "                                                 evaluate_every=-1,\n",
              "                                                 learning_decay=0.7,\n",
              "                                                 learning_method='online',\n",
              "                                                 learning_offset=50.0,\n",
              "                                                 max_doc_update_iter=100,\n",
              "                                                 max_iter=5,\n",
              "                                                 mean_change_tol=0.001,\n",
              "                                                 n_components=10, n_jobs=None,\n",
              "                                                 perp_tol=0.1, random_state=0,\n",
              "                                                 topic_word_prior=None,\n",
              "                                                 total_samples=1000000.0,\n",
              "                                                 verbose=0),\n",
              "             iid='deprecated', n_jobs=None,\n",
              "             param_grid={'learning_decay': [0.5, 0.7, 0.9],\n",
              "                         'n_components': [10, 15, 20, 25, 30]},\n",
              "             pre_dispatch='2*n_jobs', refit=True, return_train_score=False,\n",
              "             scoring=None, verbose=0)"
            ]
          },
          "metadata": {
            "tags": []
          },
          "execution_count": 84
        }
      ]
    },
    {
      "cell_type": "code",
      "metadata": {
        "id": "1T4JtgShWruU",
        "colab": {
          "base_uri": "https://localhost:8080/"
        },
        "outputId": "271b5589-52ad-491f-b4c2-adbd24322110"
      },
      "source": [
        "# Best Model\n",
        "best_lda_model = model.best_estimator_\n",
        "# Model Parameters\n",
        "print(\"Best Model's Params: \", model.best_params_)\n",
        "# Log Likelihood Score\n",
        "print(\"Best Log Likelihood Score: \", model.best_score_)\n",
        "# Perplexity\n",
        "print(\"Model Perplexity: \", best_lda_model.perplexity(data_vectorized))"
      ],
      "execution_count": null,
      "outputs": [
        {
          "output_type": "stream",
          "text": [
            "Best Model's Params:  {'learning_decay': 0.9, 'n_components': 10}\n",
            "Best Log Likelihood Score:  -389047.79156347434\n",
            "Model Perplexity:  225.18111502992446\n"
          ],
          "name": "stdout"
        }
      ]
    },
    {
      "cell_type": "markdown",
      "metadata": {
        "id": "Fi1_nJS3_UhO"
      },
      "source": [
        "Creating the topic matrix."
      ]
    },
    {
      "cell_type": "code",
      "metadata": {
        "colab": {
          "base_uri": "https://localhost:8080/",
          "height": 332
        },
        "id": "Nn7AQUV29xzU",
        "outputId": "6323ea24-54f8-4bf4-bd56-cdb7ed9228f7"
      },
      "source": [
        "# Create Document — Topic Matrix\n",
        "lda_output = best_lda_model.transform(data_vectorized)\n",
        "# column names\n",
        "topicnames = ['Topic' + str(i) for i in range(best_lda_model.n_components)]\n",
        "# index names\n",
        "docnames = ['Doc' + str(i) for i in range(len(data))]\n",
        "# Make the pandas dataframe\n",
        "df_document_topic = pd.DataFrame(np.round(lda_output, 2), columns=topicnames, index=docnames)\n",
        "# Get dominant topic for each document\n",
        "dominant_topic = np.argmax(df_document_topic.values, axis=1)\n",
        "df_document_topic['dominant_topic'] = dominant_topic\n",
        "# Styling\n",
        "def color_green(val):\n",
        " color = 'green' if val > .1 else 'black'\n",
        " return 'color: {col}'.format(col=color)\n",
        "def make_bold(val):\n",
        " weight = 700 if val > .1 else 400\n",
        " return 'font-weight: {weight}'.format(weight=weight)\n",
        "# Apply Style\n",
        "df_document_topics = df_document_topic.head(15).style.applymap(color_green).applymap(make_bold)\n",
        "df_document_topics"
      ],
      "execution_count": null,
      "outputs": [
        {
          "output_type": "execute_result",
          "data": {
            "text/html": [
              "<style  type=\"text/css\" >\n",
              "#T_eeeb4f26_3876_11eb_93f1_0242ac1c0002row0_col0,#T_eeeb4f26_3876_11eb_93f1_0242ac1c0002row0_col1,#T_eeeb4f26_3876_11eb_93f1_0242ac1c0002row0_col3,#T_eeeb4f26_3876_11eb_93f1_0242ac1c0002row0_col10,#T_eeeb4f26_3876_11eb_93f1_0242ac1c0002row1_col8,#T_eeeb4f26_3876_11eb_93f1_0242ac1c0002row1_col10,#T_eeeb4f26_3876_11eb_93f1_0242ac1c0002row2_col0,#T_eeeb4f26_3876_11eb_93f1_0242ac1c0002row2_col5,#T_eeeb4f26_3876_11eb_93f1_0242ac1c0002row3_col8,#T_eeeb4f26_3876_11eb_93f1_0242ac1c0002row3_col10,#T_eeeb4f26_3876_11eb_93f1_0242ac1c0002row4_col0,#T_eeeb4f26_3876_11eb_93f1_0242ac1c0002row4_col2,#T_eeeb4f26_3876_11eb_93f1_0242ac1c0002row5_col2,#T_eeeb4f26_3876_11eb_93f1_0242ac1c0002row5_col5,#T_eeeb4f26_3876_11eb_93f1_0242ac1c0002row5_col7,#T_eeeb4f26_3876_11eb_93f1_0242ac1c0002row5_col10,#T_eeeb4f26_3876_11eb_93f1_0242ac1c0002row6_col0,#T_eeeb4f26_3876_11eb_93f1_0242ac1c0002row6_col6,#T_eeeb4f26_3876_11eb_93f1_0242ac1c0002row7_col5,#T_eeeb4f26_3876_11eb_93f1_0242ac1c0002row7_col10,#T_eeeb4f26_3876_11eb_93f1_0242ac1c0002row8_col5,#T_eeeb4f26_3876_11eb_93f1_0242ac1c0002row8_col10,#T_eeeb4f26_3876_11eb_93f1_0242ac1c0002row9_col5,#T_eeeb4f26_3876_11eb_93f1_0242ac1c0002row9_col10,#T_eeeb4f26_3876_11eb_93f1_0242ac1c0002row10_col5,#T_eeeb4f26_3876_11eb_93f1_0242ac1c0002row10_col10,#T_eeeb4f26_3876_11eb_93f1_0242ac1c0002row11_col6,#T_eeeb4f26_3876_11eb_93f1_0242ac1c0002row11_col9,#T_eeeb4f26_3876_11eb_93f1_0242ac1c0002row11_col10,#T_eeeb4f26_3876_11eb_93f1_0242ac1c0002row12_col9,#T_eeeb4f26_3876_11eb_93f1_0242ac1c0002row12_col10,#T_eeeb4f26_3876_11eb_93f1_0242ac1c0002row13_col0,#T_eeeb4f26_3876_11eb_93f1_0242ac1c0002row13_col2,#T_eeeb4f26_3876_11eb_93f1_0242ac1c0002row13_col10,#T_eeeb4f26_3876_11eb_93f1_0242ac1c0002row14_col4,#T_eeeb4f26_3876_11eb_93f1_0242ac1c0002row14_col10{\n",
              "            color:  green;\n",
              "            font-weight:  700;\n",
              "        }#T_eeeb4f26_3876_11eb_93f1_0242ac1c0002row0_col2,#T_eeeb4f26_3876_11eb_93f1_0242ac1c0002row0_col4,#T_eeeb4f26_3876_11eb_93f1_0242ac1c0002row0_col5,#T_eeeb4f26_3876_11eb_93f1_0242ac1c0002row0_col6,#T_eeeb4f26_3876_11eb_93f1_0242ac1c0002row0_col7,#T_eeeb4f26_3876_11eb_93f1_0242ac1c0002row0_col8,#T_eeeb4f26_3876_11eb_93f1_0242ac1c0002row0_col9,#T_eeeb4f26_3876_11eb_93f1_0242ac1c0002row1_col0,#T_eeeb4f26_3876_11eb_93f1_0242ac1c0002row1_col1,#T_eeeb4f26_3876_11eb_93f1_0242ac1c0002row1_col2,#T_eeeb4f26_3876_11eb_93f1_0242ac1c0002row1_col3,#T_eeeb4f26_3876_11eb_93f1_0242ac1c0002row1_col4,#T_eeeb4f26_3876_11eb_93f1_0242ac1c0002row1_col5,#T_eeeb4f26_3876_11eb_93f1_0242ac1c0002row1_col6,#T_eeeb4f26_3876_11eb_93f1_0242ac1c0002row1_col7,#T_eeeb4f26_3876_11eb_93f1_0242ac1c0002row1_col9,#T_eeeb4f26_3876_11eb_93f1_0242ac1c0002row2_col1,#T_eeeb4f26_3876_11eb_93f1_0242ac1c0002row2_col2,#T_eeeb4f26_3876_11eb_93f1_0242ac1c0002row2_col3,#T_eeeb4f26_3876_11eb_93f1_0242ac1c0002row2_col4,#T_eeeb4f26_3876_11eb_93f1_0242ac1c0002row2_col6,#T_eeeb4f26_3876_11eb_93f1_0242ac1c0002row2_col7,#T_eeeb4f26_3876_11eb_93f1_0242ac1c0002row2_col8,#T_eeeb4f26_3876_11eb_93f1_0242ac1c0002row2_col9,#T_eeeb4f26_3876_11eb_93f1_0242ac1c0002row2_col10,#T_eeeb4f26_3876_11eb_93f1_0242ac1c0002row3_col0,#T_eeeb4f26_3876_11eb_93f1_0242ac1c0002row3_col1,#T_eeeb4f26_3876_11eb_93f1_0242ac1c0002row3_col2,#T_eeeb4f26_3876_11eb_93f1_0242ac1c0002row3_col3,#T_eeeb4f26_3876_11eb_93f1_0242ac1c0002row3_col4,#T_eeeb4f26_3876_11eb_93f1_0242ac1c0002row3_col5,#T_eeeb4f26_3876_11eb_93f1_0242ac1c0002row3_col6,#T_eeeb4f26_3876_11eb_93f1_0242ac1c0002row3_col7,#T_eeeb4f26_3876_11eb_93f1_0242ac1c0002row3_col9,#T_eeeb4f26_3876_11eb_93f1_0242ac1c0002row4_col1,#T_eeeb4f26_3876_11eb_93f1_0242ac1c0002row4_col3,#T_eeeb4f26_3876_11eb_93f1_0242ac1c0002row4_col4,#T_eeeb4f26_3876_11eb_93f1_0242ac1c0002row4_col5,#T_eeeb4f26_3876_11eb_93f1_0242ac1c0002row4_col6,#T_eeeb4f26_3876_11eb_93f1_0242ac1c0002row4_col7,#T_eeeb4f26_3876_11eb_93f1_0242ac1c0002row4_col8,#T_eeeb4f26_3876_11eb_93f1_0242ac1c0002row4_col9,#T_eeeb4f26_3876_11eb_93f1_0242ac1c0002row4_col10,#T_eeeb4f26_3876_11eb_93f1_0242ac1c0002row5_col0,#T_eeeb4f26_3876_11eb_93f1_0242ac1c0002row5_col1,#T_eeeb4f26_3876_11eb_93f1_0242ac1c0002row5_col3,#T_eeeb4f26_3876_11eb_93f1_0242ac1c0002row5_col4,#T_eeeb4f26_3876_11eb_93f1_0242ac1c0002row5_col6,#T_eeeb4f26_3876_11eb_93f1_0242ac1c0002row5_col8,#T_eeeb4f26_3876_11eb_93f1_0242ac1c0002row5_col9,#T_eeeb4f26_3876_11eb_93f1_0242ac1c0002row6_col1,#T_eeeb4f26_3876_11eb_93f1_0242ac1c0002row6_col2,#T_eeeb4f26_3876_11eb_93f1_0242ac1c0002row6_col3,#T_eeeb4f26_3876_11eb_93f1_0242ac1c0002row6_col4,#T_eeeb4f26_3876_11eb_93f1_0242ac1c0002row6_col5,#T_eeeb4f26_3876_11eb_93f1_0242ac1c0002row6_col7,#T_eeeb4f26_3876_11eb_93f1_0242ac1c0002row6_col8,#T_eeeb4f26_3876_11eb_93f1_0242ac1c0002row6_col9,#T_eeeb4f26_3876_11eb_93f1_0242ac1c0002row6_col10,#T_eeeb4f26_3876_11eb_93f1_0242ac1c0002row7_col0,#T_eeeb4f26_3876_11eb_93f1_0242ac1c0002row7_col1,#T_eeeb4f26_3876_11eb_93f1_0242ac1c0002row7_col2,#T_eeeb4f26_3876_11eb_93f1_0242ac1c0002row7_col3,#T_eeeb4f26_3876_11eb_93f1_0242ac1c0002row7_col4,#T_eeeb4f26_3876_11eb_93f1_0242ac1c0002row7_col6,#T_eeeb4f26_3876_11eb_93f1_0242ac1c0002row7_col7,#T_eeeb4f26_3876_11eb_93f1_0242ac1c0002row7_col8,#T_eeeb4f26_3876_11eb_93f1_0242ac1c0002row7_col9,#T_eeeb4f26_3876_11eb_93f1_0242ac1c0002row8_col0,#T_eeeb4f26_3876_11eb_93f1_0242ac1c0002row8_col1,#T_eeeb4f26_3876_11eb_93f1_0242ac1c0002row8_col2,#T_eeeb4f26_3876_11eb_93f1_0242ac1c0002row8_col3,#T_eeeb4f26_3876_11eb_93f1_0242ac1c0002row8_col4,#T_eeeb4f26_3876_11eb_93f1_0242ac1c0002row8_col6,#T_eeeb4f26_3876_11eb_93f1_0242ac1c0002row8_col7,#T_eeeb4f26_3876_11eb_93f1_0242ac1c0002row8_col8,#T_eeeb4f26_3876_11eb_93f1_0242ac1c0002row8_col9,#T_eeeb4f26_3876_11eb_93f1_0242ac1c0002row9_col0,#T_eeeb4f26_3876_11eb_93f1_0242ac1c0002row9_col1,#T_eeeb4f26_3876_11eb_93f1_0242ac1c0002row9_col2,#T_eeeb4f26_3876_11eb_93f1_0242ac1c0002row9_col3,#T_eeeb4f26_3876_11eb_93f1_0242ac1c0002row9_col4,#T_eeeb4f26_3876_11eb_93f1_0242ac1c0002row9_col6,#T_eeeb4f26_3876_11eb_93f1_0242ac1c0002row9_col7,#T_eeeb4f26_3876_11eb_93f1_0242ac1c0002row9_col8,#T_eeeb4f26_3876_11eb_93f1_0242ac1c0002row9_col9,#T_eeeb4f26_3876_11eb_93f1_0242ac1c0002row10_col0,#T_eeeb4f26_3876_11eb_93f1_0242ac1c0002row10_col1,#T_eeeb4f26_3876_11eb_93f1_0242ac1c0002row10_col2,#T_eeeb4f26_3876_11eb_93f1_0242ac1c0002row10_col3,#T_eeeb4f26_3876_11eb_93f1_0242ac1c0002row10_col4,#T_eeeb4f26_3876_11eb_93f1_0242ac1c0002row10_col6,#T_eeeb4f26_3876_11eb_93f1_0242ac1c0002row10_col7,#T_eeeb4f26_3876_11eb_93f1_0242ac1c0002row10_col8,#T_eeeb4f26_3876_11eb_93f1_0242ac1c0002row10_col9,#T_eeeb4f26_3876_11eb_93f1_0242ac1c0002row11_col0,#T_eeeb4f26_3876_11eb_93f1_0242ac1c0002row11_col1,#T_eeeb4f26_3876_11eb_93f1_0242ac1c0002row11_col2,#T_eeeb4f26_3876_11eb_93f1_0242ac1c0002row11_col3,#T_eeeb4f26_3876_11eb_93f1_0242ac1c0002row11_col4,#T_eeeb4f26_3876_11eb_93f1_0242ac1c0002row11_col5,#T_eeeb4f26_3876_11eb_93f1_0242ac1c0002row11_col7,#T_eeeb4f26_3876_11eb_93f1_0242ac1c0002row11_col8,#T_eeeb4f26_3876_11eb_93f1_0242ac1c0002row12_col0,#T_eeeb4f26_3876_11eb_93f1_0242ac1c0002row12_col1,#T_eeeb4f26_3876_11eb_93f1_0242ac1c0002row12_col2,#T_eeeb4f26_3876_11eb_93f1_0242ac1c0002row12_col3,#T_eeeb4f26_3876_11eb_93f1_0242ac1c0002row12_col4,#T_eeeb4f26_3876_11eb_93f1_0242ac1c0002row12_col5,#T_eeeb4f26_3876_11eb_93f1_0242ac1c0002row12_col6,#T_eeeb4f26_3876_11eb_93f1_0242ac1c0002row12_col7,#T_eeeb4f26_3876_11eb_93f1_0242ac1c0002row12_col8,#T_eeeb4f26_3876_11eb_93f1_0242ac1c0002row13_col1,#T_eeeb4f26_3876_11eb_93f1_0242ac1c0002row13_col3,#T_eeeb4f26_3876_11eb_93f1_0242ac1c0002row13_col4,#T_eeeb4f26_3876_11eb_93f1_0242ac1c0002row13_col5,#T_eeeb4f26_3876_11eb_93f1_0242ac1c0002row13_col6,#T_eeeb4f26_3876_11eb_93f1_0242ac1c0002row13_col7,#T_eeeb4f26_3876_11eb_93f1_0242ac1c0002row13_col8,#T_eeeb4f26_3876_11eb_93f1_0242ac1c0002row13_col9,#T_eeeb4f26_3876_11eb_93f1_0242ac1c0002row14_col0,#T_eeeb4f26_3876_11eb_93f1_0242ac1c0002row14_col1,#T_eeeb4f26_3876_11eb_93f1_0242ac1c0002row14_col2,#T_eeeb4f26_3876_11eb_93f1_0242ac1c0002row14_col3,#T_eeeb4f26_3876_11eb_93f1_0242ac1c0002row14_col5,#T_eeeb4f26_3876_11eb_93f1_0242ac1c0002row14_col6,#T_eeeb4f26_3876_11eb_93f1_0242ac1c0002row14_col7,#T_eeeb4f26_3876_11eb_93f1_0242ac1c0002row14_col8,#T_eeeb4f26_3876_11eb_93f1_0242ac1c0002row14_col9{\n",
              "            color:  black;\n",
              "            font-weight:  400;\n",
              "        }</style><table id=\"T_eeeb4f26_3876_11eb_93f1_0242ac1c0002\" ><thead>    <tr>        <th class=\"blank level0\" ></th>        <th class=\"col_heading level0 col0\" >Topic0</th>        <th class=\"col_heading level0 col1\" >Topic1</th>        <th class=\"col_heading level0 col2\" >Topic2</th>        <th class=\"col_heading level0 col3\" >Topic3</th>        <th class=\"col_heading level0 col4\" >Topic4</th>        <th class=\"col_heading level0 col5\" >Topic5</th>        <th class=\"col_heading level0 col6\" >Topic6</th>        <th class=\"col_heading level0 col7\" >Topic7</th>        <th class=\"col_heading level0 col8\" >Topic8</th>        <th class=\"col_heading level0 col9\" >Topic9</th>        <th class=\"col_heading level0 col10\" >dominant_topic</th>    </tr></thead><tbody>\n",
              "                <tr>\n",
              "                        <th id=\"T_eeeb4f26_3876_11eb_93f1_0242ac1c0002level0_row0\" class=\"row_heading level0 row0\" >Doc0</th>\n",
              "                        <td id=\"T_eeeb4f26_3876_11eb_93f1_0242ac1c0002row0_col0\" class=\"data row0 col0\" >0.160000</td>\n",
              "                        <td id=\"T_eeeb4f26_3876_11eb_93f1_0242ac1c0002row0_col1\" class=\"data row0 col1\" >0.300000</td>\n",
              "                        <td id=\"T_eeeb4f26_3876_11eb_93f1_0242ac1c0002row0_col2\" class=\"data row0 col2\" >0.010000</td>\n",
              "                        <td id=\"T_eeeb4f26_3876_11eb_93f1_0242ac1c0002row0_col3\" class=\"data row0 col3\" >0.440000</td>\n",
              "                        <td id=\"T_eeeb4f26_3876_11eb_93f1_0242ac1c0002row0_col4\" class=\"data row0 col4\" >0.010000</td>\n",
              "                        <td id=\"T_eeeb4f26_3876_11eb_93f1_0242ac1c0002row0_col5\" class=\"data row0 col5\" >0.010000</td>\n",
              "                        <td id=\"T_eeeb4f26_3876_11eb_93f1_0242ac1c0002row0_col6\" class=\"data row0 col6\" >0.010000</td>\n",
              "                        <td id=\"T_eeeb4f26_3876_11eb_93f1_0242ac1c0002row0_col7\" class=\"data row0 col7\" >0.010000</td>\n",
              "                        <td id=\"T_eeeb4f26_3876_11eb_93f1_0242ac1c0002row0_col8\" class=\"data row0 col8\" >0.010000</td>\n",
              "                        <td id=\"T_eeeb4f26_3876_11eb_93f1_0242ac1c0002row0_col9\" class=\"data row0 col9\" >0.010000</td>\n",
              "                        <td id=\"T_eeeb4f26_3876_11eb_93f1_0242ac1c0002row0_col10\" class=\"data row0 col10\" >3</td>\n",
              "            </tr>\n",
              "            <tr>\n",
              "                        <th id=\"T_eeeb4f26_3876_11eb_93f1_0242ac1c0002level0_row1\" class=\"row_heading level0 row1\" >Doc1</th>\n",
              "                        <td id=\"T_eeeb4f26_3876_11eb_93f1_0242ac1c0002row1_col0\" class=\"data row1 col0\" >0.050000</td>\n",
              "                        <td id=\"T_eeeb4f26_3876_11eb_93f1_0242ac1c0002row1_col1\" class=\"data row1 col1\" >0.050000</td>\n",
              "                        <td id=\"T_eeeb4f26_3876_11eb_93f1_0242ac1c0002row1_col2\" class=\"data row1 col2\" >0.050000</td>\n",
              "                        <td id=\"T_eeeb4f26_3876_11eb_93f1_0242ac1c0002row1_col3\" class=\"data row1 col3\" >0.050000</td>\n",
              "                        <td id=\"T_eeeb4f26_3876_11eb_93f1_0242ac1c0002row1_col4\" class=\"data row1 col4\" >0.050000</td>\n",
              "                        <td id=\"T_eeeb4f26_3876_11eb_93f1_0242ac1c0002row1_col5\" class=\"data row1 col5\" >0.050000</td>\n",
              "                        <td id=\"T_eeeb4f26_3876_11eb_93f1_0242ac1c0002row1_col6\" class=\"data row1 col6\" >0.050000</td>\n",
              "                        <td id=\"T_eeeb4f26_3876_11eb_93f1_0242ac1c0002row1_col7\" class=\"data row1 col7\" >0.050000</td>\n",
              "                        <td id=\"T_eeeb4f26_3876_11eb_93f1_0242ac1c0002row1_col8\" class=\"data row1 col8\" >0.550000</td>\n",
              "                        <td id=\"T_eeeb4f26_3876_11eb_93f1_0242ac1c0002row1_col9\" class=\"data row1 col9\" >0.050000</td>\n",
              "                        <td id=\"T_eeeb4f26_3876_11eb_93f1_0242ac1c0002row1_col10\" class=\"data row1 col10\" >8</td>\n",
              "            </tr>\n",
              "            <tr>\n",
              "                        <th id=\"T_eeeb4f26_3876_11eb_93f1_0242ac1c0002level0_row2\" class=\"row_heading level0 row2\" >Doc2</th>\n",
              "                        <td id=\"T_eeeb4f26_3876_11eb_93f1_0242ac1c0002row2_col0\" class=\"data row2 col0\" >0.630000</td>\n",
              "                        <td id=\"T_eeeb4f26_3876_11eb_93f1_0242ac1c0002row2_col1\" class=\"data row2 col1\" >0.020000</td>\n",
              "                        <td id=\"T_eeeb4f26_3876_11eb_93f1_0242ac1c0002row2_col2\" class=\"data row2 col2\" >0.020000</td>\n",
              "                        <td id=\"T_eeeb4f26_3876_11eb_93f1_0242ac1c0002row2_col3\" class=\"data row2 col3\" >0.020000</td>\n",
              "                        <td id=\"T_eeeb4f26_3876_11eb_93f1_0242ac1c0002row2_col4\" class=\"data row2 col4\" >0.020000</td>\n",
              "                        <td id=\"T_eeeb4f26_3876_11eb_93f1_0242ac1c0002row2_col5\" class=\"data row2 col5\" >0.210000</td>\n",
              "                        <td id=\"T_eeeb4f26_3876_11eb_93f1_0242ac1c0002row2_col6\" class=\"data row2 col6\" >0.020000</td>\n",
              "                        <td id=\"T_eeeb4f26_3876_11eb_93f1_0242ac1c0002row2_col7\" class=\"data row2 col7\" >0.020000</td>\n",
              "                        <td id=\"T_eeeb4f26_3876_11eb_93f1_0242ac1c0002row2_col8\" class=\"data row2 col8\" >0.020000</td>\n",
              "                        <td id=\"T_eeeb4f26_3876_11eb_93f1_0242ac1c0002row2_col9\" class=\"data row2 col9\" >0.020000</td>\n",
              "                        <td id=\"T_eeeb4f26_3876_11eb_93f1_0242ac1c0002row2_col10\" class=\"data row2 col10\" >0</td>\n",
              "            </tr>\n",
              "            <tr>\n",
              "                        <th id=\"T_eeeb4f26_3876_11eb_93f1_0242ac1c0002level0_row3\" class=\"row_heading level0 row3\" >Doc3</th>\n",
              "                        <td id=\"T_eeeb4f26_3876_11eb_93f1_0242ac1c0002row3_col0\" class=\"data row3 col0\" >0.010000</td>\n",
              "                        <td id=\"T_eeeb4f26_3876_11eb_93f1_0242ac1c0002row3_col1\" class=\"data row3 col1\" >0.010000</td>\n",
              "                        <td id=\"T_eeeb4f26_3876_11eb_93f1_0242ac1c0002row3_col2\" class=\"data row3 col2\" >0.010000</td>\n",
              "                        <td id=\"T_eeeb4f26_3876_11eb_93f1_0242ac1c0002row3_col3\" class=\"data row3 col3\" >0.010000</td>\n",
              "                        <td id=\"T_eeeb4f26_3876_11eb_93f1_0242ac1c0002row3_col4\" class=\"data row3 col4\" >0.010000</td>\n",
              "                        <td id=\"T_eeeb4f26_3876_11eb_93f1_0242ac1c0002row3_col5\" class=\"data row3 col5\" >0.010000</td>\n",
              "                        <td id=\"T_eeeb4f26_3876_11eb_93f1_0242ac1c0002row3_col6\" class=\"data row3 col6\" >0.010000</td>\n",
              "                        <td id=\"T_eeeb4f26_3876_11eb_93f1_0242ac1c0002row3_col7\" class=\"data row3 col7\" >0.010000</td>\n",
              "                        <td id=\"T_eeeb4f26_3876_11eb_93f1_0242ac1c0002row3_col8\" class=\"data row3 col8\" >0.900000</td>\n",
              "                        <td id=\"T_eeeb4f26_3876_11eb_93f1_0242ac1c0002row3_col9\" class=\"data row3 col9\" >0.010000</td>\n",
              "                        <td id=\"T_eeeb4f26_3876_11eb_93f1_0242ac1c0002row3_col10\" class=\"data row3 col10\" >8</td>\n",
              "            </tr>\n",
              "            <tr>\n",
              "                        <th id=\"T_eeeb4f26_3876_11eb_93f1_0242ac1c0002level0_row4\" class=\"row_heading level0 row4\" >Doc4</th>\n",
              "                        <td id=\"T_eeeb4f26_3876_11eb_93f1_0242ac1c0002row4_col0\" class=\"data row4 col0\" >0.370000</td>\n",
              "                        <td id=\"T_eeeb4f26_3876_11eb_93f1_0242ac1c0002row4_col1\" class=\"data row4 col1\" >0.030000</td>\n",
              "                        <td id=\"T_eeeb4f26_3876_11eb_93f1_0242ac1c0002row4_col2\" class=\"data row4 col2\" >0.370000</td>\n",
              "                        <td id=\"T_eeeb4f26_3876_11eb_93f1_0242ac1c0002row4_col3\" class=\"data row4 col3\" >0.030000</td>\n",
              "                        <td id=\"T_eeeb4f26_3876_11eb_93f1_0242ac1c0002row4_col4\" class=\"data row4 col4\" >0.030000</td>\n",
              "                        <td id=\"T_eeeb4f26_3876_11eb_93f1_0242ac1c0002row4_col5\" class=\"data row4 col5\" >0.030000</td>\n",
              "                        <td id=\"T_eeeb4f26_3876_11eb_93f1_0242ac1c0002row4_col6\" class=\"data row4 col6\" >0.030000</td>\n",
              "                        <td id=\"T_eeeb4f26_3876_11eb_93f1_0242ac1c0002row4_col7\" class=\"data row4 col7\" >0.030000</td>\n",
              "                        <td id=\"T_eeeb4f26_3876_11eb_93f1_0242ac1c0002row4_col8\" class=\"data row4 col8\" >0.030000</td>\n",
              "                        <td id=\"T_eeeb4f26_3876_11eb_93f1_0242ac1c0002row4_col9\" class=\"data row4 col9\" >0.030000</td>\n",
              "                        <td id=\"T_eeeb4f26_3876_11eb_93f1_0242ac1c0002row4_col10\" class=\"data row4 col10\" >0</td>\n",
              "            </tr>\n",
              "            <tr>\n",
              "                        <th id=\"T_eeeb4f26_3876_11eb_93f1_0242ac1c0002level0_row5\" class=\"row_heading level0 row5\" >Doc5</th>\n",
              "                        <td id=\"T_eeeb4f26_3876_11eb_93f1_0242ac1c0002row5_col0\" class=\"data row5 col0\" >0.030000</td>\n",
              "                        <td id=\"T_eeeb4f26_3876_11eb_93f1_0242ac1c0002row5_col1\" class=\"data row5 col1\" >0.030000</td>\n",
              "                        <td id=\"T_eeeb4f26_3876_11eb_93f1_0242ac1c0002row5_col2\" class=\"data row5 col2\" >0.270000</td>\n",
              "                        <td id=\"T_eeeb4f26_3876_11eb_93f1_0242ac1c0002row5_col3\" class=\"data row5 col3\" >0.030000</td>\n",
              "                        <td id=\"T_eeeb4f26_3876_11eb_93f1_0242ac1c0002row5_col4\" class=\"data row5 col4\" >0.030000</td>\n",
              "                        <td id=\"T_eeeb4f26_3876_11eb_93f1_0242ac1c0002row5_col5\" class=\"data row5 col5\" >0.240000</td>\n",
              "                        <td id=\"T_eeeb4f26_3876_11eb_93f1_0242ac1c0002row5_col6\" class=\"data row5 col6\" >0.030000</td>\n",
              "                        <td id=\"T_eeeb4f26_3876_11eb_93f1_0242ac1c0002row5_col7\" class=\"data row5 col7\" >0.320000</td>\n",
              "                        <td id=\"T_eeeb4f26_3876_11eb_93f1_0242ac1c0002row5_col8\" class=\"data row5 col8\" >0.030000</td>\n",
              "                        <td id=\"T_eeeb4f26_3876_11eb_93f1_0242ac1c0002row5_col9\" class=\"data row5 col9\" >0.030000</td>\n",
              "                        <td id=\"T_eeeb4f26_3876_11eb_93f1_0242ac1c0002row5_col10\" class=\"data row5 col10\" >7</td>\n",
              "            </tr>\n",
              "            <tr>\n",
              "                        <th id=\"T_eeeb4f26_3876_11eb_93f1_0242ac1c0002level0_row6\" class=\"row_heading level0 row6\" >Doc6</th>\n",
              "                        <td id=\"T_eeeb4f26_3876_11eb_93f1_0242ac1c0002row6_col0\" class=\"data row6 col0\" >0.370000</td>\n",
              "                        <td id=\"T_eeeb4f26_3876_11eb_93f1_0242ac1c0002row6_col1\" class=\"data row6 col1\" >0.030000</td>\n",
              "                        <td id=\"T_eeeb4f26_3876_11eb_93f1_0242ac1c0002row6_col2\" class=\"data row6 col2\" >0.030000</td>\n",
              "                        <td id=\"T_eeeb4f26_3876_11eb_93f1_0242ac1c0002row6_col3\" class=\"data row6 col3\" >0.030000</td>\n",
              "                        <td id=\"T_eeeb4f26_3876_11eb_93f1_0242ac1c0002row6_col4\" class=\"data row6 col4\" >0.030000</td>\n",
              "                        <td id=\"T_eeeb4f26_3876_11eb_93f1_0242ac1c0002row6_col5\" class=\"data row6 col5\" >0.030000</td>\n",
              "                        <td id=\"T_eeeb4f26_3876_11eb_93f1_0242ac1c0002row6_col6\" class=\"data row6 col6\" >0.370000</td>\n",
              "                        <td id=\"T_eeeb4f26_3876_11eb_93f1_0242ac1c0002row6_col7\" class=\"data row6 col7\" >0.030000</td>\n",
              "                        <td id=\"T_eeeb4f26_3876_11eb_93f1_0242ac1c0002row6_col8\" class=\"data row6 col8\" >0.030000</td>\n",
              "                        <td id=\"T_eeeb4f26_3876_11eb_93f1_0242ac1c0002row6_col9\" class=\"data row6 col9\" >0.030000</td>\n",
              "                        <td id=\"T_eeeb4f26_3876_11eb_93f1_0242ac1c0002row6_col10\" class=\"data row6 col10\" >0</td>\n",
              "            </tr>\n",
              "            <tr>\n",
              "                        <th id=\"T_eeeb4f26_3876_11eb_93f1_0242ac1c0002level0_row7\" class=\"row_heading level0 row7\" >Doc7</th>\n",
              "                        <td id=\"T_eeeb4f26_3876_11eb_93f1_0242ac1c0002row7_col0\" class=\"data row7 col0\" >0.030000</td>\n",
              "                        <td id=\"T_eeeb4f26_3876_11eb_93f1_0242ac1c0002row7_col1\" class=\"data row7 col1\" >0.030000</td>\n",
              "                        <td id=\"T_eeeb4f26_3876_11eb_93f1_0242ac1c0002row7_col2\" class=\"data row7 col2\" >0.030000</td>\n",
              "                        <td id=\"T_eeeb4f26_3876_11eb_93f1_0242ac1c0002row7_col3\" class=\"data row7 col3\" >0.030000</td>\n",
              "                        <td id=\"T_eeeb4f26_3876_11eb_93f1_0242ac1c0002row7_col4\" class=\"data row7 col4\" >0.030000</td>\n",
              "                        <td id=\"T_eeeb4f26_3876_11eb_93f1_0242ac1c0002row7_col5\" class=\"data row7 col5\" >0.700000</td>\n",
              "                        <td id=\"T_eeeb4f26_3876_11eb_93f1_0242ac1c0002row7_col6\" class=\"data row7 col6\" >0.030000</td>\n",
              "                        <td id=\"T_eeeb4f26_3876_11eb_93f1_0242ac1c0002row7_col7\" class=\"data row7 col7\" >0.030000</td>\n",
              "                        <td id=\"T_eeeb4f26_3876_11eb_93f1_0242ac1c0002row7_col8\" class=\"data row7 col8\" >0.030000</td>\n",
              "                        <td id=\"T_eeeb4f26_3876_11eb_93f1_0242ac1c0002row7_col9\" class=\"data row7 col9\" >0.030000</td>\n",
              "                        <td id=\"T_eeeb4f26_3876_11eb_93f1_0242ac1c0002row7_col10\" class=\"data row7 col10\" >5</td>\n",
              "            </tr>\n",
              "            <tr>\n",
              "                        <th id=\"T_eeeb4f26_3876_11eb_93f1_0242ac1c0002level0_row8\" class=\"row_heading level0 row8\" >Doc8</th>\n",
              "                        <td id=\"T_eeeb4f26_3876_11eb_93f1_0242ac1c0002row8_col0\" class=\"data row8 col0\" >0.020000</td>\n",
              "                        <td id=\"T_eeeb4f26_3876_11eb_93f1_0242ac1c0002row8_col1\" class=\"data row8 col1\" >0.020000</td>\n",
              "                        <td id=\"T_eeeb4f26_3876_11eb_93f1_0242ac1c0002row8_col2\" class=\"data row8 col2\" >0.020000</td>\n",
              "                        <td id=\"T_eeeb4f26_3876_11eb_93f1_0242ac1c0002row8_col3\" class=\"data row8 col3\" >0.020000</td>\n",
              "                        <td id=\"T_eeeb4f26_3876_11eb_93f1_0242ac1c0002row8_col4\" class=\"data row8 col4\" >0.020000</td>\n",
              "                        <td id=\"T_eeeb4f26_3876_11eb_93f1_0242ac1c0002row8_col5\" class=\"data row8 col5\" >0.820000</td>\n",
              "                        <td id=\"T_eeeb4f26_3876_11eb_93f1_0242ac1c0002row8_col6\" class=\"data row8 col6\" >0.020000</td>\n",
              "                        <td id=\"T_eeeb4f26_3876_11eb_93f1_0242ac1c0002row8_col7\" class=\"data row8 col7\" >0.020000</td>\n",
              "                        <td id=\"T_eeeb4f26_3876_11eb_93f1_0242ac1c0002row8_col8\" class=\"data row8 col8\" >0.020000</td>\n",
              "                        <td id=\"T_eeeb4f26_3876_11eb_93f1_0242ac1c0002row8_col9\" class=\"data row8 col9\" >0.020000</td>\n",
              "                        <td id=\"T_eeeb4f26_3876_11eb_93f1_0242ac1c0002row8_col10\" class=\"data row8 col10\" >5</td>\n",
              "            </tr>\n",
              "            <tr>\n",
              "                        <th id=\"T_eeeb4f26_3876_11eb_93f1_0242ac1c0002level0_row9\" class=\"row_heading level0 row9\" >Doc9</th>\n",
              "                        <td id=\"T_eeeb4f26_3876_11eb_93f1_0242ac1c0002row9_col0\" class=\"data row9 col0\" >0.030000</td>\n",
              "                        <td id=\"T_eeeb4f26_3876_11eb_93f1_0242ac1c0002row9_col1\" class=\"data row9 col1\" >0.030000</td>\n",
              "                        <td id=\"T_eeeb4f26_3876_11eb_93f1_0242ac1c0002row9_col2\" class=\"data row9 col2\" >0.030000</td>\n",
              "                        <td id=\"T_eeeb4f26_3876_11eb_93f1_0242ac1c0002row9_col3\" class=\"data row9 col3\" >0.030000</td>\n",
              "                        <td id=\"T_eeeb4f26_3876_11eb_93f1_0242ac1c0002row9_col4\" class=\"data row9 col4\" >0.030000</td>\n",
              "                        <td id=\"T_eeeb4f26_3876_11eb_93f1_0242ac1c0002row9_col5\" class=\"data row9 col5\" >0.700000</td>\n",
              "                        <td id=\"T_eeeb4f26_3876_11eb_93f1_0242ac1c0002row9_col6\" class=\"data row9 col6\" >0.030000</td>\n",
              "                        <td id=\"T_eeeb4f26_3876_11eb_93f1_0242ac1c0002row9_col7\" class=\"data row9 col7\" >0.030000</td>\n",
              "                        <td id=\"T_eeeb4f26_3876_11eb_93f1_0242ac1c0002row9_col8\" class=\"data row9 col8\" >0.030000</td>\n",
              "                        <td id=\"T_eeeb4f26_3876_11eb_93f1_0242ac1c0002row9_col9\" class=\"data row9 col9\" >0.030000</td>\n",
              "                        <td id=\"T_eeeb4f26_3876_11eb_93f1_0242ac1c0002row9_col10\" class=\"data row9 col10\" >5</td>\n",
              "            </tr>\n",
              "            <tr>\n",
              "                        <th id=\"T_eeeb4f26_3876_11eb_93f1_0242ac1c0002level0_row10\" class=\"row_heading level0 row10\" >Doc10</th>\n",
              "                        <td id=\"T_eeeb4f26_3876_11eb_93f1_0242ac1c0002row10_col0\" class=\"data row10 col0\" >0.050000</td>\n",
              "                        <td id=\"T_eeeb4f26_3876_11eb_93f1_0242ac1c0002row10_col1\" class=\"data row10 col1\" >0.050000</td>\n",
              "                        <td id=\"T_eeeb4f26_3876_11eb_93f1_0242ac1c0002row10_col2\" class=\"data row10 col2\" >0.050000</td>\n",
              "                        <td id=\"T_eeeb4f26_3876_11eb_93f1_0242ac1c0002row10_col3\" class=\"data row10 col3\" >0.050000</td>\n",
              "                        <td id=\"T_eeeb4f26_3876_11eb_93f1_0242ac1c0002row10_col4\" class=\"data row10 col4\" >0.050000</td>\n",
              "                        <td id=\"T_eeeb4f26_3876_11eb_93f1_0242ac1c0002row10_col5\" class=\"data row10 col5\" >0.550000</td>\n",
              "                        <td id=\"T_eeeb4f26_3876_11eb_93f1_0242ac1c0002row10_col6\" class=\"data row10 col6\" >0.050000</td>\n",
              "                        <td id=\"T_eeeb4f26_3876_11eb_93f1_0242ac1c0002row10_col7\" class=\"data row10 col7\" >0.050000</td>\n",
              "                        <td id=\"T_eeeb4f26_3876_11eb_93f1_0242ac1c0002row10_col8\" class=\"data row10 col8\" >0.050000</td>\n",
              "                        <td id=\"T_eeeb4f26_3876_11eb_93f1_0242ac1c0002row10_col9\" class=\"data row10 col9\" >0.050000</td>\n",
              "                        <td id=\"T_eeeb4f26_3876_11eb_93f1_0242ac1c0002row10_col10\" class=\"data row10 col10\" >5</td>\n",
              "            </tr>\n",
              "            <tr>\n",
              "                        <th id=\"T_eeeb4f26_3876_11eb_93f1_0242ac1c0002level0_row11\" class=\"row_heading level0 row11\" >Doc11</th>\n",
              "                        <td id=\"T_eeeb4f26_3876_11eb_93f1_0242ac1c0002row11_col0\" class=\"data row11 col0\" >0.010000</td>\n",
              "                        <td id=\"T_eeeb4f26_3876_11eb_93f1_0242ac1c0002row11_col1\" class=\"data row11 col1\" >0.010000</td>\n",
              "                        <td id=\"T_eeeb4f26_3876_11eb_93f1_0242ac1c0002row11_col2\" class=\"data row11 col2\" >0.010000</td>\n",
              "                        <td id=\"T_eeeb4f26_3876_11eb_93f1_0242ac1c0002row11_col3\" class=\"data row11 col3\" >0.010000</td>\n",
              "                        <td id=\"T_eeeb4f26_3876_11eb_93f1_0242ac1c0002row11_col4\" class=\"data row11 col4\" >0.010000</td>\n",
              "                        <td id=\"T_eeeb4f26_3876_11eb_93f1_0242ac1c0002row11_col5\" class=\"data row11 col5\" >0.010000</td>\n",
              "                        <td id=\"T_eeeb4f26_3876_11eb_93f1_0242ac1c0002row11_col6\" class=\"data row11 col6\" >0.810000</td>\n",
              "                        <td id=\"T_eeeb4f26_3876_11eb_93f1_0242ac1c0002row11_col7\" class=\"data row11 col7\" >0.010000</td>\n",
              "                        <td id=\"T_eeeb4f26_3876_11eb_93f1_0242ac1c0002row11_col8\" class=\"data row11 col8\" >0.010000</td>\n",
              "                        <td id=\"T_eeeb4f26_3876_11eb_93f1_0242ac1c0002row11_col9\" class=\"data row11 col9\" >0.120000</td>\n",
              "                        <td id=\"T_eeeb4f26_3876_11eb_93f1_0242ac1c0002row11_col10\" class=\"data row11 col10\" >6</td>\n",
              "            </tr>\n",
              "            <tr>\n",
              "                        <th id=\"T_eeeb4f26_3876_11eb_93f1_0242ac1c0002level0_row12\" class=\"row_heading level0 row12\" >Doc12</th>\n",
              "                        <td id=\"T_eeeb4f26_3876_11eb_93f1_0242ac1c0002row12_col0\" class=\"data row12 col0\" >0.050000</td>\n",
              "                        <td id=\"T_eeeb4f26_3876_11eb_93f1_0242ac1c0002row12_col1\" class=\"data row12 col1\" >0.050000</td>\n",
              "                        <td id=\"T_eeeb4f26_3876_11eb_93f1_0242ac1c0002row12_col2\" class=\"data row12 col2\" >0.050000</td>\n",
              "                        <td id=\"T_eeeb4f26_3876_11eb_93f1_0242ac1c0002row12_col3\" class=\"data row12 col3\" >0.050000</td>\n",
              "                        <td id=\"T_eeeb4f26_3876_11eb_93f1_0242ac1c0002row12_col4\" class=\"data row12 col4\" >0.050000</td>\n",
              "                        <td id=\"T_eeeb4f26_3876_11eb_93f1_0242ac1c0002row12_col5\" class=\"data row12 col5\" >0.050000</td>\n",
              "                        <td id=\"T_eeeb4f26_3876_11eb_93f1_0242ac1c0002row12_col6\" class=\"data row12 col6\" >0.050000</td>\n",
              "                        <td id=\"T_eeeb4f26_3876_11eb_93f1_0242ac1c0002row12_col7\" class=\"data row12 col7\" >0.050000</td>\n",
              "                        <td id=\"T_eeeb4f26_3876_11eb_93f1_0242ac1c0002row12_col8\" class=\"data row12 col8\" >0.050000</td>\n",
              "                        <td id=\"T_eeeb4f26_3876_11eb_93f1_0242ac1c0002row12_col9\" class=\"data row12 col9\" >0.550000</td>\n",
              "                        <td id=\"T_eeeb4f26_3876_11eb_93f1_0242ac1c0002row12_col10\" class=\"data row12 col10\" >9</td>\n",
              "            </tr>\n",
              "            <tr>\n",
              "                        <th id=\"T_eeeb4f26_3876_11eb_93f1_0242ac1c0002level0_row13\" class=\"row_heading level0 row13\" >Doc13</th>\n",
              "                        <td id=\"T_eeeb4f26_3876_11eb_93f1_0242ac1c0002row13_col0\" class=\"data row13 col0\" >0.270000</td>\n",
              "                        <td id=\"T_eeeb4f26_3876_11eb_93f1_0242ac1c0002row13_col1\" class=\"data row13 col1\" >0.030000</td>\n",
              "                        <td id=\"T_eeeb4f26_3876_11eb_93f1_0242ac1c0002row13_col2\" class=\"data row13 col2\" >0.520000</td>\n",
              "                        <td id=\"T_eeeb4f26_3876_11eb_93f1_0242ac1c0002row13_col3\" class=\"data row13 col3\" >0.030000</td>\n",
              "                        <td id=\"T_eeeb4f26_3876_11eb_93f1_0242ac1c0002row13_col4\" class=\"data row13 col4\" >0.030000</td>\n",
              "                        <td id=\"T_eeeb4f26_3876_11eb_93f1_0242ac1c0002row13_col5\" class=\"data row13 col5\" >0.030000</td>\n",
              "                        <td id=\"T_eeeb4f26_3876_11eb_93f1_0242ac1c0002row13_col6\" class=\"data row13 col6\" >0.030000</td>\n",
              "                        <td id=\"T_eeeb4f26_3876_11eb_93f1_0242ac1c0002row13_col7\" class=\"data row13 col7\" >0.030000</td>\n",
              "                        <td id=\"T_eeeb4f26_3876_11eb_93f1_0242ac1c0002row13_col8\" class=\"data row13 col8\" >0.030000</td>\n",
              "                        <td id=\"T_eeeb4f26_3876_11eb_93f1_0242ac1c0002row13_col9\" class=\"data row13 col9\" >0.030000</td>\n",
              "                        <td id=\"T_eeeb4f26_3876_11eb_93f1_0242ac1c0002row13_col10\" class=\"data row13 col10\" >2</td>\n",
              "            </tr>\n",
              "            <tr>\n",
              "                        <th id=\"T_eeeb4f26_3876_11eb_93f1_0242ac1c0002level0_row14\" class=\"row_heading level0 row14\" >Doc14</th>\n",
              "                        <td id=\"T_eeeb4f26_3876_11eb_93f1_0242ac1c0002row14_col0\" class=\"data row14 col0\" >0.050000</td>\n",
              "                        <td id=\"T_eeeb4f26_3876_11eb_93f1_0242ac1c0002row14_col1\" class=\"data row14 col1\" >0.050000</td>\n",
              "                        <td id=\"T_eeeb4f26_3876_11eb_93f1_0242ac1c0002row14_col2\" class=\"data row14 col2\" >0.050000</td>\n",
              "                        <td id=\"T_eeeb4f26_3876_11eb_93f1_0242ac1c0002row14_col3\" class=\"data row14 col3\" >0.050000</td>\n",
              "                        <td id=\"T_eeeb4f26_3876_11eb_93f1_0242ac1c0002row14_col4\" class=\"data row14 col4\" >0.550000</td>\n",
              "                        <td id=\"T_eeeb4f26_3876_11eb_93f1_0242ac1c0002row14_col5\" class=\"data row14 col5\" >0.050000</td>\n",
              "                        <td id=\"T_eeeb4f26_3876_11eb_93f1_0242ac1c0002row14_col6\" class=\"data row14 col6\" >0.050000</td>\n",
              "                        <td id=\"T_eeeb4f26_3876_11eb_93f1_0242ac1c0002row14_col7\" class=\"data row14 col7\" >0.050000</td>\n",
              "                        <td id=\"T_eeeb4f26_3876_11eb_93f1_0242ac1c0002row14_col8\" class=\"data row14 col8\" >0.050000</td>\n",
              "                        <td id=\"T_eeeb4f26_3876_11eb_93f1_0242ac1c0002row14_col9\" class=\"data row14 col9\" >0.050000</td>\n",
              "                        <td id=\"T_eeeb4f26_3876_11eb_93f1_0242ac1c0002row14_col10\" class=\"data row14 col10\" >4</td>\n",
              "            </tr>\n",
              "    </tbody></table>"
            ],
            "text/plain": [
              "<pandas.io.formats.style.Styler at 0x7efee591e208>"
            ]
          },
          "metadata": {
            "tags": []
          },
          "execution_count": 86
        }
      ]
    },
    {
      "cell_type": "markdown",
      "metadata": {
        "id": "YN03wbrE_Xr-"
      },
      "source": [
        "Checking the keywords pertaining to each topic."
      ]
    },
    {
      "cell_type": "code",
      "metadata": {
        "colab": {
          "base_uri": "https://localhost:8080/",
          "height": 245
        },
        "id": "X9Dik3lr96rn",
        "outputId": "ccc95ffc-9770-4c30-f822-de7f857c57ad"
      },
      "source": [
        "# Topic-Keyword Matrix\n",
        "df_topic_keywords = pd.DataFrame(best_lda_model.components_)\n",
        "# Assign Column and Index\n",
        "df_topic_keywords.columns = vectorizer.get_feature_names()\n",
        "df_topic_keywords.index = topicnames\n",
        "# View\n",
        "df_topic_keywords.head()"
      ],
      "execution_count": null,
      "outputs": [
        {
          "output_type": "execute_result",
          "data": {
            "text/html": [
              "<div>\n",
              "<style scoped>\n",
              "    .dataframe tbody tr th:only-of-type {\n",
              "        vertical-align: middle;\n",
              "    }\n",
              "\n",
              "    .dataframe tbody tr th {\n",
              "        vertical-align: top;\n",
              "    }\n",
              "\n",
              "    .dataframe thead th {\n",
              "        text-align: right;\n",
              "    }\n",
              "</style>\n",
              "<table border=\"1\" class=\"dataframe\">\n",
              "  <thead>\n",
              "    <tr style=\"text-align: right;\">\n",
              "      <th></th>\n",
              "      <th>abend</th>\n",
              "      <th>aber</th>\n",
              "      <th>ability</th>\n",
              "      <th>acce</th>\n",
              "      <th>accept</th>\n",
              "      <th>access</th>\n",
              "      <th>accessibility</th>\n",
              "      <th>accommodate</th>\n",
              "      <th>accommodation</th>\n",
              "      <th>accomodate</th>\n",
              "      <th>accomodation</th>\n",
              "      <th>accompany</th>\n",
              "      <th>accord</th>\n",
              "      <th>account</th>\n",
              "      <th>accueillant</th>\n",
              "      <th>act</th>\n",
              "      <th>action</th>\n",
              "      <th>activite</th>\n",
              "      <th>activity</th>\n",
              "      <th>add</th>\n",
              "      <th>addition</th>\n",
              "      <th>address</th>\n",
              "      <th>adjoin</th>\n",
              "      <th>adjust</th>\n",
              "      <th>adult</th>\n",
              "      <th>advance</th>\n",
              "      <th>advantage</th>\n",
              "      <th>adventure</th>\n",
              "      <th>advertise</th>\n",
              "      <th>advice</th>\n",
              "      <th>advise</th>\n",
              "      <th>aeroport</th>\n",
              "      <th>aeroporto</th>\n",
              "      <th>affordability</th>\n",
              "      <th>afternoon</th>\n",
              "      <th>age</th>\n",
              "      <th>agency</th>\n",
              "      <th>agent</th>\n",
              "      <th>agra</th>\n",
              "      <th>agradavel</th>\n",
              "      <th>...</th>\n",
              "      <th>weather</th>\n",
              "      <th>web</th>\n",
              "      <th>website</th>\n",
              "      <th>wedding</th>\n",
              "      <th>week</th>\n",
              "      <th>weekend</th>\n",
              "      <th>weight</th>\n",
              "      <th>welcome</th>\n",
              "      <th>westerner</th>\n",
              "      <th>wheelchair</th>\n",
              "      <th>wie</th>\n",
              "      <th>wife</th>\n",
              "      <th>wifi</th>\n",
              "      <th>wildlife</th>\n",
              "      <th>win</th>\n",
              "      <th>window</th>\n",
              "      <th>wine</th>\n",
              "      <th>wing</th>\n",
              "      <th>winter</th>\n",
              "      <th>wise</th>\n",
              "      <th>wish</th>\n",
              "      <th>woman</th>\n",
              "      <th>wonder</th>\n",
              "      <th>wood</th>\n",
              "      <th>word</th>\n",
              "      <th>work</th>\n",
              "      <th>worker</th>\n",
              "      <th>working</th>\n",
              "      <th>workout</th>\n",
              "      <th>world</th>\n",
              "      <th>worry</th>\n",
              "      <th>worth</th>\n",
              "      <th>write</th>\n",
              "      <th>wurden</th>\n",
              "      <th>year</th>\n",
              "      <th>yoga</th>\n",
              "      <th>zentrale</th>\n",
              "      <th>zip</th>\n",
              "      <th>zone</th>\n",
              "      <th>zuvorkommend</th>\n",
              "    </tr>\n",
              "  </thead>\n",
              "  <tbody>\n",
              "    <tr>\n",
              "      <th>Topic0</th>\n",
              "      <td>0.100222</td>\n",
              "      <td>0.100192</td>\n",
              "      <td>0.100380</td>\n",
              "      <td>0.100168</td>\n",
              "      <td>0.100220</td>\n",
              "      <td>0.100729</td>\n",
              "      <td>0.100818</td>\n",
              "      <td>0.100254</td>\n",
              "      <td>99.913555</td>\n",
              "      <td>0.100233</td>\n",
              "      <td>0.100756</td>\n",
              "      <td>0.101319</td>\n",
              "      <td>0.100154</td>\n",
              "      <td>0.100207</td>\n",
              "      <td>0.100243</td>\n",
              "      <td>0.100164</td>\n",
              "      <td>0.105073</td>\n",
              "      <td>0.100217</td>\n",
              "      <td>0.100551</td>\n",
              "      <td>0.100662</td>\n",
              "      <td>1.640099</td>\n",
              "      <td>0.100261</td>\n",
              "      <td>0.101534</td>\n",
              "      <td>0.100289</td>\n",
              "      <td>0.101525</td>\n",
              "      <td>0.102268</td>\n",
              "      <td>0.100328</td>\n",
              "      <td>0.992336</td>\n",
              "      <td>0.110314</td>\n",
              "      <td>0.100411</td>\n",
              "      <td>0.100210</td>\n",
              "      <td>0.100192</td>\n",
              "      <td>0.100171</td>\n",
              "      <td>0.100200</td>\n",
              "      <td>0.101855</td>\n",
              "      <td>0.100181</td>\n",
              "      <td>0.100183</td>\n",
              "      <td>0.100238</td>\n",
              "      <td>0.100466</td>\n",
              "      <td>0.100186</td>\n",
              "      <td>...</td>\n",
              "      <td>0.101314</td>\n",
              "      <td>6.536794</td>\n",
              "      <td>2.890670</td>\n",
              "      <td>4.072311</td>\n",
              "      <td>12.887365</td>\n",
              "      <td>0.100243</td>\n",
              "      <td>0.100194</td>\n",
              "      <td>0.100278</td>\n",
              "      <td>0.100195</td>\n",
              "      <td>0.105447</td>\n",
              "      <td>0.100200</td>\n",
              "      <td>0.100360</td>\n",
              "      <td>790.061874</td>\n",
              "      <td>0.100198</td>\n",
              "      <td>0.100190</td>\n",
              "      <td>0.103387</td>\n",
              "      <td>0.100216</td>\n",
              "      <td>0.100180</td>\n",
              "      <td>0.100292</td>\n",
              "      <td>4.727966</td>\n",
              "      <td>0.100882</td>\n",
              "      <td>0.101323</td>\n",
              "      <td>0.100215</td>\n",
              "      <td>0.100482</td>\n",
              "      <td>0.100201</td>\n",
              "      <td>26.492088</td>\n",
              "      <td>0.100212</td>\n",
              "      <td>0.405042</td>\n",
              "      <td>0.100193</td>\n",
              "      <td>0.100898</td>\n",
              "      <td>0.103200</td>\n",
              "      <td>0.100211</td>\n",
              "      <td>0.316904</td>\n",
              "      <td>0.100210</td>\n",
              "      <td>0.192351</td>\n",
              "      <td>0.100247</td>\n",
              "      <td>0.100202</td>\n",
              "      <td>0.136819</td>\n",
              "      <td>0.100258</td>\n",
              "      <td>0.100172</td>\n",
              "    </tr>\n",
              "    <tr>\n",
              "      <th>Topic1</th>\n",
              "      <td>0.100182</td>\n",
              "      <td>0.100185</td>\n",
              "      <td>0.100177</td>\n",
              "      <td>0.100215</td>\n",
              "      <td>0.100202</td>\n",
              "      <td>34.313129</td>\n",
              "      <td>0.100251</td>\n",
              "      <td>0.100437</td>\n",
              "      <td>0.835813</td>\n",
              "      <td>0.100453</td>\n",
              "      <td>0.100183</td>\n",
              "      <td>0.102008</td>\n",
              "      <td>0.100165</td>\n",
              "      <td>0.100223</td>\n",
              "      <td>0.100185</td>\n",
              "      <td>0.100190</td>\n",
              "      <td>0.100227</td>\n",
              "      <td>0.100158</td>\n",
              "      <td>0.100300</td>\n",
              "      <td>0.100800</td>\n",
              "      <td>0.112509</td>\n",
              "      <td>0.100287</td>\n",
              "      <td>0.107738</td>\n",
              "      <td>0.100205</td>\n",
              "      <td>0.100191</td>\n",
              "      <td>0.103928</td>\n",
              "      <td>0.100218</td>\n",
              "      <td>0.100218</td>\n",
              "      <td>0.100399</td>\n",
              "      <td>0.104254</td>\n",
              "      <td>0.100497</td>\n",
              "      <td>0.100179</td>\n",
              "      <td>0.100198</td>\n",
              "      <td>0.100256</td>\n",
              "      <td>0.100695</td>\n",
              "      <td>0.100215</td>\n",
              "      <td>0.100250</td>\n",
              "      <td>0.100179</td>\n",
              "      <td>0.115105</td>\n",
              "      <td>0.100230</td>\n",
              "      <td>...</td>\n",
              "      <td>0.117839</td>\n",
              "      <td>0.100237</td>\n",
              "      <td>0.101055</td>\n",
              "      <td>0.100672</td>\n",
              "      <td>0.100397</td>\n",
              "      <td>0.100203</td>\n",
              "      <td>0.100752</td>\n",
              "      <td>0.100284</td>\n",
              "      <td>0.100180</td>\n",
              "      <td>0.110093</td>\n",
              "      <td>0.100187</td>\n",
              "      <td>0.101037</td>\n",
              "      <td>0.102872</td>\n",
              "      <td>0.106759</td>\n",
              "      <td>0.179215</td>\n",
              "      <td>0.100544</td>\n",
              "      <td>0.100526</td>\n",
              "      <td>0.100206</td>\n",
              "      <td>0.103479</td>\n",
              "      <td>0.100215</td>\n",
              "      <td>0.100752</td>\n",
              "      <td>0.207269</td>\n",
              "      <td>0.100350</td>\n",
              "      <td>1.650633</td>\n",
              "      <td>0.187421</td>\n",
              "      <td>1.038322</td>\n",
              "      <td>0.100183</td>\n",
              "      <td>0.100211</td>\n",
              "      <td>0.101115</td>\n",
              "      <td>0.100241</td>\n",
              "      <td>0.101100</td>\n",
              "      <td>0.645742</td>\n",
              "      <td>0.101351</td>\n",
              "      <td>0.100167</td>\n",
              "      <td>0.100415</td>\n",
              "      <td>0.106738</td>\n",
              "      <td>0.100155</td>\n",
              "      <td>0.101180</td>\n",
              "      <td>0.100181</td>\n",
              "      <td>0.100245</td>\n",
              "    </tr>\n",
              "    <tr>\n",
              "      <th>Topic2</th>\n",
              "      <td>0.100183</td>\n",
              "      <td>0.100172</td>\n",
              "      <td>0.104552</td>\n",
              "      <td>0.106686</td>\n",
              "      <td>29.027071</td>\n",
              "      <td>0.121005</td>\n",
              "      <td>0.101302</td>\n",
              "      <td>0.101015</td>\n",
              "      <td>0.100740</td>\n",
              "      <td>0.100209</td>\n",
              "      <td>0.100204</td>\n",
              "      <td>11.406149</td>\n",
              "      <td>0.100371</td>\n",
              "      <td>1.971308</td>\n",
              "      <td>0.100236</td>\n",
              "      <td>0.100229</td>\n",
              "      <td>17.808324</td>\n",
              "      <td>0.100236</td>\n",
              "      <td>0.100229</td>\n",
              "      <td>23.102767</td>\n",
              "      <td>0.104174</td>\n",
              "      <td>24.986158</td>\n",
              "      <td>11.850775</td>\n",
              "      <td>0.100452</td>\n",
              "      <td>0.109604</td>\n",
              "      <td>10.667278</td>\n",
              "      <td>0.100228</td>\n",
              "      <td>0.100251</td>\n",
              "      <td>0.101087</td>\n",
              "      <td>13.624900</td>\n",
              "      <td>0.100256</td>\n",
              "      <td>12.748212</td>\n",
              "      <td>0.100163</td>\n",
              "      <td>0.100222</td>\n",
              "      <td>0.100887</td>\n",
              "      <td>7.466971</td>\n",
              "      <td>0.100226</td>\n",
              "      <td>0.100321</td>\n",
              "      <td>0.103063</td>\n",
              "      <td>0.100147</td>\n",
              "      <td>...</td>\n",
              "      <td>3.809956</td>\n",
              "      <td>0.100220</td>\n",
              "      <td>25.126041</td>\n",
              "      <td>19.025417</td>\n",
              "      <td>134.735405</td>\n",
              "      <td>0.100518</td>\n",
              "      <td>0.101163</td>\n",
              "      <td>0.100288</td>\n",
              "      <td>0.100271</td>\n",
              "      <td>0.100186</td>\n",
              "      <td>0.100172</td>\n",
              "      <td>0.100457</td>\n",
              "      <td>0.100374</td>\n",
              "      <td>0.100238</td>\n",
              "      <td>0.101803</td>\n",
              "      <td>0.100401</td>\n",
              "      <td>0.100315</td>\n",
              "      <td>0.100237</td>\n",
              "      <td>13.184675</td>\n",
              "      <td>0.154745</td>\n",
              "      <td>41.019704</td>\n",
              "      <td>12.490598</td>\n",
              "      <td>6.964627</td>\n",
              "      <td>57.407666</td>\n",
              "      <td>0.125827</td>\n",
              "      <td>0.186290</td>\n",
              "      <td>0.100545</td>\n",
              "      <td>0.100214</td>\n",
              "      <td>0.101559</td>\n",
              "      <td>35.470624</td>\n",
              "      <td>0.100761</td>\n",
              "      <td>0.100864</td>\n",
              "      <td>5.959413</td>\n",
              "      <td>0.100207</td>\n",
              "      <td>122.121642</td>\n",
              "      <td>0.100476</td>\n",
              "      <td>0.100216</td>\n",
              "      <td>10.368994</td>\n",
              "      <td>0.100194</td>\n",
              "      <td>0.100205</td>\n",
              "    </tr>\n",
              "    <tr>\n",
              "      <th>Topic3</th>\n",
              "      <td>0.100167</td>\n",
              "      <td>0.100201</td>\n",
              "      <td>7.903508</td>\n",
              "      <td>0.104019</td>\n",
              "      <td>0.100278</td>\n",
              "      <td>401.753515</td>\n",
              "      <td>0.100186</td>\n",
              "      <td>0.102511</td>\n",
              "      <td>77.532559</td>\n",
              "      <td>0.100511</td>\n",
              "      <td>0.100305</td>\n",
              "      <td>0.124284</td>\n",
              "      <td>0.100289</td>\n",
              "      <td>0.131963</td>\n",
              "      <td>0.100194</td>\n",
              "      <td>15.556676</td>\n",
              "      <td>15.037929</td>\n",
              "      <td>0.100205</td>\n",
              "      <td>0.100562</td>\n",
              "      <td>0.159962</td>\n",
              "      <td>20.180640</td>\n",
              "      <td>0.100627</td>\n",
              "      <td>0.104201</td>\n",
              "      <td>0.100373</td>\n",
              "      <td>10.271584</td>\n",
              "      <td>23.077129</td>\n",
              "      <td>0.100252</td>\n",
              "      <td>0.100533</td>\n",
              "      <td>28.471766</td>\n",
              "      <td>22.673901</td>\n",
              "      <td>0.100576</td>\n",
              "      <td>0.100186</td>\n",
              "      <td>0.100196</td>\n",
              "      <td>0.100185</td>\n",
              "      <td>0.390905</td>\n",
              "      <td>0.100320</td>\n",
              "      <td>0.355296</td>\n",
              "      <td>6.832720</td>\n",
              "      <td>0.146098</td>\n",
              "      <td>0.100199</td>\n",
              "      <td>...</td>\n",
              "      <td>42.829492</td>\n",
              "      <td>2.163068</td>\n",
              "      <td>0.109302</td>\n",
              "      <td>0.101582</td>\n",
              "      <td>1.894470</td>\n",
              "      <td>0.100278</td>\n",
              "      <td>0.102003</td>\n",
              "      <td>6.856161</td>\n",
              "      <td>9.485692</td>\n",
              "      <td>0.100791</td>\n",
              "      <td>0.100208</td>\n",
              "      <td>12.052228</td>\n",
              "      <td>0.112174</td>\n",
              "      <td>0.109559</td>\n",
              "      <td>11.996219</td>\n",
              "      <td>215.659856</td>\n",
              "      <td>0.102284</td>\n",
              "      <td>8.191020</td>\n",
              "      <td>0.993046</td>\n",
              "      <td>4.114790</td>\n",
              "      <td>73.515917</td>\n",
              "      <td>8.842332</td>\n",
              "      <td>0.105737</td>\n",
              "      <td>0.101291</td>\n",
              "      <td>0.100419</td>\n",
              "      <td>748.997337</td>\n",
              "      <td>0.100447</td>\n",
              "      <td>0.103152</td>\n",
              "      <td>0.106495</td>\n",
              "      <td>0.101433</td>\n",
              "      <td>20.559358</td>\n",
              "      <td>0.100671</td>\n",
              "      <td>0.105951</td>\n",
              "      <td>0.100167</td>\n",
              "      <td>113.099928</td>\n",
              "      <td>0.100203</td>\n",
              "      <td>0.100193</td>\n",
              "      <td>0.101424</td>\n",
              "      <td>0.100391</td>\n",
              "      <td>0.100232</td>\n",
              "    </tr>\n",
              "    <tr>\n",
              "      <th>Topic4</th>\n",
              "      <td>19.567057</td>\n",
              "      <td>19.887260</td>\n",
              "      <td>0.100219</td>\n",
              "      <td>0.100262</td>\n",
              "      <td>0.100348</td>\n",
              "      <td>0.100251</td>\n",
              "      <td>147.652456</td>\n",
              "      <td>0.100238</td>\n",
              "      <td>0.100422</td>\n",
              "      <td>0.100156</td>\n",
              "      <td>0.100190</td>\n",
              "      <td>0.100197</td>\n",
              "      <td>0.100162</td>\n",
              "      <td>0.100160</td>\n",
              "      <td>0.100219</td>\n",
              "      <td>0.100218</td>\n",
              "      <td>1.488567</td>\n",
              "      <td>0.100194</td>\n",
              "      <td>0.100194</td>\n",
              "      <td>0.100670</td>\n",
              "      <td>0.100181</td>\n",
              "      <td>0.100253</td>\n",
              "      <td>0.101231</td>\n",
              "      <td>0.100170</td>\n",
              "      <td>0.100454</td>\n",
              "      <td>0.101165</td>\n",
              "      <td>0.100677</td>\n",
              "      <td>0.100203</td>\n",
              "      <td>0.104697</td>\n",
              "      <td>0.100319</td>\n",
              "      <td>0.103101</td>\n",
              "      <td>0.100168</td>\n",
              "      <td>0.100247</td>\n",
              "      <td>0.100259</td>\n",
              "      <td>0.100217</td>\n",
              "      <td>0.100195</td>\n",
              "      <td>0.100521</td>\n",
              "      <td>0.100200</td>\n",
              "      <td>0.100359</td>\n",
              "      <td>0.100754</td>\n",
              "      <td>...</td>\n",
              "      <td>0.103300</td>\n",
              "      <td>2.358181</td>\n",
              "      <td>0.100315</td>\n",
              "      <td>0.100322</td>\n",
              "      <td>0.100368</td>\n",
              "      <td>0.100200</td>\n",
              "      <td>0.103096</td>\n",
              "      <td>0.100233</td>\n",
              "      <td>0.730853</td>\n",
              "      <td>0.100216</td>\n",
              "      <td>10.053649</td>\n",
              "      <td>0.100196</td>\n",
              "      <td>0.102261</td>\n",
              "      <td>0.100200</td>\n",
              "      <td>0.100268</td>\n",
              "      <td>0.100255</td>\n",
              "      <td>0.100212</td>\n",
              "      <td>0.100216</td>\n",
              "      <td>0.100268</td>\n",
              "      <td>0.103605</td>\n",
              "      <td>0.100238</td>\n",
              "      <td>0.100233</td>\n",
              "      <td>0.100211</td>\n",
              "      <td>0.100274</td>\n",
              "      <td>0.100207</td>\n",
              "      <td>0.100306</td>\n",
              "      <td>0.100211</td>\n",
              "      <td>0.100209</td>\n",
              "      <td>0.100971</td>\n",
              "      <td>0.100336</td>\n",
              "      <td>0.100380</td>\n",
              "      <td>0.100219</td>\n",
              "      <td>0.100818</td>\n",
              "      <td>26.558963</td>\n",
              "      <td>0.100253</td>\n",
              "      <td>0.100276</td>\n",
              "      <td>27.963759</td>\n",
              "      <td>0.103299</td>\n",
              "      <td>25.171015</td>\n",
              "      <td>35.623872</td>\n",
              "    </tr>\n",
              "  </tbody>\n",
              "</table>\n",
              "<p>5 rows × 1868 columns</p>\n",
              "</div>"
            ],
            "text/plain": [
              "            abend       aber   ability  ...        zip       zone  zuvorkommend\n",
              "Topic0   0.100222   0.100192  0.100380  ...   0.136819   0.100258      0.100172\n",
              "Topic1   0.100182   0.100185  0.100177  ...   0.101180   0.100181      0.100245\n",
              "Topic2   0.100183   0.100172  0.104552  ...  10.368994   0.100194      0.100205\n",
              "Topic3   0.100167   0.100201  7.903508  ...   0.101424   0.100391      0.100232\n",
              "Topic4  19.567057  19.887260  0.100219  ...   0.103299  25.171015     35.623872\n",
              "\n",
              "[5 rows x 1868 columns]"
            ]
          },
          "metadata": {
            "tags": []
          },
          "execution_count": 87
        }
      ]
    },
    {
      "cell_type": "markdown",
      "metadata": {
        "id": "eo8Tb7YM_dad"
      },
      "source": [
        "Choosing 10 topics for our labelling problem, with words selected by the model that best suits the topic."
      ]
    },
    {
      "cell_type": "code",
      "metadata": {
        "colab": {
          "base_uri": "https://localhost:8080/",
          "height": 345
        },
        "id": "NbUbngOR-whS",
        "outputId": "64942376-6d74-4806-aab7-45951ef7fec7"
      },
      "source": [
        "# Show top n keywords for each topic\n",
        "def show_topics(vectorizer=vectorizer, lda_model=lda_model, n_words=20):\n",
        "    keywords = np.array(vectorizer.get_feature_names())\n",
        "    topic_keywords = []\n",
        "    for topic_weights in lda_model.components_:\n",
        "        top_keyword_locs = (-topic_weights).argsort()[:n_words]\n",
        "        topic_keywords.append(keywords.take(top_keyword_locs))\n",
        "    return topic_keywords\n",
        "topic_keywords = show_topics(vectorizer=vectorizer, lda_model=best_lda_model, n_words=15)\n",
        "# Topic - Keywords Dataframe\n",
        "df_topic_keywords = pd.DataFrame(topic_keywords)\n",
        "df_topic_keywords.columns = ['Word '+str(i) for i in range(df_topic_keywords.shape[1])]\n",
        "df_topic_keywords.index = ['Topic '+str(i) for i in range(df_topic_keywords.shape[0])]\n",
        "df_topic_keywords"
      ],
      "execution_count": null,
      "outputs": [
        {
          "output_type": "execute_result",
          "data": {
            "text/html": [
              "<div>\n",
              "<style scoped>\n",
              "    .dataframe tbody tr th:only-of-type {\n",
              "        vertical-align: middle;\n",
              "    }\n",
              "\n",
              "    .dataframe tbody tr th {\n",
              "        vertical-align: top;\n",
              "    }\n",
              "\n",
              "    .dataframe thead th {\n",
              "        text-align: right;\n",
              "    }\n",
              "</style>\n",
              "<table border=\"1\" class=\"dataframe\">\n",
              "  <thead>\n",
              "    <tr style=\"text-align: right;\">\n",
              "      <th></th>\n",
              "      <th>Word 0</th>\n",
              "      <th>Word 1</th>\n",
              "      <th>Word 2</th>\n",
              "      <th>Word 3</th>\n",
              "      <th>Word 4</th>\n",
              "      <th>Word 5</th>\n",
              "      <th>Word 6</th>\n",
              "      <th>Word 7</th>\n",
              "      <th>Word 8</th>\n",
              "      <th>Word 9</th>\n",
              "      <th>Word 10</th>\n",
              "      <th>Word 11</th>\n",
              "      <th>Word 12</th>\n",
              "      <th>Word 13</th>\n",
              "      <th>Word 14</th>\n",
              "    </tr>\n",
              "  </thead>\n",
              "  <tbody>\n",
              "    <tr>\n",
              "      <th>Topic 0</th>\n",
              "      <td>location</td>\n",
              "      <td>room</td>\n",
              "      <td>bed</td>\n",
              "      <td>wifi</td>\n",
              "      <td>shower</td>\n",
              "      <td>breakfast</td>\n",
              "      <td>coffee</td>\n",
              "      <td>facility</td>\n",
              "      <td>air</td>\n",
              "      <td>water</td>\n",
              "      <td>toilet</td>\n",
              "      <td>ambience</td>\n",
              "      <td>street</td>\n",
              "      <td>noise</td>\n",
              "      <td>condition</td>\n",
              "    </tr>\n",
              "    <tr>\n",
              "      <th>Topic 1</th>\n",
              "      <td>value</td>\n",
              "      <td>money</td>\n",
              "      <td>locate</td>\n",
              "      <td>parking</td>\n",
              "      <td>station</td>\n",
              "      <td>cafe</td>\n",
              "      <td>point</td>\n",
              "      <td>environment</td>\n",
              "      <td>secure</td>\n",
              "      <td>access</td>\n",
              "      <td>security</td>\n",
              "      <td>mall</td>\n",
              "      <td>bar</td>\n",
              "      <td>tune</td>\n",
              "      <td>area</td>\n",
              "    </tr>\n",
              "    <tr>\n",
              "      <th>Topic 2</th>\n",
              "      <td>stay</td>\n",
              "      <td>check</td>\n",
              "      <td>property</td>\n",
              "      <td>hotel</td>\n",
              "      <td>family</td>\n",
              "      <td>lot</td>\n",
              "      <td>tour</td>\n",
              "      <td>flight</td>\n",
              "      <td>rate</td>\n",
              "      <td>proximity</td>\n",
              "      <td>choice</td>\n",
              "      <td>person</td>\n",
              "      <td>wait</td>\n",
              "      <td>way</td>\n",
              "      <td>problem</td>\n",
              "    </tr>\n",
              "    <tr>\n",
              "      <th>Topic 3</th>\n",
              "      <td>room</td>\n",
              "      <td>view</td>\n",
              "      <td>hotel</td>\n",
              "      <td>stay</td>\n",
              "      <td>area</td>\n",
              "      <td>time</td>\n",
              "      <td>price</td>\n",
              "      <td>need</td>\n",
              "      <td>staff</td>\n",
              "      <td>city</td>\n",
              "      <td>night</td>\n",
              "      <td>day</td>\n",
              "      <td>place</td>\n",
              "      <td>floor</td>\n",
              "      <td>service</td>\n",
              "    </tr>\n",
              "    <tr>\n",
              "      <th>Topic 4</th>\n",
              "      <td>die</td>\n",
              "      <td>lage</td>\n",
              "      <td>pillow</td>\n",
              "      <td>hotel</td>\n",
              "      <td>market</td>\n",
              "      <td>lobby</td>\n",
              "      <td>gute</td>\n",
              "      <td>home</td>\n",
              "      <td>alle</td>\n",
              "      <td>war</td>\n",
              "      <td>man</td>\n",
              "      <td>und</td>\n",
              "      <td>ist</td>\n",
              "      <td>freundliche</td>\n",
              "      <td>accessibility</td>\n",
              "    </tr>\n",
              "    <tr>\n",
              "      <th>Topic 5</th>\n",
              "      <td>staff</td>\n",
              "      <td>pool</td>\n",
              "      <td>room</td>\n",
              "      <td>food</td>\n",
              "      <td>service</td>\n",
              "      <td>facility</td>\n",
              "      <td>people</td>\n",
              "      <td>size</td>\n",
              "      <td>rooftop</td>\n",
              "      <td>swim</td>\n",
              "      <td>clean</td>\n",
              "      <td>gym</td>\n",
              "      <td>request</td>\n",
              "      <td>desk</td>\n",
              "      <td>accommodate</td>\n",
              "    </tr>\n",
              "    <tr>\n",
              "      <th>Topic 6</th>\n",
              "      <td>hotel</td>\n",
              "      <td>airport</td>\n",
              "      <td>mall</td>\n",
              "      <td>walk</td>\n",
              "      <td>love</td>\n",
              "      <td>restaurant</td>\n",
              "      <td>staff</td>\n",
              "      <td>bar</td>\n",
              "      <td>cleanliness</td>\n",
              "      <td>distance</td>\n",
              "      <td>thing</td>\n",
              "      <td>shop</td>\n",
              "      <td>minute</td>\n",
              "      <td>taxi</td>\n",
              "      <td>room</td>\n",
              "    </tr>\n",
              "    <tr>\n",
              "      <th>Topic 7</th>\n",
              "      <td>tre</td>\n",
              "      <td>book</td>\n",
              "      <td>help</td>\n",
              "      <td>enjoy</td>\n",
              "      <td>make</td>\n",
              "      <td>staff</td>\n",
              "      <td>use</td>\n",
              "      <td>reception</td>\n",
              "      <td>thank</td>\n",
              "      <td>night</td>\n",
              "      <td>come</td>\n",
              "      <td>dinner</td>\n",
              "      <td>hotel</td>\n",
              "      <td>manager</td>\n",
              "      <td>day</td>\n",
              "    </tr>\n",
              "    <tr>\n",
              "      <th>Topic 8</th>\n",
              "      <td>place</td>\n",
              "      <td>water</td>\n",
              "      <td>beach</td>\n",
              "      <td>personnel</td>\n",
              "      <td>resort</td>\n",
              "      <td>comfort</td>\n",
              "      <td>relax</td>\n",
              "      <td>internet</td>\n",
              "      <td>meal</td>\n",
              "      <td>activity</td>\n",
              "      <td>light</td>\n",
              "      <td>island</td>\n",
              "      <td>situation</td>\n",
              "      <td>villa</td>\n",
              "      <td>site</td>\n",
              "    </tr>\n",
              "    <tr>\n",
              "      <th>Topic 9</th>\n",
              "      <td>breakfast</td>\n",
              "      <td>staff</td>\n",
              "      <td>room</td>\n",
              "      <td>bed</td>\n",
              "      <td>food</td>\n",
              "      <td>restaurant</td>\n",
              "      <td>hotel</td>\n",
              "      <td>buffet</td>\n",
              "      <td>bathroom</td>\n",
              "      <td>recommend</td>\n",
              "      <td>feel</td>\n",
              "      <td>look</td>\n",
              "      <td>experience</td>\n",
              "      <td>service</td>\n",
              "      <td>security</td>\n",
              "    </tr>\n",
              "  </tbody>\n",
              "</table>\n",
              "</div>"
            ],
            "text/plain": [
              "            Word 0   Word 1    Word 2  ...     Word 12      Word 13        Word 14\n",
              "Topic 0   location     room       bed  ...      street        noise      condition\n",
              "Topic 1      value    money    locate  ...         bar         tune           area\n",
              "Topic 2       stay    check  property  ...        wait          way        problem\n",
              "Topic 3       room     view     hotel  ...       place        floor        service\n",
              "Topic 4        die     lage    pillow  ...         ist  freundliche  accessibility\n",
              "Topic 5      staff     pool      room  ...     request         desk    accommodate\n",
              "Topic 6      hotel  airport      mall  ...      minute         taxi           room\n",
              "Topic 7        tre     book      help  ...       hotel      manager            day\n",
              "Topic 8      place    water     beach  ...   situation        villa           site\n",
              "Topic 9  breakfast    staff      room  ...  experience      service       security\n",
              "\n",
              "[10 rows x 15 columns]"
            ]
          },
          "metadata": {
            "tags": []
          },
          "execution_count": 88
        }
      ]
    },
    {
      "cell_type": "markdown",
      "metadata": {
        "id": "08lPtlqy_mPF"
      },
      "source": [
        "Naming the topics according to user preference, according to the words under the topic."
      ]
    },
    {
      "cell_type": "code",
      "metadata": {
        "colab": {
          "base_uri": "https://localhost:8080/",
          "height": 549
        },
        "id": "n-PoSQkE_BdY",
        "outputId": "9afcaf55-7242-4e21-dcd4-5ce2c328525b"
      },
      "source": [
        "Topics = [\"Room Facilities\",\"Location/Amenities\",\"Transportation/Accessibility\",\"Service/Staff\",\"Misc\", \n",
        "          \"Recreation\", \"Shops/Restaurants/Accessibility\", \"Staff/Responsible\", \"Relaxation/View\", \"Morning/Lunch Service\"]\n",
        "df_topic_keywords[\"Topics\"]=Topics\n",
        "df_topic_keywords"
      ],
      "execution_count": null,
      "outputs": [
        {
          "output_type": "execute_result",
          "data": {
            "text/html": [
              "<div>\n",
              "<style scoped>\n",
              "    .dataframe tbody tr th:only-of-type {\n",
              "        vertical-align: middle;\n",
              "    }\n",
              "\n",
              "    .dataframe tbody tr th {\n",
              "        vertical-align: top;\n",
              "    }\n",
              "\n",
              "    .dataframe thead th {\n",
              "        text-align: right;\n",
              "    }\n",
              "</style>\n",
              "<table border=\"1\" class=\"dataframe\">\n",
              "  <thead>\n",
              "    <tr style=\"text-align: right;\">\n",
              "      <th></th>\n",
              "      <th>Word 0</th>\n",
              "      <th>Word 1</th>\n",
              "      <th>Word 2</th>\n",
              "      <th>Word 3</th>\n",
              "      <th>Word 4</th>\n",
              "      <th>Word 5</th>\n",
              "      <th>Word 6</th>\n",
              "      <th>Word 7</th>\n",
              "      <th>Word 8</th>\n",
              "      <th>Word 9</th>\n",
              "      <th>Word 10</th>\n",
              "      <th>Word 11</th>\n",
              "      <th>Word 12</th>\n",
              "      <th>Word 13</th>\n",
              "      <th>Word 14</th>\n",
              "      <th>Topics</th>\n",
              "    </tr>\n",
              "  </thead>\n",
              "  <tbody>\n",
              "    <tr>\n",
              "      <th>Topic 0</th>\n",
              "      <td>location</td>\n",
              "      <td>room</td>\n",
              "      <td>bed</td>\n",
              "      <td>wifi</td>\n",
              "      <td>shower</td>\n",
              "      <td>breakfast</td>\n",
              "      <td>coffee</td>\n",
              "      <td>facility</td>\n",
              "      <td>air</td>\n",
              "      <td>water</td>\n",
              "      <td>toilet</td>\n",
              "      <td>ambience</td>\n",
              "      <td>street</td>\n",
              "      <td>noise</td>\n",
              "      <td>condition</td>\n",
              "      <td>Room Facilities</td>\n",
              "    </tr>\n",
              "    <tr>\n",
              "      <th>Topic 1</th>\n",
              "      <td>value</td>\n",
              "      <td>money</td>\n",
              "      <td>locate</td>\n",
              "      <td>parking</td>\n",
              "      <td>station</td>\n",
              "      <td>cafe</td>\n",
              "      <td>point</td>\n",
              "      <td>environment</td>\n",
              "      <td>secure</td>\n",
              "      <td>access</td>\n",
              "      <td>security</td>\n",
              "      <td>mall</td>\n",
              "      <td>bar</td>\n",
              "      <td>tune</td>\n",
              "      <td>area</td>\n",
              "      <td>Location/Amenities</td>\n",
              "    </tr>\n",
              "    <tr>\n",
              "      <th>Topic 2</th>\n",
              "      <td>stay</td>\n",
              "      <td>check</td>\n",
              "      <td>property</td>\n",
              "      <td>hotel</td>\n",
              "      <td>family</td>\n",
              "      <td>lot</td>\n",
              "      <td>tour</td>\n",
              "      <td>flight</td>\n",
              "      <td>rate</td>\n",
              "      <td>proximity</td>\n",
              "      <td>choice</td>\n",
              "      <td>person</td>\n",
              "      <td>wait</td>\n",
              "      <td>way</td>\n",
              "      <td>problem</td>\n",
              "      <td>Transportation/Accessibility</td>\n",
              "    </tr>\n",
              "    <tr>\n",
              "      <th>Topic 3</th>\n",
              "      <td>room</td>\n",
              "      <td>view</td>\n",
              "      <td>hotel</td>\n",
              "      <td>stay</td>\n",
              "      <td>area</td>\n",
              "      <td>time</td>\n",
              "      <td>price</td>\n",
              "      <td>need</td>\n",
              "      <td>staff</td>\n",
              "      <td>city</td>\n",
              "      <td>night</td>\n",
              "      <td>day</td>\n",
              "      <td>place</td>\n",
              "      <td>floor</td>\n",
              "      <td>service</td>\n",
              "      <td>Service/Staff</td>\n",
              "    </tr>\n",
              "    <tr>\n",
              "      <th>Topic 4</th>\n",
              "      <td>die</td>\n",
              "      <td>lage</td>\n",
              "      <td>pillow</td>\n",
              "      <td>hotel</td>\n",
              "      <td>market</td>\n",
              "      <td>lobby</td>\n",
              "      <td>gute</td>\n",
              "      <td>home</td>\n",
              "      <td>alle</td>\n",
              "      <td>war</td>\n",
              "      <td>man</td>\n",
              "      <td>und</td>\n",
              "      <td>ist</td>\n",
              "      <td>freundliche</td>\n",
              "      <td>accessibility</td>\n",
              "      <td>Misc</td>\n",
              "    </tr>\n",
              "    <tr>\n",
              "      <th>Topic 5</th>\n",
              "      <td>staff</td>\n",
              "      <td>pool</td>\n",
              "      <td>room</td>\n",
              "      <td>food</td>\n",
              "      <td>service</td>\n",
              "      <td>facility</td>\n",
              "      <td>people</td>\n",
              "      <td>size</td>\n",
              "      <td>rooftop</td>\n",
              "      <td>swim</td>\n",
              "      <td>clean</td>\n",
              "      <td>gym</td>\n",
              "      <td>request</td>\n",
              "      <td>desk</td>\n",
              "      <td>accommodate</td>\n",
              "      <td>Recreation</td>\n",
              "    </tr>\n",
              "    <tr>\n",
              "      <th>Topic 6</th>\n",
              "      <td>hotel</td>\n",
              "      <td>airport</td>\n",
              "      <td>mall</td>\n",
              "      <td>walk</td>\n",
              "      <td>love</td>\n",
              "      <td>restaurant</td>\n",
              "      <td>staff</td>\n",
              "      <td>bar</td>\n",
              "      <td>cleanliness</td>\n",
              "      <td>distance</td>\n",
              "      <td>thing</td>\n",
              "      <td>shop</td>\n",
              "      <td>minute</td>\n",
              "      <td>taxi</td>\n",
              "      <td>room</td>\n",
              "      <td>Shops/Restaurants/Accessibility</td>\n",
              "    </tr>\n",
              "    <tr>\n",
              "      <th>Topic 7</th>\n",
              "      <td>tre</td>\n",
              "      <td>book</td>\n",
              "      <td>help</td>\n",
              "      <td>enjoy</td>\n",
              "      <td>make</td>\n",
              "      <td>staff</td>\n",
              "      <td>use</td>\n",
              "      <td>reception</td>\n",
              "      <td>thank</td>\n",
              "      <td>night</td>\n",
              "      <td>come</td>\n",
              "      <td>dinner</td>\n",
              "      <td>hotel</td>\n",
              "      <td>manager</td>\n",
              "      <td>day</td>\n",
              "      <td>Staff/Responsible</td>\n",
              "    </tr>\n",
              "    <tr>\n",
              "      <th>Topic 8</th>\n",
              "      <td>place</td>\n",
              "      <td>water</td>\n",
              "      <td>beach</td>\n",
              "      <td>personnel</td>\n",
              "      <td>resort</td>\n",
              "      <td>comfort</td>\n",
              "      <td>relax</td>\n",
              "      <td>internet</td>\n",
              "      <td>meal</td>\n",
              "      <td>activity</td>\n",
              "      <td>light</td>\n",
              "      <td>island</td>\n",
              "      <td>situation</td>\n",
              "      <td>villa</td>\n",
              "      <td>site</td>\n",
              "      <td>Relaxation/View</td>\n",
              "    </tr>\n",
              "    <tr>\n",
              "      <th>Topic 9</th>\n",
              "      <td>breakfast</td>\n",
              "      <td>staff</td>\n",
              "      <td>room</td>\n",
              "      <td>bed</td>\n",
              "      <td>food</td>\n",
              "      <td>restaurant</td>\n",
              "      <td>hotel</td>\n",
              "      <td>buffet</td>\n",
              "      <td>bathroom</td>\n",
              "      <td>recommend</td>\n",
              "      <td>feel</td>\n",
              "      <td>look</td>\n",
              "      <td>experience</td>\n",
              "      <td>service</td>\n",
              "      <td>security</td>\n",
              "      <td>Morning/Lunch Service</td>\n",
              "    </tr>\n",
              "  </tbody>\n",
              "</table>\n",
              "</div>"
            ],
            "text/plain": [
              "            Word 0   Word 1  ...        Word 14                           Topics\n",
              "Topic 0   location     room  ...      condition                  Room Facilities\n",
              "Topic 1      value    money  ...           area               Location/Amenities\n",
              "Topic 2       stay    check  ...        problem     Transportation/Accessibility\n",
              "Topic 3       room     view  ...        service                    Service/Staff\n",
              "Topic 4        die     lage  ...  accessibility                             Misc\n",
              "Topic 5      staff     pool  ...    accommodate                       Recreation\n",
              "Topic 6      hotel  airport  ...           room  Shops/Restaurants/Accessibility\n",
              "Topic 7        tre     book  ...            day                Staff/Responsible\n",
              "Topic 8      place    water  ...           site                  Relaxation/View\n",
              "Topic 9  breakfast    staff  ...       security            Morning/Lunch Service\n",
              "\n",
              "[10 rows x 16 columns]"
            ]
          },
          "metadata": {
            "tags": []
          },
          "execution_count": 89
        }
      ]
    },
    {
      "cell_type": "markdown",
      "metadata": {
        "id": "_kJj8amWBcel"
      },
      "source": [
        "Creating a function to accept reviews and label them according to the topic applicable."
      ]
    },
    {
      "cell_type": "code",
      "metadata": {
        "colab": {
          "base_uri": "https://localhost:8080/"
        },
        "id": "A8oUlk3ExXIe",
        "outputId": "574f0242-589a-4354-b610-caf88adc3a69"
      },
      "source": [
        "# Define function to predict topic for a given text document.\n",
        "nlp = spacy.load('en', disable=['parser', 'ner'])\n",
        "def predict_topic(text, nlp=nlp):\n",
        "    global sent_to_words\n",
        "    global lemmatization\n",
        "# Step 1: Clean with simple_preprocess\n",
        "    mytext_2 = list(sent_to_words(text))\n",
        "# Step 2: Lemmatize\n",
        "    mytext_3 = lemmatization(mytext_2, allowed_postags=['NOUN', 'ADJ', 'VERB', 'ADV'])\n",
        "# Step 3: Vectorize transform\n",
        "    mytext_4 = vectorizer.transform(mytext_3)\n",
        "# Step 4: LDA Transform\n",
        "    topic_probability_scores = best_lda_model.transform(mytext_4)\n",
        "    topic = df_topic_keywords.iloc[np.argmax(topic_probability_scores), 1:14].values.tolist()\n",
        "    \n",
        "    # Step 5: Infer Topic\n",
        "    infer_topic = df_topic_keywords.iloc[np.argmax(topic_probability_scores), -1]\n",
        "    \n",
        "    #topic_guess = df_topic_keywords.iloc[np.argmax(topic_probability_scores), Topics]\n",
        "    return infer_topic, topic, topic_probability_scores\n",
        "# Predict the topic\n",
        "mytext = [\"Very nice hotel room and the staff is very responsible. Also liked the overall ambience. It was very peaceful and quiet.\"]\n",
        "infer_topic, topic, prob_scores = predict_topic(text = mytext)\n",
        "print(topic)\n",
        "print(infer_topic)"
      ],
      "execution_count": null,
      "outputs": [
        {
          "output_type": "stream",
          "text": [
            "['view', 'hotel', 'stay', 'area', 'time', 'price', 'need', 'staff', 'city', 'night', 'day', 'place', 'floor']\n",
            "Service/Staff\n"
          ],
          "name": "stdout"
        }
      ]
    },
    {
      "cell_type": "markdown",
      "metadata": {
        "id": "Pf-8ANuvKqCM"
      },
      "source": [
        "**CONCLUSION**\n",
        "\n",
        "Natural Language Processing (or NLP) is the science of dealing with human language or text data. One of the NLP applications is Topic Analysis, which is a technique used to discover topics across text documents.\n",
        "\n",
        "Topic analysis (also called topic detection, topic modeling, or topic extraction) is a machine learning technique that organizes and understands large collections of text data, by assigning “tags” or categories according to each individual text’s topic or theme.\n",
        "\n",
        "Topic analysis uses natural language processing (NLP) to break down human language so that you can find patterns and unlock semantic structures within texts to extract insights and help make data-driven decisions.\n",
        "\n",
        "The two most common approaches for topic analysis with machine learning are NLP topic modeling and NLP topic classification.\n",
        "\n",
        "Topic analysis can be applied at different levels of scope:\n",
        "\n",
        "1) Document-level: the topic model obtains the different topics from within a complete text. For example, the topics of an email or a news article.\n",
        "\n",
        "2) Sentence-level: the topic model obtains the topic of a single sentence. For example, the topic of a news article headline.\n",
        "\n",
        "3) Sub-sentence level: the topic model obtains the topic of sub-expressions from within a sentence. For example, different topics within a single sentence of a product review.\n",
        "\n",
        "\n",
        "The performance of topic models is dependent on the terms present in the corpus, represented as document-term-matrix. Since this matrix is sparse in nature, reducing the dimensionality may improve the model performance. However, since our corpus was not very large, we can be reasonably confident with the achieved results.\n"
      ]
    },
    {
      "cell_type": "code",
      "metadata": {
        "id": "fg-nraqhMIy3"
      },
      "source": [
        ""
      ],
      "execution_count": null,
      "outputs": []
    }
  ]
}