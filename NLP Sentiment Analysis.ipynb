{
 "cells": [
  {
   "cell_type": "markdown",
   "metadata": {},
   "source": [
    "# TripAdvisor Reviews Sentiment Analysis"
   ]
  },
  {
   "cell_type": "markdown",
   "metadata": {},
   "source": [
    "A dataset containing reviews for the Hotel review site TripAdvisor was taken and a sentiment analysis was performed on the set of selected reviews. Following are the results and the steps taken to perform the sentiment analysis."
   ]
  },
  {
   "cell_type": "markdown",
   "metadata": {},
   "source": [
    "Importing the NLP libraries spaCy and NLTK.\n",
    "\n",
    "spaCy is a free open-source library for Natural Language Processing in Python. It features NER, POS tagging, dependency parsing, word vectors and more.\n",
    "\n",
    "NLTK is a leading platform for building Python programs to work with human language data. Written by the creators of NLTK, it guides the reader through the fundamentals of writing Python programs, working with corpora, categorizing text, analyzing linguistic structure, and more.\n",
    "\n",
    "Here we also import a list of stopwords as a reference for identifying the stopwords in our project."
   ]
  },
  {
   "cell_type": "code",
   "execution_count": 1,
   "metadata": {},
   "outputs": [
    {
     "name": "stderr",
     "output_type": "stream",
     "text": [
      "[nltk_data] Downloading package stopwords to\n",
      "[nltk_data]     C:\\Users\\Neverland\\AppData\\Roaming\\nltk_data...\n",
      "[nltk_data]   Package stopwords is already up-to-date!\n"
     ]
    },
    {
     "data": {
      "text/plain": [
       "True"
      ]
     },
     "execution_count": 1,
     "metadata": {},
     "output_type": "execute_result"
    }
   ],
   "source": [
    "import spacy\n",
    "from textblob import TextBlob\n",
    "import pandas as pd\n",
    "import nltk\n",
    "nltk.download('stopwords')"
   ]
  },
  {
   "cell_type": "markdown",
   "metadata": {},
   "source": [
    "Importing the dataset and storing it in a pandas dataframe."
   ]
  },
  {
   "cell_type": "code",
   "execution_count": 2,
   "metadata": {},
   "outputs": [],
   "source": [
    "nlp = spacy.load('en_core_web_sm')"
   ]
  },
  {
   "cell_type": "code",
   "execution_count": 3,
   "metadata": {},
   "outputs": [],
   "source": [
    "df=pd.read_csv(\"TripAdvisorReviews.csv\")"
   ]
  },
  {
   "cell_type": "markdown",
   "metadata": {},
   "source": [
    "A preview of the dataset."
   ]
  },
  {
   "cell_type": "code",
   "execution_count": 4,
   "metadata": {},
   "outputs": [
    {
     "data": {
      "text/html": [
       "<div>\n",
       "<style scoped>\n",
       "    .dataframe tbody tr th:only-of-type {\n",
       "        vertical-align: middle;\n",
       "    }\n",
       "\n",
       "    .dataframe tbody tr th {\n",
       "        vertical-align: top;\n",
       "    }\n",
       "\n",
       "    .dataframe thead th {\n",
       "        text-align: right;\n",
       "    }\n",
       "</style>\n",
       "<table border=\"1\" class=\"dataframe\">\n",
       "  <thead>\n",
       "    <tr style=\"text-align: right;\">\n",
       "      <th></th>\n",
       "      <th>ID</th>\n",
       "      <th>Hotelcode</th>\n",
       "      <th>review_content</th>\n",
       "      <th>id</th>\n",
       "    </tr>\n",
       "  </thead>\n",
       "  <tbody>\n",
       "    <tr>\n",
       "      <th>0</th>\n",
       "      <td>125456</td>\n",
       "      <td>79</td>\n",
       "      <td>Really good staff and caring look after everyt...</td>\n",
       "      <td>7684053</td>\n",
       "    </tr>\n",
       "    <tr>\n",
       "      <th>1</th>\n",
       "      <td>26177</td>\n",
       "      <td>85</td>\n",
       "      <td>A simple and humble hotel, yet 1000 Miles Hote...</td>\n",
       "      <td>8279441</td>\n",
       "    </tr>\n",
       "    <tr>\n",
       "      <th>2</th>\n",
       "      <td>124330</td>\n",
       "      <td>85</td>\n",
       "      <td>Great location - walking distance to most plac...</td>\n",
       "      <td>7685864</td>\n",
       "    </tr>\n",
       "    <tr>\n",
       "      <th>3</th>\n",
       "      <td>134781</td>\n",
       "      <td>85</td>\n",
       "      <td>We spent 3 nights in this hotel. I had booked ...</td>\n",
       "      <td>7555219</td>\n",
       "    </tr>\n",
       "    <tr>\n",
       "      <th>4</th>\n",
       "      <td>246206</td>\n",
       "      <td>85</td>\n",
       "      <td>My expectations was quite high being this host...</td>\n",
       "      <td>7235691</td>\n",
       "    </tr>\n",
       "  </tbody>\n",
       "</table>\n",
       "</div>"
      ],
      "text/plain": [
       "       ID  Hotelcode                                     review_content  \\\n",
       "0  125456         79  Really good staff and caring look after everyt...   \n",
       "1   26177         85  A simple and humble hotel, yet 1000 Miles Hote...   \n",
       "2  124330         85  Great location - walking distance to most plac...   \n",
       "3  134781         85  We spent 3 nights in this hotel. I had booked ...   \n",
       "4  246206         85  My expectations was quite high being this host...   \n",
       "\n",
       "        id  \n",
       "0  7684053  \n",
       "1  8279441  \n",
       "2  7685864  \n",
       "3  7555219  \n",
       "4  7235691  "
      ]
     },
     "execution_count": 4,
     "metadata": {},
     "output_type": "execute_result"
    }
   ],
   "source": [
    "df.head()"
   ]
  },
  {
   "cell_type": "markdown",
   "metadata": {},
   "source": [
    "Using the lambda function of Python and the TextBlob library, we calculate the sentiment scores for all the reviews in the data set.\n",
    "\n",
    "TextBlob is a Python (2 and 3) library for processing textual data. It provides a simple API for diving into common natural language processing (NLP) tasks such as part-of-speech tagging, noun phrase extraction, sentiment analysis, classification, translation, and more."
   ]
  },
  {
   "cell_type": "code",
   "execution_count": 5,
   "metadata": {},
   "outputs": [],
   "source": [
    "df['sentiment'] = df['review_content'].apply(lambda x: TextBlob(x).sentiment[0])"
   ]
  },
  {
   "cell_type": "markdown",
   "metadata": {},
   "source": [
    "We assign a recommendation tag based on the sentiment score for the reviews in our dataset."
   ]
  },
  {
   "cell_type": "code",
   "execution_count": 6,
   "metadata": {},
   "outputs": [],
   "source": [
    "recom=[]\n",
    "for i in df['sentiment']:    \n",
    "    if(i>0.5):\n",
    "        recom.append('strongly recommend')\n",
    "    elif(0<i<0.5):\n",
    "        recom.append('recommend')\n",
    "    elif(-0.5<i<0):\n",
    "        recom.append('negative')\n",
    "    else:\n",
    "        recom.append('strongly negative')"
   ]
  },
  {
   "cell_type": "code",
   "execution_count": 7,
   "metadata": {},
   "outputs": [],
   "source": [
    "df['recommendation']=recom"
   ]
  },
  {
   "cell_type": "code",
   "execution_count": 8,
   "metadata": {},
   "outputs": [
    {
     "data": {
      "text/html": [
       "<div>\n",
       "<style scoped>\n",
       "    .dataframe tbody tr th:only-of-type {\n",
       "        vertical-align: middle;\n",
       "    }\n",
       "\n",
       "    .dataframe tbody tr th {\n",
       "        vertical-align: top;\n",
       "    }\n",
       "\n",
       "    .dataframe thead th {\n",
       "        text-align: right;\n",
       "    }\n",
       "</style>\n",
       "<table border=\"1\" class=\"dataframe\">\n",
       "  <thead>\n",
       "    <tr style=\"text-align: right;\">\n",
       "      <th></th>\n",
       "      <th>ID</th>\n",
       "      <th>Hotelcode</th>\n",
       "      <th>review_content</th>\n",
       "      <th>id</th>\n",
       "      <th>sentiment</th>\n",
       "      <th>recommendation</th>\n",
       "    </tr>\n",
       "  </thead>\n",
       "  <tbody>\n",
       "    <tr>\n",
       "      <th>0</th>\n",
       "      <td>125456</td>\n",
       "      <td>79</td>\n",
       "      <td>Really good staff and caring look after everyt...</td>\n",
       "      <td>7684053</td>\n",
       "      <td>0.484000</td>\n",
       "      <td>recommend</td>\n",
       "    </tr>\n",
       "    <tr>\n",
       "      <th>1</th>\n",
       "      <td>26177</td>\n",
       "      <td>85</td>\n",
       "      <td>A simple and humble hotel, yet 1000 Miles Hote...</td>\n",
       "      <td>8279441</td>\n",
       "      <td>0.246742</td>\n",
       "      <td>recommend</td>\n",
       "    </tr>\n",
       "    <tr>\n",
       "      <th>2</th>\n",
       "      <td>124330</td>\n",
       "      <td>85</td>\n",
       "      <td>Great location - walking distance to most plac...</td>\n",
       "      <td>7685864</td>\n",
       "      <td>0.424792</td>\n",
       "      <td>recommend</td>\n",
       "    </tr>\n",
       "    <tr>\n",
       "      <th>3</th>\n",
       "      <td>134781</td>\n",
       "      <td>85</td>\n",
       "      <td>We spent 3 nights in this hotel. I had booked ...</td>\n",
       "      <td>7555219</td>\n",
       "      <td>0.173958</td>\n",
       "      <td>recommend</td>\n",
       "    </tr>\n",
       "    <tr>\n",
       "      <th>4</th>\n",
       "      <td>246206</td>\n",
       "      <td>85</td>\n",
       "      <td>My expectations was quite high being this host...</td>\n",
       "      <td>7235691</td>\n",
       "      <td>-0.019028</td>\n",
       "      <td>negative</td>\n",
       "    </tr>\n",
       "    <tr>\n",
       "      <th>5</th>\n",
       "      <td>258894</td>\n",
       "      <td>85</td>\n",
       "      <td>The owner and her staff is very kind and helpf...</td>\n",
       "      <td>7232648</td>\n",
       "      <td>0.280000</td>\n",
       "      <td>recommend</td>\n",
       "    </tr>\n",
       "    <tr>\n",
       "      <th>6</th>\n",
       "      <td>32211</td>\n",
       "      <td>172</td>\n",
       "      <td>Cosy boutique hotel with outstanding service a...</td>\n",
       "      <td>8261226</td>\n",
       "      <td>0.554688</td>\n",
       "      <td>strongly recommend</td>\n",
       "    </tr>\n",
       "    <tr>\n",
       "      <th>7</th>\n",
       "      <td>60409</td>\n",
       "      <td>172</td>\n",
       "      <td>We stayed for 2 nights in this wonderful prope...</td>\n",
       "      <td>7683894</td>\n",
       "      <td>0.650000</td>\n",
       "      <td>strongly recommend</td>\n",
       "    </tr>\n",
       "    <tr>\n",
       "      <th>8</th>\n",
       "      <td>138121</td>\n",
       "      <td>172</td>\n",
       "      <td>A very quiet and beautiful bed and breakfast g...</td>\n",
       "      <td>7554225</td>\n",
       "      <td>0.537143</td>\n",
       "      <td>strongly recommend</td>\n",
       "    </tr>\n",
       "    <tr>\n",
       "      <th>9</th>\n",
       "      <td>283274</td>\n",
       "      <td>172</td>\n",
       "      <td>What is the definition of perfection? A stay a...</td>\n",
       "      <td>7138168</td>\n",
       "      <td>0.443750</td>\n",
       "      <td>recommend</td>\n",
       "    </tr>\n",
       "    <tr>\n",
       "      <th>10</th>\n",
       "      <td>114286</td>\n",
       "      <td>351</td>\n",
       "      <td>2friends is in a great location right across f...</td>\n",
       "      <td>7685385</td>\n",
       "      <td>0.057103</td>\n",
       "      <td>recommend</td>\n",
       "    </tr>\n",
       "    <tr>\n",
       "      <th>11</th>\n",
       "      <td>115837</td>\n",
       "      <td>351</td>\n",
       "      <td>I chose 2 Friends based on reviews and one sen...</td>\n",
       "      <td>7679109</td>\n",
       "      <td>0.319180</td>\n",
       "      <td>recommend</td>\n",
       "    </tr>\n",
       "    <tr>\n",
       "      <th>12</th>\n",
       "      <td>117209</td>\n",
       "      <td>351</td>\n",
       "      <td>We stayed for one night after our gorilla trek...</td>\n",
       "      <td>7685739</td>\n",
       "      <td>0.339612</td>\n",
       "      <td>recommend</td>\n",
       "    </tr>\n",
       "    <tr>\n",
       "      <th>13</th>\n",
       "      <td>164266</td>\n",
       "      <td>351</td>\n",
       "      <td>This was my first visit to Entebbe and 2 Frien...</td>\n",
       "      <td>7500724</td>\n",
       "      <td>0.563437</td>\n",
       "      <td>strongly recommend</td>\n",
       "    </tr>\n",
       "    <tr>\n",
       "      <th>14</th>\n",
       "      <td>206466</td>\n",
       "      <td>351</td>\n",
       "      <td>We stayed one night and were collected from ai...</td>\n",
       "      <td>7307362</td>\n",
       "      <td>0.334417</td>\n",
       "      <td>recommend</td>\n",
       "    </tr>\n",
       "    <tr>\n",
       "      <th>15</th>\n",
       "      <td>210517</td>\n",
       "      <td>351</td>\n",
       "      <td>Two Friend's Entebbe is a family owned and man...</td>\n",
       "      <td>7293873</td>\n",
       "      <td>0.255851</td>\n",
       "      <td>recommend</td>\n",
       "    </tr>\n",
       "    <tr>\n",
       "      <th>16</th>\n",
       "      <td>217708</td>\n",
       "      <td>351</td>\n",
       "      <td>2Friends Beach Hotel is an excellent choice! M...</td>\n",
       "      <td>7281364</td>\n",
       "      <td>0.474074</td>\n",
       "      <td>recommend</td>\n",
       "    </tr>\n",
       "    <tr>\n",
       "      <th>17</th>\n",
       "      <td>290500</td>\n",
       "      <td>351</td>\n",
       "      <td>We stayed one night at 2 Friends after a very ...</td>\n",
       "      <td>7119116</td>\n",
       "      <td>0.265923</td>\n",
       "      <td>recommend</td>\n",
       "    </tr>\n",
       "    <tr>\n",
       "      <th>18</th>\n",
       "      <td>28642</td>\n",
       "      <td>654</td>\n",
       "      <td>Just spent 2 nights at the lodge absolutely fa...</td>\n",
       "      <td>8247178</td>\n",
       "      <td>0.417045</td>\n",
       "      <td>recommend</td>\n",
       "    </tr>\n",
       "    <tr>\n",
       "      <th>19</th>\n",
       "      <td>58482</td>\n",
       "      <td>654</td>\n",
       "      <td>Beautiful peaceful position and amazing staff ...</td>\n",
       "      <td>7686462</td>\n",
       "      <td>0.542308</td>\n",
       "      <td>strongly recommend</td>\n",
       "    </tr>\n",
       "  </tbody>\n",
       "</table>\n",
       "</div>"
      ],
      "text/plain": [
       "        ID  Hotelcode                                     review_content  \\\n",
       "0   125456         79  Really good staff and caring look after everyt...   \n",
       "1    26177         85  A simple and humble hotel, yet 1000 Miles Hote...   \n",
       "2   124330         85  Great location - walking distance to most plac...   \n",
       "3   134781         85  We spent 3 nights in this hotel. I had booked ...   \n",
       "4   246206         85  My expectations was quite high being this host...   \n",
       "5   258894         85  The owner and her staff is very kind and helpf...   \n",
       "6    32211        172  Cosy boutique hotel with outstanding service a...   \n",
       "7    60409        172  We stayed for 2 nights in this wonderful prope...   \n",
       "8   138121        172  A very quiet and beautiful bed and breakfast g...   \n",
       "9   283274        172  What is the definition of perfection? A stay a...   \n",
       "10  114286        351  2friends is in a great location right across f...   \n",
       "11  115837        351  I chose 2 Friends based on reviews and one sen...   \n",
       "12  117209        351  We stayed for one night after our gorilla trek...   \n",
       "13  164266        351  This was my first visit to Entebbe and 2 Frien...   \n",
       "14  206466        351  We stayed one night and were collected from ai...   \n",
       "15  210517        351  Two Friend's Entebbe is a family owned and man...   \n",
       "16  217708        351  2Friends Beach Hotel is an excellent choice! M...   \n",
       "17  290500        351  We stayed one night at 2 Friends after a very ...   \n",
       "18   28642        654  Just spent 2 nights at the lodge absolutely fa...   \n",
       "19   58482        654  Beautiful peaceful position and amazing staff ...   \n",
       "\n",
       "         id  sentiment      recommendation  \n",
       "0   7684053   0.484000           recommend  \n",
       "1   8279441   0.246742           recommend  \n",
       "2   7685864   0.424792           recommend  \n",
       "3   7555219   0.173958           recommend  \n",
       "4   7235691  -0.019028            negative  \n",
       "5   7232648   0.280000           recommend  \n",
       "6   8261226   0.554688  strongly recommend  \n",
       "7   7683894   0.650000  strongly recommend  \n",
       "8   7554225   0.537143  strongly recommend  \n",
       "9   7138168   0.443750           recommend  \n",
       "10  7685385   0.057103           recommend  \n",
       "11  7679109   0.319180           recommend  \n",
       "12  7685739   0.339612           recommend  \n",
       "13  7500724   0.563437  strongly recommend  \n",
       "14  7307362   0.334417           recommend  \n",
       "15  7293873   0.255851           recommend  \n",
       "16  7281364   0.474074           recommend  \n",
       "17  7119116   0.265923           recommend  \n",
       "18  8247178   0.417045           recommend  \n",
       "19  7686462   0.542308  strongly recommend  "
      ]
     },
     "execution_count": 8,
     "metadata": {},
     "output_type": "execute_result"
    }
   ],
   "source": [
    "df.head(20)"
   ]
  },
  {
   "cell_type": "markdown",
   "metadata": {},
   "source": [
    "Here is a plot of the sentiment scores showing the areas where the scores are concentrated. In our example we see a high density of sentiment scores around the 0.5 mark, which implies reviews on the generally positive side are prevelant."
   ]
  },
  {
   "cell_type": "code",
   "execution_count": 9,
   "metadata": {},
   "outputs": [
    {
     "data": {
      "image/png": "[encoded data removed]",
      "text/plain": [
       "<Figure size 720x360 with 1 Axes>"
      ]
     },
     "metadata": {
      "needs_background": "light"
     },
     "output_type": "display_data"
    }
   ],
   "source": [
    "import matplotlib.pyplot as plt\n",
    "\n",
    "plt.figure(figsize=(10,5))\n",
    "\n",
    "Sentiment_count=df.groupby('sentiment').count()\n",
    "plt.bar(Sentiment_count.index.values, Sentiment_count['review_content'])\n",
    "plt.xlabel('Review Sentiments')\n",
    "plt.ylabel('Number of Review')\n",
    "plt.show()"
   ]
  },
  {
   "cell_type": "markdown",
   "metadata": {},
   "source": [
    "We have collected 21056 reviews for the analysis."
   ]
  },
  {
   "cell_type": "code",
   "execution_count": 10,
   "metadata": {},
   "outputs": [],
   "source": [
    "df1=df['review_content']"
   ]
  },
  {
   "cell_type": "code",
   "execution_count": 11,
   "metadata": {},
   "outputs": [
    {
     "data": {
      "text/plain": [
       "(21056,)"
      ]
     },
     "execution_count": 11,
     "metadata": {},
     "output_type": "execute_result"
    }
   ],
   "source": [
    "df1.shape"
   ]
  },
  {
   "cell_type": "markdown",
   "metadata": {},
   "source": [
    "Here we provide an in depth look at the sentiment intensity using the VADER Sentiment Analyser.\n",
    "\n",
    "VADER (Valence Aware Dictionary and sEntiment Reasoner) is a lexicon and rule-based sentiment analysis tool that is specifically attuned to sentiments expressed in social media, and works well on texts from other domains."
   ]
  },
  {
   "cell_type": "code",
   "execution_count": 12,
   "metadata": {},
   "outputs": [],
   "source": [
    "from vaderSentiment.vaderSentiment import SentimentIntensityAnalyzer\n",
    "from nltk.tokenize import RegexpTokenizer\n",
    "analyser = SentimentIntensityAnalyzer()"
   ]
  },
  {
   "cell_type": "code",
   "execution_count": 13,
   "metadata": {},
   "outputs": [],
   "source": [
    "pos_word_list=[]\n",
    "neu_word_list=[]\n",
    "neg_word_list=[]\n",
    "\n",
    "def sentiment_analyzer_scores(sentence):\n",
    "    \n",
    "    sid_obj = SentimentIntensityAnalyzer()\n",
    "    sentiment_dict = sid_obj.polarity_scores(sentence)\n",
    "    \n",
    "    print(\"Overall sentiment dictionary is : \", sentiment_dict) \n",
    "    print(\"sentence was rated as \", sentiment_dict['neg']*100, \"% Negative\") \n",
    "    print(\"sentence was rated as \", sentiment_dict['neu']*100, \"% Neutral\") \n",
    "    print(\"sentence was rated as \", sentiment_dict['pos']*100, \"% Positive\") \n",
    "  \n",
    "    print(\"Sentence Overall Rated As\", end = \" \") \n",
    "  \n",
    "    # decide sentiment as positive, negative and neutral \n",
    "    if sentiment_dict['compound'] >= 0.05 : \n",
    "        print(\"Positive\") \n",
    "  \n",
    "    elif sentiment_dict['compound'] <= - 0.05 : \n",
    "        print(\"Negative\") \n",
    "  \n",
    "    else : \n",
    "        print(\"Neutral\") "
   ]
  },
  {
   "cell_type": "markdown",
   "metadata": {},
   "source": [
    "Here we analyse each review by identifying the positive, neutral and negative words and then by totaling the sentiment scores for the sentences. Hence we get an understanding of the nature of the sentence in regards to what % of it was positive, neutral and negative. We get an overall rating for the sentence as well as a breakdown of the various sentiments in percentages."
   ]
  },
  {
   "cell_type": "code",
   "execution_count": 15,
   "metadata": {},
   "outputs": [
    {
     "name": "stdout",
     "output_type": "stream",
     "text": [
      "Overall sentiment dictionary is :  {'neg': 0.049, 'neu': 0.71, 'pos': 0.242, 'compound': 0.9916}\n",
      "sentence was rated as  4.9 % Negative\n",
      "sentence was rated as  71.0 % Neutral\n",
      "sentence was rated as  24.2 % Positive\n",
      "Sentence Overall Rated As Positive\n",
      "None\n"
     ]
    }
   ],
   "source": [
    "print(sentiment_analyzer_scores(df['review_content'][1]))"
   ]
  },
  {
   "cell_type": "markdown",
   "metadata": {},
   "source": [
    "A more thorough breakdown of the sentences gives us a list of positive, neutral and negative words in each review. We do so by tokenizing the words and ignoring the stop words in a sentence. Then using VADER we find out the list of positive, neutral and negative words in the sentence."
   ]
  },
  {
   "cell_type": "code",
   "execution_count": 18,
   "metadata": {},
   "outputs": [
    {
     "name": "stdout",
     "output_type": "stream",
     "text": [
      "Positive : ['happily', 'best']\n",
      "Neutral : ['A', 'simple', 'humble', 'hotel', ',', 'yet', '1000', 'Miles', 'Hotel', 'beyond', 'expectations', 'cheap', 'price', '.', 'The', 'hotel', 'clean', ',', 'provide', 'us', 'simple', 'nice', 'breakfast', 'every', 'morning', ',', 'interior', 'design', 'nice', 'take', 'nice', 'picture', 'around', '1st', 'floor', 'room', ',', 'also', 'rooftop', 'see', 'surrounding', 'area', 'clearly', '.', ',', 'staffs', 'nice', 'friendly', ',', 'even', 'though', \"'re\", 'shy', 'greet', 'us', 'every', 'time', 'helped', 'us', 'need', '.', 'The', 'hotel', 'surrounded', 'lot', 'convenience', 'stores', 'restaurants', 'easy', 'us', 'grab', 'quick', 'meal', '.', 'We', 'need', 'walk', '3', 'minutes', 'nearest', 'Masjid', 'Jamek', 'LRT', 'station', '.', 'The', 'downside', 'personal', 'preference', 'alley', 'around', 'hotel', 'pretty', 'scary', 'night', '2', 'girls', 'walk', '.', 'Nevertheless', ',', 'budget', 'hotel', 'I', 'ever', '!']\n",
      "Negative : []\n"
     ]
    }
   ],
   "source": [
    "from nltk.corpus import stopwords \n",
    "from nltk.tokenize import word_tokenize \n",
    "  \n",
    "stop_words = set(stopwords.words('english')) \n",
    "\n",
    "all_pos_words = []\n",
    "all_neu_words = []\n",
    "all_neg_words = []\n",
    "\n",
    "\n",
    "word_tokens = word_tokenize(df['review_content'][1]) \n",
    "  \n",
    "filtered_sentence = [w for w in word_tokens if not w in stop_words] \n",
    "  \n",
    "filtered_sentence = [] \n",
    "  \n",
    "for w in word_tokens: \n",
    "    if w not in stop_words: \n",
    "        filtered_sentence.append(w) \n",
    "  \n",
    "sid = SentimentIntensityAnalyzer()\n",
    "pos_word_list=[]\n",
    "neu_word_list=[]\n",
    "neg_word_list=[]\n",
    "for word in filtered_sentence:\n",
    "    if (sid.polarity_scores(word)['compound']) >= 0.5:\n",
    "        pos_word_list.append(word)\n",
    "        all_pos_words.append(word)\n",
    "    elif (sid.polarity_scores(word)['compound']) <= -0.5:\n",
    "        neg_word_list.append(word)\n",
    "        all_neg_words.append(word)\n",
    "    else:\n",
    "        neu_word_list.append(word)\n",
    "        all_neu_words.append(word)\n",
    "    \n",
    "print('Positive :',pos_word_list)        \n",
    "print('Neutral :',neu_word_list)    \n",
    "print('Negative :',neg_word_list)    "
   ]
  },
  {
   "cell_type": "markdown",
   "metadata": {},
   "source": [
    "Punkt Sentence Tokenizer. This tokenizer divides a text into a list of sentences, by using an unsupervised algorithm to build a model for abbreviation words, collocations, and words that start sentences."
   ]
  },
  {
   "cell_type": "code",
   "execution_count": 44,
   "metadata": {
    "scrolled": true
   },
   "outputs": [
    {
     "name": "stderr",
     "output_type": "stream",
     "text": [
      "[nltk_data] Downloading package punkt to\n",
      "[nltk_data]     C:\\Users\\Neverland\\AppData\\Roaming\\nltk_data...\n",
      "[nltk_data]   Package punkt is already up-to-date!\n"
     ]
    },
    {
     "data": {
      "text/plain": [
       "True"
      ]
     },
     "execution_count": 44,
     "metadata": {},
     "output_type": "execute_result"
    }
   ],
   "source": [
    "nltk.download('punkt')"
   ]
  },
  {
   "cell_type": "code",
   "execution_count": 35,
   "metadata": {},
   "outputs": [
    {
     "data": {
      "text/plain": [
       "['Really',\n",
       " 'good',\n",
       " 'staff',\n",
       " 'and',\n",
       " 'caring',\n",
       " 'look',\n",
       " 'after',\n",
       " 'everything',\n",
       " 'u',\n",
       " 'need',\n",
       " 'and',\n",
       " 'putri',\n",
       " 'spa',\n",
       " 'therapist',\n",
       " 'relaxing',\n",
       " 'and',\n",
       " 'in',\n",
       " 'front',\n",
       " 'office',\n",
       " 'krisna',\n",
       " 'he',\n",
       " 'really',\n",
       " 'helpfull',\n",
       " 'they',\n",
       " 'make',\n",
       " 'us',\n",
       " 'cook',\n",
       " 'in',\n",
       " 'their',\n",
       " 'kitchen',\n",
       " 'aswell',\n",
       " 'we',\n",
       " 'really',\n",
       " 'happy',\n",
       " 'to',\n",
       " 'stay',\n",
       " 'there',\n",
       " 'really',\n",
       " 'recommend',\n",
       " 'very',\n",
       " 'cheap',\n",
       " 'price',\n",
       " 'aswell']"
      ]
     },
     "execution_count": 35,
     "metadata": {},
     "output_type": "execute_result"
    }
   ],
   "source": [
    "word_tokens = nltk.word_tokenize(df[\"review_content\"][0])\n",
    "word_tokens"
   ]
  },
  {
   "cell_type": "markdown",
   "metadata": {},
   "source": [
    "Word densities - A frequency distribution to find out the density of positive, neutral and negative words in the reviews."
   ]
  },
  {
   "cell_type": "code",
   "execution_count": 19,
   "metadata": {},
   "outputs": [
    {
     "name": "stdout",
     "output_type": "stream",
     "text": [
      "[('great', 7548), ('best', 3412), ('amazing', 3362), ('excellent', 2995), ('comfortable', 2993), ('beautiful', 2722), ('lovely', 2006), ('enjoyed', 1883), ('wonderful', 1873), ('perfect', 1745)]\n"
     ]
    }
   ],
   "source": [
    "from nltk import FreqDist\n",
    "\n",
    "freq_dist_pos = FreqDist(all_pos_words)\n",
    "print(freq_dist_pos.most_common(10))"
   ]
  },
  {
   "cell_type": "markdown",
   "metadata": {},
   "source": [
    "The top 5 most commonly used positive words in the customers' reviews."
   ]
  },
  {
   "cell_type": "code",
   "execution_count": 26,
   "metadata": {},
   "outputs": [
    {
     "data": {
      "text/html": [
       "<div>\n",
       "<style scoped>\n",
       "    .dataframe tbody tr th:only-of-type {\n",
       "        vertical-align: middle;\n",
       "    }\n",
       "\n",
       "    .dataframe tbody tr th {\n",
       "        vertical-align: top;\n",
       "    }\n",
       "\n",
       "    .dataframe thead th {\n",
       "        text-align: right;\n",
       "    }\n",
       "</style>\n",
       "<table border=\"1\" class=\"dataframe\">\n",
       "  <thead>\n",
       "    <tr style=\"text-align: right;\">\n",
       "      <th></th>\n",
       "      <th>words</th>\n",
       "      <th>count</th>\n",
       "    </tr>\n",
       "  </thead>\n",
       "  <tbody>\n",
       "    <tr>\n",
       "      <th>0</th>\n",
       "      <td>great</td>\n",
       "      <td>7548</td>\n",
       "    </tr>\n",
       "    <tr>\n",
       "      <th>1</th>\n",
       "      <td>best</td>\n",
       "      <td>3412</td>\n",
       "    </tr>\n",
       "    <tr>\n",
       "      <th>2</th>\n",
       "      <td>amazing</td>\n",
       "      <td>3362</td>\n",
       "    </tr>\n",
       "    <tr>\n",
       "      <th>3</th>\n",
       "      <td>excellent</td>\n",
       "      <td>2995</td>\n",
       "    </tr>\n",
       "    <tr>\n",
       "      <th>4</th>\n",
       "      <td>comfortable</td>\n",
       "      <td>2993</td>\n",
       "    </tr>\n",
       "  </tbody>\n",
       "</table>\n",
       "</div>"
      ],
      "text/plain": [
       "         words  count\n",
       "0        great   7548\n",
       "1         best   3412\n",
       "2      amazing   3362\n",
       "3    excellent   2995\n",
       "4  comfortable   2993"
      ]
     },
     "execution_count": 26,
     "metadata": {},
     "output_type": "execute_result"
    }
   ],
   "source": [
    "pos_words_ncw = pd.DataFrame(freq_dist_pos.most_common(10),columns=['words', 'count'])\n",
    "pos_words_ncw.head(5)"
   ]
  },
  {
   "cell_type": "markdown",
   "metadata": {},
   "source": [
    "A frequency distribution plot showing the top 10 most commonly used positive words in the customers' reviews. "
   ]
  },
  {
   "cell_type": "code",
   "execution_count": 28,
   "metadata": {},
   "outputs": [
    {
     "data": {
      "image/png": "[encoded data removed]",
      "text/plain": [
       "<Figure size 576x576 with 1 Axes>"
      ]
     },
     "metadata": {
      "needs_background": "light"
     },
     "output_type": "display_data"
    }
   ],
   "source": [
    "fig, ax = plt.subplots(figsize=(8, 8))\n",
    "\n",
    "pos_words_ncw.sort_values(by='count').plot.barh(x='words', y='count',ax=ax, color=\"blue\")\n",
    "\n",
    "ax.set_title(\"Positive words in reviews (Without Stop or Collection Words)\")\n",
    "\n",
    "plt.show()"
   ]
  },
  {
   "cell_type": "code",
   "execution_count": 32,
   "metadata": {},
   "outputs": [
    {
     "name": "stdout",
     "output_type": "stream",
     "text": [
      "[('bad', 718), ('worst', 202), ('negative', 199), ('horrible', 101), ('disappointment', 99), ('sick', 56), ('pathetic', 54), ('die', 54), ('disgusting', 48), ('unprofessional', 44)]\n"
     ]
    }
   ],
   "source": [
    "freq_dist_neg = FreqDist(all_neg_words)\n",
    "print(freq_dist_neg.most_common(10))"
   ]
  },
  {
   "cell_type": "markdown",
   "metadata": {},
   "source": [
    "The top 5 most commonly used negative words in the customers' reviews."
   ]
  },
  {
   "cell_type": "code",
   "execution_count": 33,
   "metadata": {},
   "outputs": [
    {
     "data": {
      "text/html": [
       "<div>\n",
       "<style scoped>\n",
       "    .dataframe tbody tr th:only-of-type {\n",
       "        vertical-align: middle;\n",
       "    }\n",
       "\n",
       "    .dataframe tbody tr th {\n",
       "        vertical-align: top;\n",
       "    }\n",
       "\n",
       "    .dataframe thead th {\n",
       "        text-align: right;\n",
       "    }\n",
       "</style>\n",
       "<table border=\"1\" class=\"dataframe\">\n",
       "  <thead>\n",
       "    <tr style=\"text-align: right;\">\n",
       "      <th></th>\n",
       "      <th>words</th>\n",
       "      <th>count</th>\n",
       "    </tr>\n",
       "  </thead>\n",
       "  <tbody>\n",
       "    <tr>\n",
       "      <th>0</th>\n",
       "      <td>bad</td>\n",
       "      <td>718</td>\n",
       "    </tr>\n",
       "    <tr>\n",
       "      <th>1</th>\n",
       "      <td>worst</td>\n",
       "      <td>202</td>\n",
       "    </tr>\n",
       "    <tr>\n",
       "      <th>2</th>\n",
       "      <td>negative</td>\n",
       "      <td>199</td>\n",
       "    </tr>\n",
       "    <tr>\n",
       "      <th>3</th>\n",
       "      <td>horrible</td>\n",
       "      <td>101</td>\n",
       "    </tr>\n",
       "    <tr>\n",
       "      <th>4</th>\n",
       "      <td>disappointment</td>\n",
       "      <td>99</td>\n",
       "    </tr>\n",
       "  </tbody>\n",
       "</table>\n",
       "</div>"
      ],
      "text/plain": [
       "            words  count\n",
       "0             bad    718\n",
       "1           worst    202\n",
       "2        negative    199\n",
       "3        horrible    101\n",
       "4  disappointment     99"
      ]
     },
     "execution_count": 33,
     "metadata": {},
     "output_type": "execute_result"
    }
   ],
   "source": [
    "neg_words_ncw = pd.DataFrame(freq_dist_neg.most_common(10),columns=['words', 'count'])\n",
    "neg_words_ncw.head(5)"
   ]
  },
  {
   "cell_type": "markdown",
   "metadata": {},
   "source": [
    "A frequency distribution plot showing the top 10 most commonly used negative words in the customers' reviews."
   ]
  },
  {
   "cell_type": "code",
   "execution_count": 34,
   "metadata": {},
   "outputs": [
    {
     "data": {
      "image/png": "[encoded data removed]",
      "text/plain": [
       "<Figure size 576x576 with 1 Axes>"
      ]
     },
     "metadata": {
      "needs_background": "light"
     },
     "output_type": "display_data"
    }
   ],
   "source": [
    "fig, ax = plt.subplots(figsize=(8, 8))\n",
    "\n",
    "neg_words_ncw.sort_values(by='count').plot.barh(x='words', y='count',ax=ax, color=\"red\")\n",
    "\n",
    "ax.set_title(\"Negative words in reviews (Without Stop or Collection Words)\")\n",
    "\n",
    "plt.show()"
   ]
  },
  {
   "cell_type": "markdown",
   "metadata": {},
   "source": [
    "## Model building"
   ]
  },
  {
   "cell_type": "markdown",
   "metadata": {},
   "source": [
    "Here we try fitting a Logistic Regression model to the data to find out how it performs.\n",
    "\n",
    "Logistic regression is a statistical model that in its basic form uses a logistic function to model a binary dependent variable, although many more complex extensions exist. In regression analysis, logistic regression (or logit regression) is estimating the parameters of a logistic model (a form of binary regression)."
   ]
  },
  {
   "cell_type": "code",
   "execution_count": 60,
   "metadata": {},
   "outputs": [],
   "source": [
    "sentiment_statements=[]\n",
    "for i in df['sentiment']:    \n",
    "    if(i>0):\n",
    "        sentiment_statements.append('positive')\n",
    "    else:\n",
    "        sentiment_statements.append('negative')\n",
    "        \n",
    "df['sentiment_1']=sentiment_statements"
   ]
  },
  {
   "cell_type": "markdown",
   "metadata": {},
   "source": [
    "Classifying the sentiment scores as positive and negative only to simplify our model. "
   ]
  },
  {
   "cell_type": "code",
   "execution_count": 68,
   "metadata": {},
   "outputs": [
    {
     "data": {
      "text/html": [
       "<div>\n",
       "<style scoped>\n",
       "    .dataframe tbody tr th:only-of-type {\n",
       "        vertical-align: middle;\n",
       "    }\n",
       "\n",
       "    .dataframe tbody tr th {\n",
       "        vertical-align: top;\n",
       "    }\n",
       "\n",
       "    .dataframe thead th {\n",
       "        text-align: right;\n",
       "    }\n",
       "</style>\n",
       "<table border=\"1\" class=\"dataframe\">\n",
       "  <thead>\n",
       "    <tr style=\"text-align: right;\">\n",
       "      <th></th>\n",
       "      <th>ID</th>\n",
       "      <th>Hotelcode</th>\n",
       "      <th>review_content</th>\n",
       "      <th>id</th>\n",
       "      <th>sentiment</th>\n",
       "      <th>recommendation</th>\n",
       "      <th>sentiment_1</th>\n",
       "    </tr>\n",
       "  </thead>\n",
       "  <tbody>\n",
       "    <tr>\n",
       "      <th>0</th>\n",
       "      <td>125456</td>\n",
       "      <td>79</td>\n",
       "      <td>Really good staff and caring look after everyt...</td>\n",
       "      <td>7684053</td>\n",
       "      <td>0.484000</td>\n",
       "      <td>recommend</td>\n",
       "      <td>positive</td>\n",
       "    </tr>\n",
       "    <tr>\n",
       "      <th>1</th>\n",
       "      <td>26177</td>\n",
       "      <td>85</td>\n",
       "      <td>A simple and humble hotel, yet 1000 Miles Hote...</td>\n",
       "      <td>8279441</td>\n",
       "      <td>0.246742</td>\n",
       "      <td>recommend</td>\n",
       "      <td>positive</td>\n",
       "    </tr>\n",
       "    <tr>\n",
       "      <th>2</th>\n",
       "      <td>124330</td>\n",
       "      <td>85</td>\n",
       "      <td>Great location - walking distance to most plac...</td>\n",
       "      <td>7685864</td>\n",
       "      <td>0.424792</td>\n",
       "      <td>recommend</td>\n",
       "      <td>positive</td>\n",
       "    </tr>\n",
       "    <tr>\n",
       "      <th>3</th>\n",
       "      <td>134781</td>\n",
       "      <td>85</td>\n",
       "      <td>We spent 3 nights in this hotel. I had booked ...</td>\n",
       "      <td>7555219</td>\n",
       "      <td>0.173958</td>\n",
       "      <td>recommend</td>\n",
       "      <td>positive</td>\n",
       "    </tr>\n",
       "    <tr>\n",
       "      <th>4</th>\n",
       "      <td>246206</td>\n",
       "      <td>85</td>\n",
       "      <td>My expectations was quite high being this host...</td>\n",
       "      <td>7235691</td>\n",
       "      <td>-0.019028</td>\n",
       "      <td>negative</td>\n",
       "      <td>negative</td>\n",
       "    </tr>\n",
       "  </tbody>\n",
       "</table>\n",
       "</div>"
      ],
      "text/plain": [
       "       ID  Hotelcode                                     review_content  \\\n",
       "0  125456         79  Really good staff and caring look after everyt...   \n",
       "1   26177         85  A simple and humble hotel, yet 1000 Miles Hote...   \n",
       "2  124330         85  Great location - walking distance to most plac...   \n",
       "3  134781         85  We spent 3 nights in this hotel. I had booked ...   \n",
       "4  246206         85  My expectations was quite high being this host...   \n",
       "\n",
       "        id  sentiment recommendation sentiment_1  \n",
       "0  7684053   0.484000      recommend    positive  \n",
       "1  8279441   0.246742      recommend    positive  \n",
       "2  7685864   0.424792      recommend    positive  \n",
       "3  7555219   0.173958      recommend    positive  \n",
       "4  7235691  -0.019028       negative    negative  "
      ]
     },
     "execution_count": 68,
     "metadata": {},
     "output_type": "execute_result"
    }
   ],
   "source": [
    "del df['wordtokens']\n",
    "df.head()"
   ]
  },
  {
   "cell_type": "markdown",
   "metadata": {},
   "source": [
    "Splitting the dataset into training and testing datasets. We do a rough 70 - 30 split."
   ]
  },
  {
   "cell_type": "code",
   "execution_count": 70,
   "metadata": {},
   "outputs": [
    {
     "name": "stdout",
     "output_type": "stream",
     "text": [
      "(14700,) (14700,)\n",
      "(6356,) (6356,)\n"
     ]
    }
   ],
   "source": [
    "train_reviews=df.review_content[:14700]\n",
    "train_sentiments=df.sentiment_1[:14700]\n",
    "\n",
    "test_reviews=df.review_content[14700:]\n",
    "test_sentiments=df.sentiment_1[14700:]\n",
    "print(train_reviews.shape,train_sentiments.shape)\n",
    "print(test_reviews.shape,test_sentiments.shape)"
   ]
  },
  {
   "cell_type": "markdown",
   "metadata": {},
   "source": [
    "Tokenizing and de-noising.\n",
    "\n",
    "Essentially removing noise from words as preprocessing the data to clean it up for further operations."
   ]
  },
  {
   "cell_type": "code",
   "execution_count": 71,
   "metadata": {},
   "outputs": [],
   "source": [
    "from nltk.tokenize.toktok import ToktokTokenizer\n",
    "\n",
    "tokenizer=ToktokTokenizer()\n",
    "stopword_list=nltk.corpus.stopwords.words('english')"
   ]
  },
  {
   "cell_type": "code",
   "execution_count": 73,
   "metadata": {},
   "outputs": [],
   "source": [
    "from bs4 import BeautifulSoup\n",
    "\n",
    "def strip_html(text):\n",
    "    soup = BeautifulSoup(text, \"html.parser\")\n",
    "    return soup.get_text()\n",
    "\n",
    "def remove_between_square_brackets(text):\n",
    "    return re.sub('\\[[^]]*\\]', '', text)\n",
    "\n",
    "def denoise_text(text):\n",
    "    text = strip_html(text)\n",
    "    text = remove_between_square_brackets(text)\n",
    "    return text\n",
    "\n",
    "df['review_content']=df['review_content'].apply(denoise_text)"
   ]
  },
  {
   "cell_type": "code",
   "execution_count": 74,
   "metadata": {},
   "outputs": [],
   "source": [
    "def remove_special_characters(text, remove_digits=True):\n",
    "    pattern=r'[^a-zA-z0-9\\s]'\n",
    "    text=re.sub(pattern,'',text)\n",
    "    return text\n",
    "\n",
    "df['review_content']=df['review_content'].apply(remove_special_characters)"
   ]
  },
  {
   "cell_type": "markdown",
   "metadata": {},
   "source": [
    "Here we do the Stemming process.\n",
    "\n",
    "Stemming is the process of reducing a word to its word stem that affixes to suffixes and prefixes or to the roots of words known as a lemma. Stemming is important in natural language understanding (NLU) and natural language processing (NLP)."
   ]
  },
  {
   "cell_type": "code",
   "execution_count": 75,
   "metadata": {},
   "outputs": [],
   "source": [
    "def simple_stemmer(text):\n",
    "    ps=nltk.porter.PorterStemmer()\n",
    "    text= ' '.join([ps.stem(word) for word in text.split()])\n",
    "    return text\n",
    "\n",
    "df['review_content']=df['review_content'].apply(simple_stemmer)"
   ]
  },
  {
   "cell_type": "markdown",
   "metadata": {},
   "source": [
    "Removing stop words from the sentences."
   ]
  },
  {
   "cell_type": "code",
   "execution_count": 76,
   "metadata": {},
   "outputs": [
    {
     "name": "stdout",
     "output_type": "stream",
     "text": [
      "{'from', 'you', 'what', 'weren', 'most', \"doesn't\", \"won't\", 'their', 'few', 'there', 'she', 'do', 'didn', 'hers', 'so', 's', 'just', 'the', 'both', 'off', 'if', \"couldn't\", 'into', 'wasn', 'all', \"you'll\", 'mightn', 'why', 'too', 'now', 'needn', 'them', 'as', 'this', 're', 'aren', 'under', 'where', \"you'd\", 'an', 've', 'for', 'are', \"don't\", 'haven', 'of', 'ma', 'a', 'wouldn', 'not', \"should've\", 'myself', 'couldn', 'or', 'yourself', 'who', 'that', 'each', 'isn', 'her', 'but', \"needn't\", 'once', \"you've\", 'be', 'he', 'same', 'was', 't', 'don', 'no', 'above', \"she's\", 'when', 'while', 'after', 'again', 'below', \"didn't\", 'our', \"that'll\", 'is', 'other', 'until', 'and', 'hasn', 'my', 'some', 'has', 'to', 'him', 'ain', 'herself', 'm', 'its', \"shan't\", 'those', 'against', 'me', \"wouldn't\", 'during', \"weren't\", 'doesn', 'up', 'does', \"you're\", 'before', 'out', 'whom', 'than', 'more', 'had', 'been', 'have', 'can', 'shouldn', 'ours', 'd', \"mustn't\", 'himself', 'these', 'am', 'did', 'having', 'it', 'very', 'will', \"hadn't\", 'should', 'itself', 'with', 'were', \"mightn't\", 'mustn', 'doing', 'in', 'o', 'then', 'about', 'your', 'because', 'won', 'they', 'we', 'theirs', 'by', 'hadn', 'here', 'nor', 'only', 'further', 'which', \"hasn't\", 'his', 'i', \"shouldn't\", 'how', 'own', 'between', 'y', 'ourselves', \"aren't\", 'on', 'any', \"isn't\", 'shan', 'being', 'yourselves', \"it's\", 'yours', 'down', 'll', 'over', 'at', 'such', \"wasn't\", \"haven't\", 'themselves', 'through'}\n"
     ]
    }
   ],
   "source": [
    "stop=set(stopwords.words('english'))\n",
    "print(stop)\n",
    "\n",
    "def remove_stopwords(text, is_lower_case=False):\n",
    "    tokens = tokenizer.tokenize(text)\n",
    "    tokens = [token.strip() for token in tokens]\n",
    "    if is_lower_case:\n",
    "        filtered_tokens = [token for token in tokens if token not in stopword_list]\n",
    "    else:\n",
    "        filtered_tokens = [token for token in tokens if token.lower() not in stopword_list]\n",
    "    filtered_text = ' '.join(filtered_tokens)    \n",
    "    return filtered_text\n",
    "\n",
    "df['review_content']=df['review_content'].apply(remove_stopwords)"
   ]
  },
  {
   "cell_type": "code",
   "execution_count": 79,
   "metadata": {},
   "outputs": [],
   "source": [
    "norm_train_reviews=df.review_content[:14700]"
   ]
  },
  {
   "cell_type": "code",
   "execution_count": 80,
   "metadata": {},
   "outputs": [
    {
     "data": {
      "text/plain": [
       "'hotel room wa veri nice staff wa veri friendli custom servic wa excel special thank emili make us feel welcom take care us dure stay harri bar make us best drink ever selina spa amaz massag spa treatment xhan prepar delici egg us breakfast excel stay hotel'"
      ]
     },
     "execution_count": 80,
     "metadata": {},
     "output_type": "execute_result"
    }
   ],
   "source": [
    "norm_test_reviews=df.review_content[14700:]\n",
    "norm_test_reviews[14880]"
   ]
  },
  {
   "cell_type": "markdown",
   "metadata": {},
   "source": [
    "Building a bag of words using the feature extraction libraries of sklearn."
   ]
  },
  {
   "cell_type": "code",
   "execution_count": 82,
   "metadata": {},
   "outputs": [
    {
     "name": "stdout",
     "output_type": "stream",
     "text": [
      "BOW_cv_train: (14700, 864913)\n",
      "BOW_cv_test: (6356, 864913)\n"
     ]
    }
   ],
   "source": [
    "from sklearn.feature_extraction.text import CountVectorizer\n",
    "from sklearn.feature_extraction.text import TfidfVectorizer\n",
    "\n",
    "cv=CountVectorizer(min_df=0,max_df=1,binary=False,ngram_range=(1,3))\n",
    "\n",
    "cv_train_reviews=cv.fit_transform(norm_train_reviews)\n",
    "cv_test_reviews=cv.transform(norm_test_reviews)\n",
    "\n",
    "print('BOW_cv_train:',cv_train_reviews.shape)\n",
    "print('BOW_cv_test:',cv_test_reviews.shape)"
   ]
  },
  {
   "cell_type": "code",
   "execution_count": 83,
   "metadata": {},
   "outputs": [
    {
     "name": "stdout",
     "output_type": "stream",
     "text": [
      "Tfidf_train: (14700, 864913)\n",
      "Tfidf_test: (6356, 864913)\n"
     ]
    }
   ],
   "source": [
    "tv=TfidfVectorizer(min_df=0,max_df=1,use_idf=True,ngram_range=(1,3))\n",
    "\n",
    "tv_train_reviews=tv.fit_transform(norm_train_reviews)\n",
    "\n",
    "tv_test_reviews=tv.transform(norm_test_reviews)\n",
    "print('Tfidf_train:',tv_train_reviews.shape)\n",
    "print('Tfidf_test:',tv_test_reviews.shape)"
   ]
  },
  {
   "cell_type": "code",
   "execution_count": 86,
   "metadata": {},
   "outputs": [
    {
     "name": "stdout",
     "output_type": "stream",
     "text": [
      "(21056, 1)\n"
     ]
    }
   ],
   "source": [
    "from sklearn.preprocessing import LabelBinarizer\n",
    "lb=LabelBinarizer()\n",
    "\n",
    "sentiment_data=lb.fit_transform(df['sentiment_1'])\n",
    "print(sentiment_data.shape)"
   ]
  },
  {
   "cell_type": "code",
   "execution_count": 87,
   "metadata": {},
   "outputs": [
    {
     "name": "stdout",
     "output_type": "stream",
     "text": [
      "[[1]\n",
      " [1]\n",
      " [1]\n",
      " ...\n",
      " [1]\n",
      " [1]\n",
      " [1]]\n",
      "[[0]\n",
      " [1]\n",
      " [1]\n",
      " ...\n",
      " [1]\n",
      " [1]\n",
      " [1]]\n"
     ]
    }
   ],
   "source": [
    "train_sentiments=sentiment_data[:14700]\n",
    "test_sentiments=sentiment_data[14700:]\n",
    "print(train_sentiments)\n",
    "print(test_sentiments)"
   ]
  },
  {
   "cell_type": "markdown",
   "metadata": {},
   "source": [
    "Fitting the data to a logistic regression model."
   ]
  },
  {
   "cell_type": "code",
   "execution_count": 89,
   "metadata": {},
   "outputs": [
    {
     "name": "stderr",
     "output_type": "stream",
     "text": [
      "D:\\Anaconda\\lib\\site-packages\\sklearn\\utils\\validation.py:760: DataConversionWarning: A column-vector y was passed when a 1d array was expected. Please change the shape of y to (n_samples, ), for example using ravel().\n",
      "  y = column_or_1d(y, warn=True)\n"
     ]
    },
    {
     "name": "stdout",
     "output_type": "stream",
     "text": [
      "LogisticRegression(C=1, class_weight=None, dual=False, fit_intercept=True,\n",
      "                   intercept_scaling=1, l1_ratio=None, max_iter=500,\n",
      "                   multi_class='auto', n_jobs=None, penalty='l2',\n",
      "                   random_state=42, solver='lbfgs', tol=0.0001, verbose=0,\n",
      "                   warm_start=False)\n"
     ]
    },
    {
     "name": "stderr",
     "output_type": "stream",
     "text": [
      "D:\\Anaconda\\lib\\site-packages\\sklearn\\utils\\validation.py:760: DataConversionWarning: A column-vector y was passed when a 1d array was expected. Please change the shape of y to (n_samples, ), for example using ravel().\n",
      "  y = column_or_1d(y, warn=True)\n"
     ]
    },
    {
     "name": "stdout",
     "output_type": "stream",
     "text": [
      "LogisticRegression(C=1, class_weight=None, dual=False, fit_intercept=True,\n",
      "                   intercept_scaling=1, l1_ratio=None, max_iter=500,\n",
      "                   multi_class='auto', n_jobs=None, penalty='l2',\n",
      "                   random_state=42, solver='lbfgs', tol=0.0001, verbose=0,\n",
      "                   warm_start=False)\n"
     ]
    }
   ],
   "source": [
    "from sklearn.linear_model import LogisticRegression,SGDClassifier\n",
    "lr=LogisticRegression(penalty='l2',max_iter=500,C=1,random_state=42)\n",
    "\n",
    "lr_bow=lr.fit(cv_train_reviews,train_sentiments)\n",
    "print(lr_bow)\n",
    "\n",
    "lr_tfidf=lr.fit(tv_train_reviews,train_sentiments)\n",
    "print(lr_tfidf)"
   ]
  },
  {
   "cell_type": "markdown",
   "metadata": {},
   "source": [
    "Predicting reviews based on the test set."
   ]
  },
  {
   "cell_type": "code",
   "execution_count": 90,
   "metadata": {},
   "outputs": [
    {
     "name": "stdout",
     "output_type": "stream",
     "text": [
      "[1 1 1 ... 1 1 1]\n",
      "[1 1 1 ... 1 1 1]\n"
     ]
    }
   ],
   "source": [
    "lr_bow_predict=lr.predict(cv_test_reviews)\n",
    "print(lr_bow_predict)\n",
    "\n",
    "lr_tfidf_predict=lr.predict(tv_test_reviews)\n",
    "print(lr_tfidf_predict)"
   ]
  },
  {
   "cell_type": "markdown",
   "metadata": {},
   "source": [
    "A measure of accuracy of the model. Here we see that the model has fit very well to the data. "
   ]
  },
  {
   "cell_type": "code",
   "execution_count": 92,
   "metadata": {},
   "outputs": [
    {
     "name": "stdout",
     "output_type": "stream",
     "text": [
      "lr_bow_score : 0.9562617998741346\n",
      "lr_tfidf_score : 0.9556324732536187\n"
     ]
    }
   ],
   "source": [
    "from sklearn.metrics import classification_report,confusion_matrix,accuracy_score\n",
    "\n",
    "lr_bow_score=accuracy_score(test_sentiments,lr_bow_predict)\n",
    "print(\"lr_bow_score :\",lr_bow_score)\n",
    "\n",
    "lr_tfidf_score=accuracy_score(test_sentiments,lr_tfidf_predict)\n",
    "print(\"lr_tfidf_score :\",lr_tfidf_score)"
   ]
  },
  {
   "cell_type": "markdown",
   "metadata": {},
   "source": [
    "The precision, recall and f1-scores pertaining to out model."
   ]
  },
  {
   "cell_type": "code",
   "execution_count": 94,
   "metadata": {},
   "outputs": [
    {
     "name": "stdout",
     "output_type": "stream",
     "text": [
      "              precision    recall  f1-score   support\n",
      "\n",
      "    Positive       1.00      0.01      0.03       282\n",
      "    Negative       0.96      1.00      0.98      6074\n",
      "\n",
      "    accuracy                           0.96      6356\n",
      "   macro avg       0.98      0.51      0.50      6356\n",
      "weighted avg       0.96      0.96      0.94      6356\n",
      "\n",
      "              precision    recall  f1-score   support\n",
      "\n",
      "    Positive       0.00      0.00      0.00       282\n",
      "    Negative       0.96      1.00      0.98      6074\n",
      "\n",
      "    accuracy                           0.96      6356\n",
      "   macro avg       0.48      0.50      0.49      6356\n",
      "weighted avg       0.91      0.96      0.93      6356\n",
      "\n"
     ]
    },
    {
     "name": "stderr",
     "output_type": "stream",
     "text": [
      "D:\\Anaconda\\lib\\site-packages\\sklearn\\metrics\\_classification.py:1272: UndefinedMetricWarning: Precision and F-score are ill-defined and being set to 0.0 in labels with no predicted samples. Use `zero_division` parameter to control this behavior.\n",
      "  _warn_prf(average, modifier, msg_start, len(result))\n"
     ]
    }
   ],
   "source": [
    "lr_bow_report=classification_report(test_sentiments,lr_bow_predict,target_names=['Positive','Negative'])\n",
    "print(lr_bow_report)\n",
    "\n",
    "lr_tfidf_report=classification_report(test_sentiments,lr_tfidf_predict,target_names=['Positive','Negative'])\n",
    "print(lr_tfidf_report)"
   ]
  },
  {
   "cell_type": "markdown",
   "metadata": {},
   "source": [
    "Confusion matrix"
   ]
  },
  {
   "cell_type": "code",
   "execution_count": 105,
   "metadata": {},
   "outputs": [
    {
     "name": "stdout",
     "output_type": "stream",
     "text": [
      "[[6074    0]\n",
      " [ 278    4]]\n",
      "[[6074    0]\n",
      " [ 282    0]]\n"
     ]
    }
   ],
   "source": [
    "cm_bow=confusion_matrix(test_sentiments,lr_bow_predict,labels=[1,0])\n",
    "print(cm_bow)\n",
    "\n",
    "cm_tfidf=confusion_matrix(test_sentiments,lr_tfidf_predict,labels=[1,0])\n",
    "print(cm_tfidf)"
   ]
  },
  {
   "cell_type": "code",
   "execution_count": 96,
   "metadata": {},
   "outputs": [
    {
     "name": "stderr",
     "output_type": "stream",
     "text": [
      "D:\\Anaconda\\lib\\site-packages\\sklearn\\utils\\validation.py:760: DataConversionWarning: A column-vector y was passed when a 1d array was expected. Please change the shape of y to (n_samples, ), for example using ravel().\n",
      "  y = column_or_1d(y, warn=True)\n"
     ]
    },
    {
     "name": "stdout",
     "output_type": "stream",
     "text": [
      "SGDClassifier(alpha=0.0001, average=False, class_weight=None,\n",
      "              early_stopping=False, epsilon=0.1, eta0=0.0, fit_intercept=True,\n",
      "              l1_ratio=0.15, learning_rate='optimal', loss='hinge',\n",
      "              max_iter=500, n_iter_no_change=5, n_jobs=None, penalty='l2',\n",
      "              power_t=0.5, random_state=42, shuffle=True, tol=0.001,\n",
      "              validation_fraction=0.1, verbose=0, warm_start=False)\n",
      "SGDClassifier(alpha=0.0001, average=False, class_weight=None,\n",
      "              early_stopping=False, epsilon=0.1, eta0=0.0, fit_intercept=True,\n",
      "              l1_ratio=0.15, learning_rate='optimal', loss='hinge',\n",
      "              max_iter=500, n_iter_no_change=5, n_jobs=None, penalty='l2',\n",
      "              power_t=0.5, random_state=42, shuffle=True, tol=0.001,\n",
      "              validation_fraction=0.1, verbose=0, warm_start=False)\n"
     ]
    }
   ],
   "source": [
    "svm=SGDClassifier(loss='hinge',max_iter=500,random_state=42)\n",
    "\n",
    "svm_bow=svm.fit(cv_train_reviews,train_sentiments)\n",
    "print(svm_bow)\n",
    "\n",
    "svm_tfidf=svm.fit(tv_train_reviews,train_sentiments)\n",
    "print(svm_tfidf)"
   ]
  },
  {
   "cell_type": "code",
   "execution_count": 97,
   "metadata": {},
   "outputs": [
    {
     "name": "stdout",
     "output_type": "stream",
     "text": [
      "[1 1 1 ... 1 1 1]\n",
      "[1 1 1 ... 1 1 1]\n"
     ]
    }
   ],
   "source": [
    "svm_bow_predict=svm.predict(cv_test_reviews)\n",
    "print(svm_bow_predict)\n",
    "\n",
    "svm_tfidf_predict=svm.predict(tv_test_reviews)\n",
    "print(svm_tfidf_predict)"
   ]
  },
  {
   "cell_type": "code",
   "execution_count": 98,
   "metadata": {},
   "outputs": [
    {
     "name": "stdout",
     "output_type": "stream",
     "text": [
      "svm_bow_score : 0.9562617998741346\n",
      "svm_tfidf_score : 0.9556324732536187\n"
     ]
    }
   ],
   "source": [
    "svm_bow_score=accuracy_score(test_sentiments,svm_bow_predict)\n",
    "print(\"svm_bow_score :\",svm_bow_score)\n",
    "\n",
    "svm_tfidf_score=accuracy_score(test_sentiments,svm_tfidf_predict)\n",
    "print(\"svm_tfidf_score :\",svm_tfidf_score)"
   ]
  },
  {
   "cell_type": "markdown",
   "metadata": {},
   "source": [
    "## Conclusions:"
   ]
  },
  {
   "cell_type": "markdown",
   "metadata": {},
   "source": [
    "The TripAdvisor dataset gave us a lot of insight into the sentiments expressed by customers when they leave a review for a hotel. It was very interesting to see how analysing each review gave us an in depth look at the various underlying sentiments. We also fit a logistic regression model to the data seeing as this is a classification problem where we classify reviews according to the underlying sentiments. A few important points that we noticed from our analysis:\n",
    "\n",
    "1) Most reviews fall under favourable rather than unfavourable as positive sentiments were noticed a lot more than negative sentiments. Sentiment scores 0 - 0.8 saw the most reviews as people are very cautious in granting a hotel an extremely favourable review, but they are more likely to grant it a slightly positive or neutral review than a negative one.\n",
    "\n",
    "2) The analysis of the sentiment scores shows us that the region from which the hotel reviews were picked is generally an area with good hotels as the reviews are mostly on the postive side than the negative one.\n",
    "\n",
    "3) An overabundance of the words such as 'great' were used in positive reviews which shows us that most customers are satisfied with the hotels in the area. However the most used negative word 'bad' was used almost 10 times lesser than 'great' which shows us the consistency of the hotels in the area.\n",
    "\n",
    "4) The logistic regression model fit very well to our data and gave a pretty good accuracy score. There might have been some overfitting in the data that we have to further analyse but it shows that even lower complexity classification models will fit to the data that was given to us."
   ]
  },
  {
   "cell_type": "code",
   "execution_count": null,
   "metadata": {},
   "outputs": [],
   "source": []
  }
 ],
 "metadata": {
  "kernelspec": {
   "display_name": "Python 3",
   "language": "python",
   "name": "python3"
  },
  "language_info": {
   "codemirror_mode": {
    "name": "ipython",
    "version": 3
   },
   "file_extension": ".py",
   "mimetype": "text/x-python",
   "name": "python",
   "nbconvert_exporter": "python",
   "pygments_lexer": "ipython3",
   "version": "3.7.3"
  }
 },
 "nbformat": 4,
 "nbformat_minor": 2
}
